{
 "cells": [
  {
   "attachments": {},
   "cell_type": "markdown",
   "metadata": {},
   "source": [
    "# SP primer design\n",
    "\n",
    "## 0 Introduction\n",
    "Investigation of the predicted (SignalP) and synthetic (AutoML) signal peptide sequences requires testing under lab conditions to measure the peptide abundances. In order to achieve this, an experimental design needs to be structured and set of primers should be constructed for the insertion of the desired signal peptide sequences into the chromosome of the _A. oryzae_ RIB40\n",
    "\n",
    "\n",
    "### Agenda:\n",
    "- Isolate the top 10-15 signalP sequences \n",
    "- Construct primers to insert singalP sequences \n",
    "- Generate function to automate nucleotide-to-primer design\n",
    "- Run pytest to check for function failures"
   ]
  },
  {
   "cell_type": "code",
   "execution_count": 1,
   "metadata": {},
   "outputs": [],
   "source": [
    "import pandas as pd\n",
    "from IPython.display import Image\n",
    "from Bio import SeqIO\n",
    "from Bio.Seq import Seq\n",
    "from Bio.SeqRecord import SeqRecord"
   ]
  },
  {
   "cell_type": "code",
   "execution_count": 2,
   "metadata": {},
   "outputs": [],
   "source": [
    "#Image(filename='../Data/primer_design.png')"
   ]
  },
  {
   "attachments": {},
   "cell_type": "markdown",
   "metadata": {},
   "source": [
    "## 1 Primer design"
   ]
  },
  {
   "cell_type": "code",
   "execution_count": 3,
   "metadata": {},
   "outputs": [
    {
     "data": {
      "text/plain": [
       "SeqRecord(seq=Seq('ATGCTAATCTCATCAGTGGCGAAGGATGGCTATGGGAAAGACATCTGGACCCTC...TAG'), id='AO090005000001-T', name='AO090005000001-T', description='AO090005000001-T | organism=Aspergillus_oryzae_RIB40 | product=protein of unknown function | location=Chr1_A_oryzae_RIB40:6423868-6424804(+) | length=937 | sequence_SO=chromosome | SO=protein_coding_gene', dbxrefs=[])"
      ]
     },
     "execution_count": 3,
     "metadata": {},
     "output_type": "execute_result"
    }
   ],
   "source": [
    "path_to_cds_file = '/Users/lucaslevassor/projects/Signal_peptide_project/data/00_A_oryzae_genome_and_partitions/a_oryze_genome_and_partitions/FungiDB-63_AoryzaeRIB40_AnnotatedCDSs.fasta'  \n",
    "\n",
    "# Create an empty lists to hold annotated coding sequences (CDSs)\n",
    "cds_seqrecords = []\n",
    "\n",
    "# Open file with \"with\" statement to avoid problems with access \n",
    "with open(path_to_cds_file , mode='r') as handle:\n",
    "    for record in SeqIO.parse(handle, 'fasta'):\n",
    "\n",
    "        # Extract individual parts of the FASTA record\n",
    "        identifier = record.id\n",
    "        description = record.description\n",
    "        sequence = record.seq\n",
    "        # append the CDs into the empty list\n",
    "        cds_seqrecords.append(record)\n",
    "\n",
    "cds_seqrecords[0]"
   ]
  },
  {
   "cell_type": "code",
   "execution_count": 4,
   "metadata": {},
   "outputs": [
    {
     "data": {
      "text/html": [
       "<div>\n",
       "<style scoped>\n",
       "    .dataframe tbody tr th:only-of-type {\n",
       "        vertical-align: middle;\n",
       "    }\n",
       "\n",
       "    .dataframe tbody tr th {\n",
       "        vertical-align: top;\n",
       "    }\n",
       "\n",
       "    .dataframe thead th {\n",
       "        text-align: right;\n",
       "    }\n",
       "</style>\n",
       "<table border=\"1\" class=\"dataframe\">\n",
       "  <thead>\n",
       "    <tr style=\"text-align: right;\">\n",
       "      <th></th>\n",
       "      <th>Accession</th>\n",
       "      <th>MM mean abundances (Scaled)</th>\n",
       "      <th>MM mean abundances (Scaled-Normalized)</th>\n",
       "      <th>MM + Nitrogen mean abundances (Scaled)</th>\n",
       "      <th>MM + Nitrogen mean abundances (Scaled-Normalized)</th>\n",
       "      <th>MM mean abundances (Raw)</th>\n",
       "      <th>MM mean abundances (Raw-Normalized)</th>\n",
       "      <th>MM + Nitrogen mean abundances (Raw)</th>\n",
       "      <th>MM + Nitrogen mean abundances (Raw-Normalized)</th>\n",
       "      <th>Unnamed: 0</th>\n",
       "      <th>start_pos</th>\n",
       "      <th>end_pos</th>\n",
       "      <th>Propability for correct peptide identification</th>\n",
       "      <th>Peptide sequences</th>\n",
       "      <th>max_abundance</th>\n",
       "      <th>length</th>\n",
       "    </tr>\n",
       "  </thead>\n",
       "  <tbody>\n",
       "    <tr>\n",
       "      <th>0</th>\n",
       "      <td>AO090003001591</td>\n",
       "      <td>230.066667</td>\n",
       "      <td>0.058537</td>\n",
       "      <td>69.166667</td>\n",
       "      <td>0.058537</td>\n",
       "      <td>1.047763e+10</td>\n",
       "      <td>1.000000</td>\n",
       "      <td>4.066686e+09</td>\n",
       "      <td>1.000000</td>\n",
       "      <td>954</td>\n",
       "      <td>0</td>\n",
       "      <td>22</td>\n",
       "      <td>0.999866</td>\n",
       "      <td>MMVAWWSLFLYGLQVAAPALAA</td>\n",
       "      <td>1.047763e+10</td>\n",
       "      <td>22</td>\n",
       "    </tr>\n",
       "    <tr>\n",
       "      <th>1</th>\n",
       "      <td>AO090103000076</td>\n",
       "      <td>0.700000</td>\n",
       "      <td>0.430035</td>\n",
       "      <td>472.900000</td>\n",
       "      <td>0.430035</td>\n",
       "      <td>1.496427e+06</td>\n",
       "      <td>0.000144</td>\n",
       "      <td>1.202415e+09</td>\n",
       "      <td>0.339312</td>\n",
       "      <td>3060</td>\n",
       "      <td>0</td>\n",
       "      <td>20</td>\n",
       "      <td>0.999835</td>\n",
       "      <td>MLRVSAIFMACLLLATAAPT</td>\n",
       "      <td>1.202415e+09</td>\n",
       "      <td>20</td>\n",
       "    </tr>\n",
       "    <tr>\n",
       "      <th>2</th>\n",
       "      <td>AO090023000944</td>\n",
       "      <td>250.433333</td>\n",
       "      <td>0.044270</td>\n",
       "      <td>53.733333</td>\n",
       "      <td>0.044270</td>\n",
       "      <td>2.632887e+08</td>\n",
       "      <td>0.025062</td>\n",
       "      <td>7.327970e+07</td>\n",
       "      <td>0.017628</td>\n",
       "      <td>1194</td>\n",
       "      <td>0</td>\n",
       "      <td>22</td>\n",
       "      <td>0.999845</td>\n",
       "      <td>MMVAWWSLFLYGLQVAAPALAA</td>\n",
       "      <td>2.632887e+08</td>\n",
       "      <td>22</td>\n",
       "    </tr>\n",
       "    <tr>\n",
       "      <th>3</th>\n",
       "      <td>AO090701000295</td>\n",
       "      <td>25.100000</td>\n",
       "      <td>0.057768</td>\n",
       "      <td>64.266667</td>\n",
       "      <td>0.057768</td>\n",
       "      <td>8.256355e+07</td>\n",
       "      <td>0.007850</td>\n",
       "      <td>2.593517e+08</td>\n",
       "      <td>0.071338</td>\n",
       "      <td>2013</td>\n",
       "      <td>0</td>\n",
       "      <td>19</td>\n",
       "      <td>0.999790</td>\n",
       "      <td>MHLPTLVTLACMAVSASAF</td>\n",
       "      <td>2.593517e+08</td>\n",
       "      <td>19</td>\n",
       "    </tr>\n",
       "    <tr>\n",
       "      <th>4</th>\n",
       "      <td>AO090012000708</td>\n",
       "      <td>10.500000</td>\n",
       "      <td>0.107206</td>\n",
       "      <td>117.466667</td>\n",
       "      <td>0.107206</td>\n",
       "      <td>1.564901e+07</td>\n",
       "      <td>0.001493</td>\n",
       "      <td>2.093152e+08</td>\n",
       "      <td>0.060200</td>\n",
       "      <td>1494</td>\n",
       "      <td>0</td>\n",
       "      <td>19</td>\n",
       "      <td>0.999861</td>\n",
       "      <td>MKISAAISTALLAVSAAAF</td>\n",
       "      <td>2.093152e+08</td>\n",
       "      <td>19</td>\n",
       "    </tr>\n",
       "    <tr>\n",
       "      <th>5</th>\n",
       "      <td>AO090005001090</td>\n",
       "      <td>79.666667</td>\n",
       "      <td>0.020029</td>\n",
       "      <td>23.400000</td>\n",
       "      <td>0.020029</td>\n",
       "      <td>2.068820e+08</td>\n",
       "      <td>0.019565</td>\n",
       "      <td>7.587098e+07</td>\n",
       "      <td>0.019066</td>\n",
       "      <td>222</td>\n",
       "      <td>0</td>\n",
       "      <td>20</td>\n",
       "      <td>0.999811</td>\n",
       "      <td>MYFNYAAATLAALLPLCSAQ</td>\n",
       "      <td>2.068820e+08</td>\n",
       "      <td>20</td>\n",
       "    </tr>\n",
       "    <tr>\n",
       "      <th>6</th>\n",
       "      <td>AO090023000905</td>\n",
       "      <td>94.100000</td>\n",
       "      <td>0.031471</td>\n",
       "      <td>37.533333</td>\n",
       "      <td>0.031471</td>\n",
       "      <td>1.906292e+08</td>\n",
       "      <td>0.018059</td>\n",
       "      <td>9.725510e+07</td>\n",
       "      <td>0.023556</td>\n",
       "      <td>1182</td>\n",
       "      <td>0</td>\n",
       "      <td>19</td>\n",
       "      <td>0.999839</td>\n",
       "      <td>MFIKYALPALAAAQAVFAA</td>\n",
       "      <td>1.906292e+08</td>\n",
       "      <td>19</td>\n",
       "    </tr>\n",
       "    <tr>\n",
       "      <th>7</th>\n",
       "      <td>AO090038000279</td>\n",
       "      <td>50.966667</td>\n",
       "      <td>0.019900</td>\n",
       "      <td>25.933333</td>\n",
       "      <td>0.019900</td>\n",
       "      <td>1.372809e+08</td>\n",
       "      <td>0.012766</td>\n",
       "      <td>9.172335e+07</td>\n",
       "      <td>0.019407</td>\n",
       "      <td>2454</td>\n",
       "      <td>0</td>\n",
       "      <td>20</td>\n",
       "      <td>0.999803</td>\n",
       "      <td>MRTAGLLSLLLAAIPAVTAE</td>\n",
       "      <td>1.372809e+08</td>\n",
       "      <td>20</td>\n",
       "    </tr>\n",
       "    <tr>\n",
       "      <th>8</th>\n",
       "      <td>AO090005000409</td>\n",
       "      <td>80.000000</td>\n",
       "      <td>0.098956</td>\n",
       "      <td>121.066667</td>\n",
       "      <td>0.098956</td>\n",
       "      <td>6.198183e+07</td>\n",
       "      <td>0.005919</td>\n",
       "      <td>1.244136e+08</td>\n",
       "      <td>0.029343</td>\n",
       "      <td>105</td>\n",
       "      <td>0</td>\n",
       "      <td>20</td>\n",
       "      <td>0.999745</td>\n",
       "      <td>MKFNAVALTLATAGSLVAGQ</td>\n",
       "      <td>1.244136e+08</td>\n",
       "      <td>20</td>\n",
       "    </tr>\n",
       "    <tr>\n",
       "      <th>9</th>\n",
       "      <td>AO090003000354</td>\n",
       "      <td>8.533333</td>\n",
       "      <td>0.261239</td>\n",
       "      <td>291.066667</td>\n",
       "      <td>0.261239</td>\n",
       "      <td>1.837025e+06</td>\n",
       "      <td>0.000178</td>\n",
       "      <td>7.771313e+07</td>\n",
       "      <td>0.021945</td>\n",
       "      <td>714</td>\n",
       "      <td>0</td>\n",
       "      <td>16</td>\n",
       "      <td>0.999792</td>\n",
       "      <td>MRSLLWASLLSGVLAG</td>\n",
       "      <td>7.771313e+07</td>\n",
       "      <td>16</td>\n",
       "    </tr>\n",
       "  </tbody>\n",
       "</table>\n",
       "</div>"
      ],
      "text/plain": [
       "        Accession  MM mean abundances (Scaled)  \\\n",
       "0  AO090003001591                   230.066667   \n",
       "1  AO090103000076                     0.700000   \n",
       "2  AO090023000944                   250.433333   \n",
       "3  AO090701000295                    25.100000   \n",
       "4  AO090012000708                    10.500000   \n",
       "5  AO090005001090                    79.666667   \n",
       "6  AO090023000905                    94.100000   \n",
       "7  AO090038000279                    50.966667   \n",
       "8  AO090005000409                    80.000000   \n",
       "9  AO090003000354                     8.533333   \n",
       "\n",
       "   MM mean abundances (Scaled-Normalized)  \\\n",
       "0                                0.058537   \n",
       "1                                0.430035   \n",
       "2                                0.044270   \n",
       "3                                0.057768   \n",
       "4                                0.107206   \n",
       "5                                0.020029   \n",
       "6                                0.031471   \n",
       "7                                0.019900   \n",
       "8                                0.098956   \n",
       "9                                0.261239   \n",
       "\n",
       "   MM + Nitrogen mean abundances (Scaled)  \\\n",
       "0                               69.166667   \n",
       "1                              472.900000   \n",
       "2                               53.733333   \n",
       "3                               64.266667   \n",
       "4                              117.466667   \n",
       "5                               23.400000   \n",
       "6                               37.533333   \n",
       "7                               25.933333   \n",
       "8                              121.066667   \n",
       "9                              291.066667   \n",
       "\n",
       "   MM + Nitrogen mean abundances (Scaled-Normalized)  \\\n",
       "0                                           0.058537   \n",
       "1                                           0.430035   \n",
       "2                                           0.044270   \n",
       "3                                           0.057768   \n",
       "4                                           0.107206   \n",
       "5                                           0.020029   \n",
       "6                                           0.031471   \n",
       "7                                           0.019900   \n",
       "8                                           0.098956   \n",
       "9                                           0.261239   \n",
       "\n",
       "   MM mean abundances (Raw)  MM mean abundances (Raw-Normalized)  \\\n",
       "0              1.047763e+10                             1.000000   \n",
       "1              1.496427e+06                             0.000144   \n",
       "2              2.632887e+08                             0.025062   \n",
       "3              8.256355e+07                             0.007850   \n",
       "4              1.564901e+07                             0.001493   \n",
       "5              2.068820e+08                             0.019565   \n",
       "6              1.906292e+08                             0.018059   \n",
       "7              1.372809e+08                             0.012766   \n",
       "8              6.198183e+07                             0.005919   \n",
       "9              1.837025e+06                             0.000178   \n",
       "\n",
       "   MM + Nitrogen mean abundances (Raw)  \\\n",
       "0                         4.066686e+09   \n",
       "1                         1.202415e+09   \n",
       "2                         7.327970e+07   \n",
       "3                         2.593517e+08   \n",
       "4                         2.093152e+08   \n",
       "5                         7.587098e+07   \n",
       "6                         9.725510e+07   \n",
       "7                         9.172335e+07   \n",
       "8                         1.244136e+08   \n",
       "9                         7.771313e+07   \n",
       "\n",
       "   MM + Nitrogen mean abundances (Raw-Normalized)  Unnamed: 0  start_pos  \\\n",
       "0                                        1.000000         954          0   \n",
       "1                                        0.339312        3060          0   \n",
       "2                                        0.017628        1194          0   \n",
       "3                                        0.071338        2013          0   \n",
       "4                                        0.060200        1494          0   \n",
       "5                                        0.019066         222          0   \n",
       "6                                        0.023556        1182          0   \n",
       "7                                        0.019407        2454          0   \n",
       "8                                        0.029343         105          0   \n",
       "9                                        0.021945         714          0   \n",
       "\n",
       "   end_pos  Propability for correct peptide identification  \\\n",
       "0       22                                        0.999866   \n",
       "1       20                                        0.999835   \n",
       "2       22                                        0.999845   \n",
       "3       19                                        0.999790   \n",
       "4       19                                        0.999861   \n",
       "5       20                                        0.999811   \n",
       "6       19                                        0.999839   \n",
       "7       20                                        0.999803   \n",
       "8       20                                        0.999745   \n",
       "9       16                                        0.999792   \n",
       "\n",
       "        Peptide sequences  max_abundance  length  \n",
       "0  MMVAWWSLFLYGLQVAAPALAA   1.047763e+10      22  \n",
       "1    MLRVSAIFMACLLLATAAPT   1.202415e+09      20  \n",
       "2  MMVAWWSLFLYGLQVAAPALAA   2.632887e+08      22  \n",
       "3     MHLPTLVTLACMAVSASAF   2.593517e+08      19  \n",
       "4     MKISAAISTALLAVSAAAF   2.093152e+08      19  \n",
       "5    MYFNYAAATLAALLPLCSAQ   2.068820e+08      20  \n",
       "6     MFIKYALPALAAAQAVFAA   1.906292e+08      19  \n",
       "7    MRTAGLLSLLLAAIPAVTAE   1.372809e+08      20  \n",
       "8    MKFNAVALTLATAGSLVAGQ   1.244136e+08      20  \n",
       "9        MRSLLWASLLSGVLAG   7.771313e+07      16  "
      ]
     },
     "execution_count": 4,
     "metadata": {},
     "output_type": "execute_result"
    }
   ],
   "source": [
    "# Load the latest form of the singalP dataset\n",
    "df_signalP = pd.read_csv('/Users/lucaslevassor/projects/Signal_peptide_project/data/03_proteomics_data/signalP_common_peptides_wo_NaN.csv')\n",
    "df_signalP['length'] = df_signalP['Peptide sequences'].apply(len)\n",
    "\n",
    "# Filter the acccessions which are 22 bp or shorter and isolate the top 25 values\n",
    "df_signalP_filtered = df_signalP[df_signalP[\"length\"] <= 22]\n",
    "top_signalP = df_signalP_filtered.head(10).reset_index(drop=True)\n",
    "top_signalP"
   ]
  },
  {
   "cell_type": "code",
   "execution_count": 5,
   "metadata": {},
   "outputs": [
    {
     "name": "stdout",
     "output_type": "stream",
     "text": [
      "['AO090003001591', 'AO090103000076', 'AO090023000944', 'AO090701000295', 'AO090012000708', 'AO090005001090', 'AO090023000905', 'AO090038000279', 'AO090005000409', 'AO090003000354']\n"
     ]
    }
   ],
   "source": [
    "# Isolate a list of the first 25 accessions\n",
    "top_signalP_accessions = top_signalP[\"Accession\"].tolist()\n",
    "print(top_signalP_accessions)"
   ]
  },
  {
   "cell_type": "code",
   "execution_count": 6,
   "metadata": {},
   "outputs": [
    {
     "data": {
      "text/plain": [
       "1500"
      ]
     },
     "execution_count": 6,
     "metadata": {},
     "output_type": "execute_result"
    }
   ],
   "source": [
    "# Create an empty list to hold matching SeqRecords\n",
    "top_cds_seqrecords = []\n",
    "# Loop through all SeqRecords in the dataset\n",
    "for acc in top_signalP_accessions:\n",
    "    # Check if the ID matches one of the accessions\n",
    "    for seqrecord in cds_seqrecords:\n",
    "        # If there's a match, add the SeqRecord to the list\n",
    "        if seqrecord.id.split('-')[0] == acc:\n",
    "            top_cds_seqrecords.append(seqrecord)\n",
    "\n",
    "len(top_cds_seqrecords[0])"
   ]
  },
  {
   "cell_type": "code",
   "execution_count": 7,
   "metadata": {},
   "outputs": [
    {
     "data": {
      "text/plain": [
       "[SeqRecord(seq='ATGATGGTCGCGTGGTGGTCTCTATTTCTGTACGGCCTTCAGGTCGCGGCACCTGCTTTGGCTGCA', id='AO090003001591-T', name='<unknown name>', description='AO090003001591-T | organism=Aspergillus_oryzae_RIB40 | product=Alpha-amylase involved in starch hydrolysis | location=Chr2_A_oryzae_RIB40:5385776-5387819(+) | length=2044 | sequence_SO=chromosome | SO=protein_coding_gene | trimmed_sp_nucleotide_sequence', dbxrefs=[]),\n",
       " SeqRecord(seq='ATGCTTCGTGTCTCTGCTATCTTCATGGCCTGCCTCCTTCTGGCTACCGCTGCCCCCACC', id='AO090103000076-T', name='<unknown name>', description='AO090103000076-T | organism=Aspergillus_oryzae_RIB40 | product=protein of unknown function | location=Chr8_A_oryzae_RIB40:1060893-1061642(+) | length=750 | sequence_SO=chromosome | SO=protein_coding_gene | trimmed_sp_nucleotide_sequence', dbxrefs=[]),\n",
       " SeqRecord(seq='ATGATGGTCGCGTGGTGGTCTCTATTTCTGTACGGCCTTCAGGTCGCGGCACCTGCTTTGGCTGCA', id='AO090023000944-T', name='<unknown name>', description='AO090023000944-T | organism=Aspergillus_oryzae_RIB40 | product=Alpha-amylase | location=Chr3_A_oryzae_RIB40:2488464-2490507(-) | length=2044 | sequence_SO=chromosome | SO=protein_coding_gene | trimmed_sp_nucleotide_sequence', dbxrefs=[])]"
      ]
     },
     "execution_count": 7,
     "metadata": {},
     "output_type": "execute_result"
    }
   ],
   "source": [
    "from Bio import SeqIO\n",
    "\n",
    "# Determine the length of the nucleotide sequences from peptide sequence length\n",
    "top_protein_length = top_signalP[\"length\"]\n",
    "top_nucleotide_length = list(top_protein_length*3)\n",
    "\n",
    "# Generate new nucleotide sequences and create new SeqRecord objects\n",
    "top_signalP_cds_seqrecords = []\n",
    "\n",
    "for i, seqrecord in enumerate(top_cds_seqrecords):\n",
    "    seq = str(seqrecord.seq)\n",
    "    new_seq = seq[:top_nucleotide_length[i]]\n",
    "    new_seq_record = SeqIO.SeqRecord(seq=new_seq, id=f\"{seqrecord.id}\", description=f\"{seqrecord.description} | trimmed_sp_nucleotide_sequence\")\n",
    "    top_signalP_cds_seqrecords.append(new_seq_record)\n",
    "\n",
    "# The resulting list `top25_transcript_records` contains the modified SeqRecord objects\n",
    "top_signalP_cds_seqrecords[:3]"
   ]
  },
  {
   "attachments": {},
   "cell_type": "markdown",
   "metadata": {},
   "source": [
    "## 2 Nucleotide-to-primer function"
   ]
  },
  {
   "attachments": {},
   "cell_type": "markdown",
   "metadata": {},
   "source": [
    "Lets convert the entire process into a function and save as a .py (primer_design.py)"
   ]
  },
  {
   "cell_type": "code",
   "execution_count": 8,
   "metadata": {},
   "outputs": [],
   "source": [
    "\"\"\"Function used to generate forward and reverse primers from positive strand nucleotide sequences\"\"\"\n",
    "import pandas as pd\n",
    "from typing import List\n",
    "from Bio.SeqRecord import SeqRecord\n",
    "from Bio.Seq import Seq\n",
    "\n",
    "\n",
    "def generate_primers(nucleotide_sequences: List[SeqRecord or str], up_homology_arm: str = None,\n",
    "                                  down_homology_arm: str = None, nucleotide_homology: int = None) -> pd.DataFrame:\n",
    "    \"\"\"\n",
    "    This function generates sequencing-ready forward and reverse primers by processing a list of String or SeqRecords nucleotide sequences \n",
    "    defined in 5´ to 3´ direction from the positive (top) strand of the nucleotide sequence to be expressed. \n",
    "        The process consists of several steps including:\n",
    "            1. Addition of up and down homology/repair arms to the nucleotide sequence to create homology with the bakcbone sequenece\n",
    "            2. Division of the nucleotide sequence into equal halves while preserving codon structure\n",
    "            3. Sharing defined number of sequences between the nucleotide sequence halves to create matching homology between them\n",
    "            4. Construction of reverse complement ( 5´ to 3´ direction) sequence of the forward primer on the negative (bottom) strand \n",
    "            5. Calculation of the forward and reverse primer lengths\n",
    "            5. Construction of a dataframe to summarize forward and reverse primers and their lengths\n",
    "\n",
    "    Parameters:\n",
    "    -----------\n",
    "        nucleotide_sequenceuences: str or list of Bio.SeqReccord.SeqRecord\n",
    "            A list of String or SeqRecords nucleotide sequences defined in 5´ to 3´ direction from the positive (top) strand\n",
    "        \n",
    "        up_homology_arm: str\n",
    "            A string representing nucleotide sequence to be added to the beginning of the forward primer to create homology with the bakcbone sequenece\n",
    "        \n",
    "        down_homology_arm: str\n",
    "            A string representing nucleotide sequence to be added to the end of the reverse primer to create homology with the bakcbone sequence\n",
    "        \n",
    "        nucleotide_homology: int\n",
    "            An integer representing the number of nucleotides that should be shared between the halves of the nucleotide sequence to create homology between them\n",
    "        \n",
    "\n",
    "    Returns:\n",
    "    --------\n",
    "        A pandas dataframe with forward and reverse primer sequnces and their respective primer lengths.\n",
    "    \"\"\"\n",
    "    # Extract the sequencecs if they are provided as SeqRecord \n",
    "    extracted_sequences = []\n",
    "    \n",
    "    for sequence in nucleotide_sequences:\n",
    "        if isinstance(sequence, SeqRecord):\n",
    "            nucleotide_sequence = str(sequence.seq)\n",
    "        elif isinstance(sequence, str):\n",
    "            nucleotide_sequence = sequence\n",
    "        else:\n",
    "            raise TypeError(f\"Expected SeqRecord, Seq object or string, but got {type(sequence)}\")\n",
    "\n",
    "        # Check if the sequence contains only nucleotides\n",
    "        if set(nucleotide_sequence) - set('agtACGT'):\n",
    "            raise ValueError(f\"Sequence {sequence} at index {nucleotide_sequences.index(sequence)} contains non-nucleotide characters.\")\n",
    "        \n",
    "        # Add up and down homology arms to the nuclceotide sequences (if stated)\n",
    "        if up_homology_arm and down_homology_arm:\n",
    "            nucleotide_sequence = up_homology_arm + nucleotide_sequence + down_homology_arm\n",
    "        else:\n",
    "            nucleotide_sequence = nucleotide_sequence\n",
    "        \n",
    "        # Determine the half of the sequence and divide into two while preseving codon structure \n",
    "        sequence_length = len(nucleotide_sequence)\n",
    "        sequence_midpoint = sequence_length // 2  # Find the midpoint of the sequence\n",
    "\n",
    "        if sequence_midpoint % 3 != 0:  # Check if sequence_midpoint is not divisible by 3\n",
    "            codon_position = sequence_midpoint % 3  # Find the position of the last complete codon before the midpoint\n",
    "            if codon_position <= 1:  # Adjust midpoint to conserve codons\n",
    "                sequence_midpoint -= codon_position\n",
    "            else:\n",
    "                sequence_midpoint += (3 - codon_position)\n",
    "\n",
    "        up_sequence = nucleotide_sequence[:sequence_midpoint]\n",
    "        down_sequence = nucleotide_sequence[sequence_midpoint:]\n",
    "        \n",
    "        # Create homology arms between halves (up and down) nucleotide sequences and emphasize the homology match by lowercase letters    \n",
    "        up_seq_homology = up_sequence[-nucleotide_homology:].lower()\n",
    "        down_seq_homology = down_sequence[:nucleotide_homology].lower()\n",
    "\n",
    "        up_primer = up_sequence + down_seq_homology\n",
    "        down_primer = up_seq_homology + down_sequence\n",
    "\n",
    "        # Define the complementary translation table for nucleotides\n",
    "        nucleotide_complements = str.maketrans(\"ATCGatcg\", \"TAGCtagc\")\n",
    "        complementary_up_primer = up_primer.translate(nucleotide_complements) # Generate complementary strand of the nucleotide sequence (3´ to 5´ on negative strand)\n",
    "        reverse_complementary_up_primer = complementary_up_primer[::-1] # Take the reverse complement of the complementary strand (write in the direction of 5´ to 3´ on negative strand)\n",
    "       \n",
    "        # Emphasize the entire homology section between nucleotide sequences by making them lowercase \n",
    "        forward_primer = reverse_complementary_up_primer[:2*nucleotide_homology].lower() + reverse_complementary_up_primer[2*nucleotide_homology:]\n",
    "        reverse_primer = down_primer[:2*nucleotide_homology].lower() + down_primer[2*nucleotide_homology:]\n",
    "        names = sequence.id\n",
    "\n",
    "        extracted_sequences.append((names, forward_primer, len(forward_primer), reverse_primer, len(reverse_primer)))\n",
    "\n",
    "    df = pd.DataFrame(extracted_sequences, columns=['Names','Reverse primer', 'Forward primer length', 'Forward primer', 'Reverse primer length'])\n",
    "    return df"
   ]
  },
  {
   "cell_type": "code",
   "execution_count": 9,
   "metadata": {},
   "outputs": [
    {
     "data": {
      "text/html": [
       "<div>\n",
       "<style scoped>\n",
       "    .dataframe tbody tr th:only-of-type {\n",
       "        vertical-align: middle;\n",
       "    }\n",
       "\n",
       "    .dataframe tbody tr th {\n",
       "        vertical-align: top;\n",
       "    }\n",
       "\n",
       "    .dataframe thead th {\n",
       "        text-align: right;\n",
       "    }\n",
       "</style>\n",
       "<table border=\"1\" class=\"dataframe\">\n",
       "  <thead>\n",
       "    <tr style=\"text-align: right;\">\n",
       "      <th></th>\n",
       "      <th>Names</th>\n",
       "      <th>Reverse primer</th>\n",
       "      <th>Forward primer length</th>\n",
       "      <th>Forward primer</th>\n",
       "      <th>Reverse primer length</th>\n",
       "    </tr>\n",
       "  </thead>\n",
       "  <tbody>\n",
       "    <tr>\n",
       "      <th>0</th>\n",
       "      <td>AO090003001591-T</td>\n",
       "      <td>ggccgtacagaaatagagACCACCACGCGACCATCATGGTGAAGGT...</td>\n",
       "      <td>63</td>\n",
       "      <td>ctctatttctgtacggccTTCAGGTCGCGGCACCTGCTTTGGCTGC...</td>\n",
       "      <td>63</td>\n",
       "    </tr>\n",
       "    <tr>\n",
       "      <th>1</th>\n",
       "      <td>AO090103000076-T</td>\n",
       "      <td>ggcaggccatgaagatagCAGAGACACGAAGCATGGTGAAGGTTGT...</td>\n",
       "      <td>60</td>\n",
       "      <td>ctatcttcatggcctgccTCCTTCTGGCTACCGCTGCCCCCACCGC...</td>\n",
       "      <td>60</td>\n",
       "    </tr>\n",
       "    <tr>\n",
       "      <th>2</th>\n",
       "      <td>AO090023000944-T</td>\n",
       "      <td>ggccgtacagaaatagagACCACCACGCGACCATCATGGTGAAGGT...</td>\n",
       "      <td>63</td>\n",
       "      <td>ctctatttctgtacggccTTCAGGTCGCGGCACCTGCTTTGGCTGC...</td>\n",
       "      <td>63</td>\n",
       "    </tr>\n",
       "    <tr>\n",
       "      <th>3</th>\n",
       "      <td>AO090701000295-T</td>\n",
       "      <td>aggcgagagtgacaagagTAGGGAGGTGCATGGTGAAGGTTGTGTT...</td>\n",
       "      <td>57</td>\n",
       "      <td>ctcttgtcactctcgcctGCATGGCCGTTAGCGCCAGTGCATTCGC...</td>\n",
       "      <td>60</td>\n",
       "    </tr>\n",
       "    <tr>\n",
       "      <th>4</th>\n",
       "      <td>AO090012000708-T</td>\n",
       "      <td>gggcagtagaaatagcagCAGAGATCTTCATGGTGAAGGTTGTGTT...</td>\n",
       "      <td>57</td>\n",
       "      <td>ctgctatttctactgcccTCCTGGCCGTTAGTGCCGCTGCGTTCGC...</td>\n",
       "      <td>60</td>\n",
       "    </tr>\n",
       "    <tr>\n",
       "      <th>5</th>\n",
       "      <td>AO090005001090-T</td>\n",
       "      <td>cagctagtgtagctgcagCGTAGTTGAAATACATGGTGAAGGTTGT...</td>\n",
       "      <td>60</td>\n",
       "      <td>ctgcagctacactagctgCACTACTCCCACTATGCTCAGCCCAGGC...</td>\n",
       "      <td>60</td>\n",
       "    </tr>\n",
       "    <tr>\n",
       "      <th>6</th>\n",
       "      <td>AO090023000905-T</td>\n",
       "      <td>ccagggcgggaagagcgtATTTAATGAACATGGTGAAGGTTGTGTT...</td>\n",
       "      <td>57</td>\n",
       "      <td>acgctcttcccgccctggCCGCGGCTCAGGCCGTCTTTGCTGCTGC...</td>\n",
       "      <td>60</td>\n",
       "    </tr>\n",
       "    <tr>\n",
       "      <th>7</th>\n",
       "      <td>AO090038000279-T</td>\n",
       "      <td>cgagtaaaagagaaagaaGACCAGCGGTACGCATGGTGAAGGTTGT...</td>\n",
       "      <td>60</td>\n",
       "      <td>ttctttctcttttactcgCAGCGATTCCCGCTGTTACCGCGGAGGC...</td>\n",
       "      <td>60</td>\n",
       "    </tr>\n",
       "    <tr>\n",
       "      <th>8</th>\n",
       "      <td>AO090005000409-T</td>\n",
       "      <td>tcgccaaggtgagagcaaCTGCGTTGAACTTCATGGTGAAGGTTGT...</td>\n",
       "      <td>60</td>\n",
       "      <td>ttgctctcaccttggcgaCGGCTGGTTCCCTCGTGGCCGGTCAGGC...</td>\n",
       "      <td>60</td>\n",
       "    </tr>\n",
       "    <tr>\n",
       "      <th>9</th>\n",
       "      <td>AO090003000354-T</td>\n",
       "      <td>gcaacgaagcccacaaaaGCGACCTCATGGTGAAGGTTGTGTTATG...</td>\n",
       "      <td>54</td>\n",
       "      <td>ttttgtgggcttcgttgcTTTCGGGCGTGTTGGCTGGGGCCTCCTC...</td>\n",
       "      <td>54</td>\n",
       "    </tr>\n",
       "  </tbody>\n",
       "</table>\n",
       "</div>"
      ],
      "text/plain": [
       "              Names                                     Reverse primer  \\\n",
       "0  AO090003001591-T  ggccgtacagaaatagagACCACCACGCGACCATCATGGTGAAGGT...   \n",
       "1  AO090103000076-T  ggcaggccatgaagatagCAGAGACACGAAGCATGGTGAAGGTTGT...   \n",
       "2  AO090023000944-T  ggccgtacagaaatagagACCACCACGCGACCATCATGGTGAAGGT...   \n",
       "3  AO090701000295-T  aggcgagagtgacaagagTAGGGAGGTGCATGGTGAAGGTTGTGTT...   \n",
       "4  AO090012000708-T  gggcagtagaaatagcagCAGAGATCTTCATGGTGAAGGTTGTGTT...   \n",
       "5  AO090005001090-T  cagctagtgtagctgcagCGTAGTTGAAATACATGGTGAAGGTTGT...   \n",
       "6  AO090023000905-T  ccagggcgggaagagcgtATTTAATGAACATGGTGAAGGTTGTGTT...   \n",
       "7  AO090038000279-T  cgagtaaaagagaaagaaGACCAGCGGTACGCATGGTGAAGGTTGT...   \n",
       "8  AO090005000409-T  tcgccaaggtgagagcaaCTGCGTTGAACTTCATGGTGAAGGTTGT...   \n",
       "9  AO090003000354-T  gcaacgaagcccacaaaaGCGACCTCATGGTGAAGGTTGTGTTATG...   \n",
       "\n",
       "   Forward primer length                                     Forward primer  \\\n",
       "0                     63  ctctatttctgtacggccTTCAGGTCGCGGCACCTGCTTTGGCTGC...   \n",
       "1                     60  ctatcttcatggcctgccTCCTTCTGGCTACCGCTGCCCCCACCGC...   \n",
       "2                     63  ctctatttctgtacggccTTCAGGTCGCGGCACCTGCTTTGGCTGC...   \n",
       "3                     57  ctcttgtcactctcgcctGCATGGCCGTTAGCGCCAGTGCATTCGC...   \n",
       "4                     57  ctgctatttctactgcccTCCTGGCCGTTAGTGCCGCTGCGTTCGC...   \n",
       "5                     60  ctgcagctacactagctgCACTACTCCCACTATGCTCAGCCCAGGC...   \n",
       "6                     57  acgctcttcccgccctggCCGCGGCTCAGGCCGTCTTTGCTGCTGC...   \n",
       "7                     60  ttctttctcttttactcgCAGCGATTCCCGCTGTTACCGCGGAGGC...   \n",
       "8                     60  ttgctctcaccttggcgaCGGCTGGTTCCCTCGTGGCCGGTCAGGC...   \n",
       "9                     54  ttttgtgggcttcgttgcTTTCGGGCGTGTTGGCTGGGGCCTCCTC...   \n",
       "\n",
       "   Reverse primer length  \n",
       "0                     63  \n",
       "1                     60  \n",
       "2                     63  \n",
       "3                     60  \n",
       "4                     60  \n",
       "5                     60  \n",
       "6                     60  \n",
       "7                     60  \n",
       "8                     60  \n",
       "9                     54  "
      ]
     },
     "execution_count": 9,
     "metadata": {},
     "output_type": "execute_result"
    }
   ],
   "source": [
    "up_ha = \"CCACAAAACATAACACAACCTTCACC\" # Annealing in Ptef \n",
    "down_ha = \"GCCTCCTCCGAGGACG\" # Annealing in RFP\n",
    "primer_df = generate_primers(nucleotide_sequences=top_signalP_cds_seqrecords, up_homology_arm=up_ha, down_homology_arm=down_ha, nucleotide_homology=9)\n",
    "primer_df"
   ]
  },
  {
   "cell_type": "code",
   "execution_count": 10,
   "metadata": {},
   "outputs": [],
   "source": [
    "# Convert and save a summary dataframe\n",
    "save = False # change to \"True\" to save\n",
    "if save:\n",
    "    primer_df.to_excel('../Data/signalP_signalP_primer_list.xlsx', index=False)"
   ]
  },
  {
   "attachments": {},
   "cell_type": "markdown",
   "metadata": {},
   "source": [
    "# Simulate that the primers work as they should "
   ]
  },
  {
   "cell_type": "code",
   "execution_count": 11,
   "metadata": {},
   "outputs": [],
   "source": [
    "from pydna.dseqrecord import Dseqrecord"
   ]
  },
  {
   "attachments": {},
   "cell_type": "markdown",
   "metadata": {},
   "source": [
    "Lets import the templates we want to amplify"
   ]
  },
  {
   "cell_type": "code",
   "execution_count": 12,
   "metadata": {},
   "outputs": [],
   "source": [
    "from Bio import SeqIO\n",
    "\n",
    "RFP = Dseqrecord(SeqIO.read(\"/Users/lucaslevassor/projects/Signal_peptide_project/data/10_genetic_parts/parts/RFP_w_B_homolgy.fasta\", \"fasta\"))\n",
    "pTef = Dseqrecord(SeqIO.read(\"/Users/lucaslevassor/projects/Signal_peptide_project/data/10_genetic_parts/parts/pTEF_w_A_homology.fasta\", \"fasta\"))"
   ]
  },
  {
   "cell_type": "code",
   "execution_count": 13,
   "metadata": {},
   "outputs": [
    {
     "data": {
      "text/plain": [
       "Dseq(-1239)\n",
       "GCCT..CCTC\n",
       "CGGA..GGAG"
      ]
     },
     "execution_count": 13,
     "metadata": {},
     "output_type": "execute_result"
    }
   ],
   "source": [
    "RFP.seq"
   ]
  },
  {
   "cell_type": "code",
   "execution_count": 14,
   "metadata": {},
   "outputs": [
    {
     "data": {
      "text/plain": [
       "Dseq(-1384)\n",
       "AGGT..CACC\n",
       "TCCA..GTGG"
      ]
     },
     "execution_count": 14,
     "metadata": {},
     "output_type": "execute_result"
    }
   ],
   "source": [
    "pTef.seq"
   ]
  },
  {
   "cell_type": "code",
   "execution_count": 15,
   "metadata": {},
   "outputs": [],
   "source": [
    "from pydna.amplify import pcr\n",
    "from pydna.primer import Primer\n"
   ]
  },
  {
   "cell_type": "code",
   "execution_count": 16,
   "metadata": {},
   "outputs": [],
   "source": [
    "# these are actually the opposite of twhat they say so forward primer is actually reverse primers\n",
    "forward_primers = [SeqRecord(seq) for seq in primer_df['Forward primer'].to_list()]\n",
    "reverse_primers = [SeqRecord(seq) for seq in primer_df['Reverse primer'].to_list()]\n"
   ]
  },
  {
   "cell_type": "code",
   "execution_count": 17,
   "metadata": {},
   "outputs": [
    {
     "data": {
      "text/html": [
       "Amplicon(1421)"
      ],
      "text/plain": [
       "Amplicon(1421)"
      ]
     },
     "execution_count": 17,
     "metadata": {},
     "output_type": "execute_result"
    }
   ],
   "source": [
    "p1 = Primer(\"AGGTGTAAAAGTAGGGAGCGGTAG\")\n",
    "p2 = Primer(reverse_primers[0].seq)\n",
    "first_pTEF_amplicon = pcr(p1, p2, pTef)\n",
    "\n",
    "first_pTEF_amplicon"
   ]
  },
  {
   "cell_type": "code",
   "execution_count": 18,
   "metadata": {},
   "outputs": [
    {
     "data": {
      "text/plain": [
       "id 24-mer:5'-AGGTGTAAAAGTAGG..TAG-3'"
      ]
     },
     "execution_count": 18,
     "metadata": {},
     "output_type": "execute_result"
    }
   ],
   "source": [
    "p1"
   ]
  },
  {
   "cell_type": "code",
   "execution_count": 19,
   "metadata": {},
   "outputs": [
    {
     "data": {
      "text/plain": [
       "[Amplicon(1421),\n",
       " Amplicon(1418),\n",
       " Amplicon(1421),\n",
       " Amplicon(1415),\n",
       " Amplicon(1415),\n",
       " Amplicon(1418),\n",
       " Amplicon(1415),\n",
       " Amplicon(1418),\n",
       " Amplicon(1418),\n",
       " Amplicon(1412)]"
      ]
     },
     "execution_count": 19,
     "metadata": {},
     "output_type": "execute_result"
    }
   ],
   "source": [
    "# pTEF amplicons\n",
    "pTEF_amplicons = []\n",
    "# generic primer for pTEF\n",
    "p1 = Primer(\"AGGTGTAAAAGTAGGGAGCGGTAG\", name= 'pTef_generic_forward_primer', id ='pTef_generic_forward_primer' )\n",
    "\n",
    "# Change the name of the primers \n",
    "for i in range(len(reverse_primers)): \n",
    "    reverse_primers[i].id = f'pTef_r_{top_signalP_accessions[i]}'\n",
    "\n",
    "\n",
    "# AMPLIFY\n",
    "for reverse_primer in reverse_primers: \n",
    "    amplicon = pcr(p1, Primer(reverse_primer.seq, id=reverse_primer.id), pTef)\n",
    "    pTEF_amplicons.append(amplicon)\n",
    "\n",
    "pTEF_amplicons\n"
   ]
  },
  {
   "attachments": {},
   "cell_type": "markdown",
   "metadata": {},
   "source": [
    "Save the primers \n"
   ]
  },
  {
   "cell_type": "code",
   "execution_count": 20,
   "metadata": {},
   "outputs": [
    {
     "data": {
      "text/plain": [
       "[pTef_r_AO090003001591 63-mer:5'-ggccgtacagaaata..TGG-3',\n",
       " pTef_r_AO090103000076 60-mer:5'-ggcaggccatgaaga..TGG-3',\n",
       " pTef_r_AO090023000944 63-mer:5'-ggccgtacagaaata..TGG-3',\n",
       " pTef_r_AO090701000295 57-mer:5'-aggcgagagtgacaa..TGG-3',\n",
       " pTef_r_AO090012000708 57-mer:5'-gggcagtagaaatag..TGG-3',\n",
       " pTef_r_AO090005001090 60-mer:5'-cagctagtgtagctg..TGG-3',\n",
       " pTef_r_AO090023000905 57-mer:5'-ccagggcgggaagag..TGG-3',\n",
       " pTef_r_AO090038000279 60-mer:5'-cgagtaaaagagaaa..TGG-3',\n",
       " pTef_r_AO090005000409 60-mer:5'-tcgccaaggtgagag..TGG-3',\n",
       " pTef_r_AO090003000354 54-mer:5'-gcaacgaagcccaca..TGG-3',\n",
       " pTef_generic_forward_primer 24-mer:5'-AGGTGTAAAAGTAGG..TAG-3']"
      ]
     },
     "execution_count": 20,
     "metadata": {},
     "output_type": "execute_result"
    }
   ],
   "source": [
    "pTef_primers_to_save = [primer.reverse_primer for primer in pTEF_amplicons]\n",
    "# THe forward primer is always the same \n",
    "pTef_primers_to_save.append(pTEF_amplicons[0].forward_primer)\n",
    "pTef_primers_to_save\n"
   ]
  },
  {
   "cell_type": "code",
   "execution_count": 21,
   "metadata": {},
   "outputs": [],
   "source": [
    "with open('/Users/lucaslevassor/projects/Signal_peptide_project/data/09_primers/pTef_primers_2.fasta', 'w') as output_file:\n",
    "    for primer in  pTef_primers_to_save: \n",
    "        output_file.write(primer.format('fasta'))"
   ]
  },
  {
   "cell_type": "code",
   "execution_count": 22,
   "metadata": {},
   "outputs": [
    {
     "data": {
      "text/plain": [
       "[Amplicon(1286),\n",
       " Amplicon(1283),\n",
       " Amplicon(1286),\n",
       " Amplicon(1283),\n",
       " Amplicon(1283),\n",
       " Amplicon(1283),\n",
       " Amplicon(1283),\n",
       " Amplicon(1283),\n",
       " Amplicon(1283),\n",
       " Amplicon(1277)]"
      ]
     },
     "execution_count": 22,
     "metadata": {},
     "output_type": "execute_result"
    }
   ],
   "source": [
    "# RFP amplicons\n",
    "RFP_amplicons = []\n",
    "\n",
    "# generic reverse primer \n",
    "p2 = Primer(Seq('GAGGAGAGTGGATGGATAGTCTGG'),name= 'RFP_generic_reverse_primer', id ='RFP_generic_reverse_primer' )\n",
    "\n",
    "# Change the name of the primers \n",
    "for i in range(len(forward_primers)): \n",
    "    forward_primers[i].id = f'RFP_f_{top_signalP_accessions[i]}'\n",
    "\n",
    "for forward in forward_primers:\n",
    "    try: \n",
    "\n",
    "        amplicon = pcr(Primer(forward.seq,id=forward.id), p2, RFP)\n",
    "        RFP_amplicons.append(amplicon)\n",
    "    except:\n",
    "        print(f'mistake with{forward.seq}')\n",
    "\n",
    "RFP_amplicons\n"
   ]
  },
  {
   "cell_type": "code",
   "execution_count": 23,
   "metadata": {},
   "outputs": [
    {
     "data": {
      "text/plain": [
       "[RFP_f_AO090003001591 63-mer:5'-ctctatttctgtacg..ACG-3',\n",
       " RFP_f_AO090103000076 60-mer:5'-ctatcttcatggcct..ACG-3',\n",
       " RFP_f_AO090023000944 63-mer:5'-ctctatttctgtacg..ACG-3',\n",
       " RFP_f_AO090701000295 60-mer:5'-ctcttgtcactctcg..ACG-3',\n",
       " RFP_f_AO090012000708 60-mer:5'-ctgctatttctactg..ACG-3',\n",
       " RFP_f_AO090005001090 60-mer:5'-ctgcagctacactag..ACG-3',\n",
       " RFP_f_AO090023000905 60-mer:5'-acgctcttcccgccc..ACG-3',\n",
       " RFP_f_AO090038000279 60-mer:5'-ttctttctcttttac..ACG-3',\n",
       " RFP_f_AO090005000409 60-mer:5'-ttgctctcaccttgg..ACG-3',\n",
       " RFP_f_AO090003000354 54-mer:5'-ttttgtgggcttcgt..ACG-3',\n",
       " RFP_generic_reverse_primer 24-mer:5'-GAGGAGAGTGGATGG..TGG-3']"
      ]
     },
     "execution_count": 23,
     "metadata": {},
     "output_type": "execute_result"
    }
   ],
   "source": [
    "RFP_primers_to_save = [primer.forward_primer for primer in RFP_amplicons]\n",
    "# THe reverse primer is always the same \n",
    "RFP_primers_to_save.append(RFP_amplicons[0].reverse_primer)\n",
    "RFP_primers_to_save"
   ]
  },
  {
   "cell_type": "code",
   "execution_count": 24,
   "metadata": {},
   "outputs": [],
   "source": [
    "with open('/Users/lucaslevassor/projects/Signal_peptide_project/data/09_primers/RFP_primers_2.fasta', 'w') as output_file:\n",
    "    for primer in  RFP_primers_to_save: \n",
    "        output_file.write(primer.format('fasta'))"
   ]
  },
  {
   "attachments": {},
   "cell_type": "markdown",
   "metadata": {},
   "source": [
    "## Check if the amplicons overlap"
   ]
  },
  {
   "cell_type": "code",
   "execution_count": 25,
   "metadata": {},
   "outputs": [],
   "source": [
    "from pydna.assembly import Assembly"
   ]
  },
  {
   "cell_type": "code",
   "execution_count": 26,
   "metadata": {},
   "outputs": [],
   "source": [
    "# changing the names of the amplicons\n",
    "for i in range(len(pTEF_amplicons)):\n",
    "    pTEF_amplicons[i].name =  f'pTef_{pTEF_amplicons[i].name }_{top_signalP_accessions[i]}'\n",
    "    \n",
    "for i in range(len(RFP_amplicons)):\n",
    "    RFP_amplicons[i].name =  f'RFP_{RFP_amplicons[i].name }_{top_signalP_accessions[i]}'"
   ]
  },
  {
   "cell_type": "code",
   "execution_count": 27,
   "metadata": {},
   "outputs": [
    {
     "name": "stdout",
     "output_type": "stream",
     "text": [
      "pTef_1421bp_PCR_prod_AO090003001591|18\n",
      "                                    \\/\n",
      "                                    /\\\n",
      "                                    18|RFP_1286bp_PCR_prod_AO090003001591 \n",
      "\n",
      "pTef_1418bp_PCR_prod_AO090103000076|18\n",
      "                                    \\/\n",
      "                                    /\\\n",
      "                                    18|RFP_1283bp_PCR_prod_AO090103000076 \n",
      "\n",
      "pTef_1421bp_PCR_prod_AO090023000944|18\n",
      "                                    \\/\n",
      "                                    /\\\n",
      "                                    18|RFP_1286bp_PCR_prod_AO090023000944 \n",
      "\n",
      "pTef_1415bp_PCR_prod_AO090701000295|18\n",
      "                                    \\/\n",
      "                                    /\\\n",
      "                                    18|RFP_1283bp_PCR_prod_AO090701000295 \n",
      "\n",
      "pTef_1415bp_PCR_prod_AO090012000708|18\n",
      "                                    \\/\n",
      "                                    /\\\n",
      "                                    18|RFP_1283bp_PCR_prod_AO090012000708 \n",
      "\n",
      "pTef_1418bp_PCR_prod_AO090005001090|18\n",
      "                                    \\/\n",
      "                                    /\\\n",
      "                                    18|RFP_1283bp_PCR_prod_AO090005001090 \n",
      "\n"
     ]
    },
    {
     "name": "stdout",
     "output_type": "stream",
     "text": [
      "pTef_1415bp_PCR_prod_AO090023000905|18\n",
      "                                    \\/\n",
      "                                    /\\\n",
      "                                    18|RFP_1283bp_PCR_prod_AO090023000905 \n",
      "\n",
      "pTef_1418bp_PCR_prod_AO090038000279|18\n",
      "                                    \\/\n",
      "                                    /\\\n",
      "                                    18|RFP_1283bp_PCR_prod_AO090038000279 \n",
      "\n",
      "pTef_1418bp_PCR_prod_AO090005000409|18\n",
      "                                    \\/\n",
      "                                    /\\\n",
      "                                    18|RFP_1283bp_PCR_prod_AO090005000409 \n",
      "\n",
      "pTef_1412bp_PCR_prod_AO090003000354|18\n",
      "                                    \\/\n",
      "                                    /\\\n",
      "                                    18|RFP_1277bp_PCR_prod_AO090003000354 \n",
      "\n"
     ]
    }
   ],
   "source": [
    "for i in range(len(RFP_amplicons)): \n",
    "    assemblyobj = Assembly([pTEF_amplicons[i],RFP_amplicons[i]], limit = 18)\n",
    "    contig = assemblyobj.assemble_linear()[0]\n",
    "\n",
    "    print(contig.figure(), '\\n')\n"
   ]
  },
  {
   "cell_type": "code",
   "execution_count": null,
   "metadata": {},
   "outputs": [],
   "source": []
  },
  {
   "cell_type": "code",
   "execution_count": null,
   "metadata": {},
   "outputs": [],
   "source": []
  }
 ],
 "metadata": {
  "kernelspec": {
   "display_name": "venv_spep",
   "language": "python",
   "name": "python3"
  },
  "language_info": {
   "codemirror_mode": {
    "name": "ipython",
    "version": 3
   },
   "file_extension": ".py",
   "mimetype": "text/x-python",
   "name": "python",
   "nbconvert_exporter": "python",
   "pygments_lexer": "ipython3",
   "version": "3.8.13"
  },
  "orig_nbformat": 4,
  "vscode": {
   "interpreter": {
    "hash": "7cf3c3038ce3bba65df5a3763bb2dad04e6ea52aae61adcbf98c3339fce24629"
   }
  }
 },
 "nbformat": 4,
 "nbformat_minor": 2
}
