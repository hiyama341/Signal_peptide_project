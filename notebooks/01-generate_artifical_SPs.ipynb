{
 "cells": [
  {
   "cell_type": "markdown",
   "id": "8f86773d-981c-45fa-88f3-aaf73c8d8631",
   "metadata": {},
   "source": [
    "# 01-Gerating artificial signal peptides"
   ]
  },
  {
   "cell_type": "code",
   "execution_count": 2,
   "id": "d9a9c943-a30c-4b12-8a39-050e019ffe53",
   "metadata": {},
   "outputs": [],
   "source": [
    "from Bio import SeqIO\n",
    "import pandas as pd\n",
    "from itertools import product"
   ]
  },
  {
   "cell_type": "code",
   "execution_count": 3,
   "id": "5b5f44d4-ad4e-4e73-bbde-ae9223b93641",
   "metadata": {},
   "outputs": [],
   "source": [
    "consensus_list = 'MKLSSLLLLLLLLLLLLALA'"
   ]
  },
  {
   "cell_type": "code",
   "execution_count": 4,
   "id": "49e3b40c-65f5-4600-a33f-9d529ce72334",
   "metadata": {},
   "outputs": [
    {
     "data": {
      "text/plain": [
       "'ALKS'"
      ]
     },
     "execution_count": 4,
     "metadata": {},
     "output_type": "execute_result"
    }
   ],
   "source": [
    "aa_used = \"\".join(set(consensus_list[1:]))\n",
    "aa_used"
   ]
  },
  {
   "cell_type": "code",
   "execution_count": 7,
   "id": "24388656-e91c-410f-b657-e1b92bfc5677",
   "metadata": {},
   "outputs": [],
   "source": [
    "aa1 = list(aa_used)"
   ]
  },
  {
   "cell_type": "code",
   "execution_count": 8,
   "id": "89f4e3d5-f289-460c-98f0-4cbe4811db28",
   "metadata": {},
   "outputs": [],
   "source": [
    "list_of_20_peptides = []\n",
    "\n",
    "for i in range(0,20): \n",
    "    list_of_20_peptides.append(aa1)"
   ]
  },
  {
   "cell_type": "code",
   "execution_count": 9,
   "id": "8151b4fe-4e7a-416d-a68c-97f3d0bdedf2",
   "metadata": {},
   "outputs": [
    {
     "data": {
      "text/plain": [
       "20"
      ]
     },
     "execution_count": 9,
     "metadata": {},
     "output_type": "execute_result"
    }
   ],
   "source": [
    "len(list_of_20_peptides)"
   ]
  },
  {
   "cell_type": "code",
   "execution_count": null,
   "id": "0e8a1d97-da34-48f5-ad6d-68f8cfb76f23",
   "metadata": {},
   "outputs": [],
   "source": [
    "%%time\n",
    "all_combinations = list(product(only_one_letter, repeat=19))\n"
   ]
  },
  {
   "cell_type": "code",
   "execution_count": null,
   "id": "2e36129d-a0bf-464f-995f-79fe3efccf5e",
   "metadata": {},
   "outputs": [],
   "source": [
    "len(all_combinations)"
   ]
  },
  {
   "cell_type": "code",
   "execution_count": 1,
   "id": "2461ffca-246b-4bb5-bafd-15629b1b0cb9",
   "metadata": {},
   "outputs": [
    {
     "data": {
      "text/plain": [
       "130321"
      ]
     },
     "execution_count": 1,
     "metadata": {},
     "output_type": "execute_result"
    }
   ],
   "source": [
    "19**4"
   ]
  },
  {
   "cell_type": "code",
   "execution_count": null,
   "id": "d3aea4a2-69fc-4a3a-a599-bad81ab0361b",
   "metadata": {},
   "outputs": [],
   "source": []
  }
 ],
 "metadata": {
  "kernelspec": {
   "display_name": "Python 3 (ipykernel)",
   "language": "python",
   "name": "python3"
  },
  "language_info": {
   "codemirror_mode": {
    "name": "ipython",
    "version": 3
   },
   "file_extension": ".py",
   "mimetype": "text/x-python",
   "name": "python",
   "nbconvert_exporter": "python",
   "pygments_lexer": "ipython3",
   "version": "3.8.13"
  }
 },
 "nbformat": 4,
 "nbformat_minor": 5
}
