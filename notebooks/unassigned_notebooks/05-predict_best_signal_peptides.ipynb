{
 "cells": [
  {
   "cell_type": "markdown",
   "id": "836d14a1-8976-4b86-8ac1-4c61c8f3e8d2",
   "metadata": {},
   "source": [
    "# Predict the best signal peptides$"
   ]
  },
  {
   "cell_type": "code",
   "execution_count": null,
   "id": "15a61390-3660-4c89-a518-8858d41d25fb",
   "metadata": {},
   "outputs": [],
   "source": []
  }
 ],
 "metadata": {
  "kernelspec": {
   "display_name": "Python 3 (ipykernel)",
   "language": "python",
   "name": "python3"
  },
  "language_info": {
   "codemirror_mode": {
    "name": "ipython",
    "version": 3
   },
   "file_extension": ".py",
   "mimetype": "text/x-python",
   "name": "python",
   "nbconvert_exporter": "python",
   "pygments_lexer": "ipython3",
   "version": "3.8.13"
  }
 },
 "nbformat": 4,
 "nbformat_minor": 5
}
