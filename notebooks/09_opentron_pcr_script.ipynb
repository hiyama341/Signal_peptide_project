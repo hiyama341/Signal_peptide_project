{
 "cells": [
  {
   "cell_type": "code",
   "execution_count": 1,
   "metadata": {},
   "outputs": [
    {
     "name": "stdout",
     "output_type": "stream",
     "text": [
      "Collecting opentrons\n",
      "  Obtaining dependency information for opentrons from https://files.pythonhosted.org/packages/55/23/95809f82a12176b9f4bcbbe5575f523f14721ac09d919c3a6802a7e3e96b/opentrons-7.5.0-py2.py3-none-any.whl.metadata\n",
      "  Downloading opentrons-7.5.0-py2.py3-none-any.whl.metadata (5.0 kB)\n",
      "Collecting opentrons-shared-data==7.5.0 (from opentrons)\n",
      "  Obtaining dependency information for opentrons-shared-data==7.5.0 from https://files.pythonhosted.org/packages/f0/a5/75ea901f0ff962ac35f74497813d5f0fa4c590029abbf4153a6c5e2779d8/opentrons_shared_data-7.5.0-py2.py3-none-any.whl.metadata\n",
      "  Downloading opentrons_shared_data-7.5.0-py2.py3-none-any.whl.metadata (1.2 kB)\n",
      "Collecting aionotify==0.2.0 (from opentrons)\n",
      "  Obtaining dependency information for aionotify==0.2.0 from https://files.pythonhosted.org/packages/d4/ca/104c3332c6c9be78108840fb3b08f40cfd2c598df4ce1cd7eb999416825c/aionotify-0.2.0-py3-none-any.whl.metadata\n",
      "  Downloading aionotify-0.2.0-py3-none-any.whl.metadata (695 bytes)\n",
      "Collecting anyio<4.0.0,>=3.6.1 (from opentrons)\n",
      "  Obtaining dependency information for anyio<4.0.0,>=3.6.1 from https://files.pythonhosted.org/packages/19/24/44299477fe7dcc9cb58d0a57d5a7588d6af2ff403fdd2d47a246c91a3246/anyio-3.7.1-py3-none-any.whl.metadata\n",
      "  Using cached anyio-3.7.1-py3-none-any.whl.metadata (4.7 kB)\n",
      "Collecting jsonschema<4.18.0,>=3.0.1 (from opentrons)\n",
      "  Obtaining dependency information for jsonschema<4.18.0,>=3.0.1 from https://files.pythonhosted.org/packages/c1/97/c698bd9350f307daad79dd740806e1a59becd693bd11443a0f531e3229b3/jsonschema-4.17.3-py3-none-any.whl.metadata\n",
      "  Downloading jsonschema-4.17.3-py3-none-any.whl.metadata (7.9 kB)\n",
      "Requirement already satisfied: numpy<2,>=1.20.0 in /Users/lucaslevassor/opt/anaconda3/envs/py_3_10/lib/python3.10/site-packages (from opentrons) (1.25.2)\n",
      "Collecting pydantic<2.0.0,>=1.10.9 (from opentrons)\n",
      "  Obtaining dependency information for pydantic<2.0.0,>=1.10.9 from https://files.pythonhosted.org/packages/fe/28/0e5b14f8bb32f4527a1eaf6fb4af4baf0e7d6b6ba2cdce9861a3ce4c2331/pydantic-1.10.17-cp310-cp310-macosx_10_9_x86_64.whl.metadata\n",
      "  Downloading pydantic-1.10.17-cp310-cp310-macosx_10_9_x86_64.whl.metadata (151 kB)\n",
      "\u001b[2K     \u001b[90m━━━━━━━━━━━━━━━━━━━━━━━━━━━━━━━━━━━━━\u001b[0m \u001b[32m151.6/151.6 kB\u001b[0m \u001b[31m728.4 kB/s\u001b[0m eta \u001b[36m0:00:00\u001b[0ma \u001b[36m0:00:01\u001b[0m\n",
      "\u001b[?25hCollecting pyserial>=3.5 (from opentrons)\n",
      "  Obtaining dependency information for pyserial>=3.5 from https://files.pythonhosted.org/packages/07/bc/587a445451b253b285629263eb51c2d8e9bcea4fc97826266d186f96f558/pyserial-3.5-py2.py3-none-any.whl.metadata\n",
      "  Downloading pyserial-3.5-py2.py3-none-any.whl.metadata (1.6 kB)\n",
      "Requirement already satisfied: typing-extensions<5,>=4.0.0 in /Users/lucaslevassor/opt/anaconda3/envs/py_3_10/lib/python3.10/site-packages (from opentrons) (4.12.2)\n",
      "Collecting click<9,>=8.0.0 (from opentrons)\n",
      "  Obtaining dependency information for click<9,>=8.0.0 from https://files.pythonhosted.org/packages/00/2e/d53fa4befbf2cfa713304affc7ca780ce4fc1fd8710527771b58311a3229/click-8.1.7-py3-none-any.whl.metadata\n",
      "  Downloading click-8.1.7-py3-none-any.whl.metadata (3.0 kB)\n",
      "Requirement already satisfied: packaging>=21.0 in /Users/lucaslevassor/opt/anaconda3/envs/py_3_10/lib/python3.10/site-packages (from opentrons) (23.1)\n",
      "Requirement already satisfied: idna>=2.8 in /Users/lucaslevassor/opt/anaconda3/envs/py_3_10/lib/python3.10/site-packages (from anyio<4.0.0,>=3.6.1->opentrons) (3.4)\n",
      "Collecting sniffio>=1.1 (from anyio<4.0.0,>=3.6.1->opentrons)\n",
      "  Obtaining dependency information for sniffio>=1.1 from https://files.pythonhosted.org/packages/e9/44/75a9c9421471a6c4805dbf2356f7c181a29c1879239abab1ea2cc8f38b40/sniffio-1.3.1-py3-none-any.whl.metadata\n",
      "  Downloading sniffio-1.3.1-py3-none-any.whl.metadata (3.9 kB)\n",
      "Requirement already satisfied: exceptiongroup in /Users/lucaslevassor/opt/anaconda3/envs/py_3_10/lib/python3.10/site-packages (from anyio<4.0.0,>=3.6.1->opentrons) (1.1.2)\n",
      "Collecting attrs>=17.4.0 (from jsonschema<4.18.0,>=3.0.1->opentrons)\n",
      "  Obtaining dependency information for attrs>=17.4.0 from https://files.pythonhosted.org/packages/9b/2b/913eda7a67f7bea7496c1a8e1666f48aa9f15520da79368e4ec1109e2690/attrs-24.1.0-py3-none-any.whl.metadata\n",
      "  Downloading attrs-24.1.0-py3-none-any.whl.metadata (14 kB)\n",
      "Collecting pyrsistent!=0.17.0,!=0.17.1,!=0.17.2,>=0.14.0 (from jsonschema<4.18.0,>=3.0.1->opentrons)\n",
      "  Obtaining dependency information for pyrsistent!=0.17.0,!=0.17.1,!=0.17.2,>=0.14.0 from https://files.pythonhosted.org/packages/c7/19/c343b14061907b629b765444b6436b160e2bd4184d17d4804bbe6381f6be/pyrsistent-0.20.0-cp310-cp310-macosx_10_9_universal2.whl.metadata\n",
      "  Downloading pyrsistent-0.20.0-cp310-cp310-macosx_10_9_universal2.whl.metadata (27 kB)\n",
      "Using cached opentrons-7.5.0-py2.py3-none-any.whl (1.5 MB)\n",
      "Using cached aionotify-0.2.0-py3-none-any.whl (6.6 kB)\n",
      "Using cached opentrons_shared_data-7.5.0-py2.py3-none-any.whl (648 kB)\n",
      "Using cached anyio-3.7.1-py3-none-any.whl (80 kB)\n",
      "Using cached click-8.1.7-py3-none-any.whl (97 kB)\n",
      "Using cached jsonschema-4.17.3-py3-none-any.whl (90 kB)\n",
      "Downloading pydantic-1.10.17-cp310-cp310-macosx_10_9_x86_64.whl (2.6 MB)\n",
      "\u001b[2K   \u001b[90m━━━━━━━━━━━━━━━━━━━━━━━━━━━━━━━━━━━━━━━━\u001b[0m \u001b[32m2.6/2.6 MB\u001b[0m \u001b[31m2.2 MB/s\u001b[0m eta \u001b[36m0:00:00\u001b[0m00:01\u001b[0m00:01\u001b[0m\n",
      "\u001b[?25hUsing cached pyserial-3.5-py2.py3-none-any.whl (90 kB)\n",
      "Downloading attrs-24.1.0-py3-none-any.whl (63 kB)\n",
      "\u001b[2K   \u001b[90m━━━━━━━━━━━━━━━━━━━━━━━━━━━━━━━━━━━━━━━━\u001b[0m \u001b[32m63.9/63.9 kB\u001b[0m \u001b[31m2.1 MB/s\u001b[0m eta \u001b[36m0:00:00\u001b[0m\n",
      "\u001b[?25hDownloading pyrsistent-0.20.0-cp310-cp310-macosx_10_9_universal2.whl (83 kB)\n",
      "\u001b[2K   \u001b[90m━━━━━━━━━━━━━━━━━━━━━━━━━━━━━━━━━━━━━━━━\u001b[0m \u001b[32m83.4/83.4 kB\u001b[0m \u001b[31m2.2 MB/s\u001b[0m eta \u001b[36m0:00:00\u001b[0m\n",
      "\u001b[?25hUsing cached sniffio-1.3.1-py3-none-any.whl (10 kB)\n",
      "Installing collected packages: pyserial, aionotify, sniffio, pyrsistent, pydantic, click, attrs, jsonschema, anyio, opentrons-shared-data, opentrons\n",
      "Successfully installed aionotify-0.2.0 anyio-3.7.1 attrs-24.1.0 click-8.1.7 jsonschema-4.17.3 opentrons-7.5.0 opentrons-shared-data-7.5.0 pydantic-1.10.17 pyrsistent-0.20.0 pyserial-3.5 sniffio-1.3.1\n"
     ]
    }
   ],
   "source": [
    "!pip install opentrons"
   ]
  },
  {
   "cell_type": "code",
   "execution_count": 5,
   "metadata": {},
   "outputs": [
    {
     "name": "stderr",
     "output_type": "stream",
     "text": [
      "/Users/lucaslevassor/.opentrons/robot_settings.json not found. Loading defaults\n",
      "Deck calibration not found.\n",
      "/Users/lucaslevassor/.opentrons/deck_calibration.json not found. Loading defaults\n"
     ]
    },
    {
     "ename": "OutOfTipsError",
     "evalue": "",
     "output_type": "error",
     "traceback": [
      "\u001b[0;31m---------------------------------------------------------------------------\u001b[0m",
      "\u001b[0;31mIndexError\u001b[0m                                Traceback (most recent call last)",
      "File \u001b[0;32m~/opt/anaconda3/envs/py_3_10/lib/python3.10/site-packages/opentrons/protocol_api/labware.py:1074\u001b[0m, in \u001b[0;36mselect_tiprack_from_list\u001b[0;34m(tip_racks, num_channels, starting_point, nozzle_map)\u001b[0m\n\u001b[1;32m   1073\u001b[0m \u001b[38;5;28;01mtry\u001b[39;00m:\n\u001b[0;32m-> 1074\u001b[0m     first, rest \u001b[38;5;241m=\u001b[39m \u001b[43msplit_tipracks\u001b[49m\u001b[43m(\u001b[49m\u001b[43mtip_racks\u001b[49m\u001b[43m)\u001b[49m\n\u001b[1;32m   1075\u001b[0m \u001b[38;5;28;01mexcept\u001b[39;00m \u001b[38;5;167;01mIndexError\u001b[39;00m:\n",
      "File \u001b[0;32m~/opt/anaconda3/envs/py_3_10/lib/python3.10/site-packages/opentrons/protocol_api/labware.py:1062\u001b[0m, in \u001b[0;36msplit_tipracks\u001b[0;34m(tip_racks)\u001b[0m\n\u001b[1;32m   1061\u001b[0m     rest \u001b[38;5;241m=\u001b[39m []\n\u001b[0;32m-> 1062\u001b[0m \u001b[38;5;28;01mreturn\u001b[39;00m \u001b[43mtip_racks\u001b[49m\u001b[43m[\u001b[49m\u001b[38;5;241;43m0\u001b[39;49m\u001b[43m]\u001b[49m, rest\n",
      "\u001b[0;31mIndexError\u001b[0m: list index out of range",
      "\nDuring handling of the above exception, another exception occurred:\n",
      "\u001b[0;31mOutOfTipsError\u001b[0m                            Traceback (most recent call last)",
      "Cell \u001b[0;32mIn[5], line 37\u001b[0m\n\u001b[1;32m     35\u001b[0m \u001b[38;5;66;03m# simulate the protocol\u001b[39;00m\n\u001b[1;32m     36\u001b[0m protocol_context \u001b[38;5;241m=\u001b[39m simulate\u001b[38;5;241m.\u001b[39mget_protocol_api(\u001b[38;5;124m'\u001b[39m\u001b[38;5;124m2.11\u001b[39m\u001b[38;5;124m'\u001b[39m)\n\u001b[0;32m---> 37\u001b[0m \u001b[43mrun\u001b[49m\u001b[43m(\u001b[49m\u001b[43mprotocol_context\u001b[49m\u001b[43m)\u001b[49m\n\u001b[1;32m     39\u001b[0m \u001b[38;5;66;03m# print the protocol commands\u001b[39;00m\n\u001b[1;32m     40\u001b[0m \u001b[38;5;28;01mfor\u001b[39;00m command \u001b[38;5;129;01min\u001b[39;00m protocol_context\u001b[38;5;241m.\u001b[39mcommands():\n",
      "Cell \u001b[0;32mIn[5], line 32\u001b[0m, in \u001b[0;36mrun\u001b[0;34m(protocol)\u001b[0m\n\u001b[1;32m     30\u001b[0m \u001b[38;5;66;03m# transfer 4µl of forward and reverse primers to the destination plate\u001b[39;00m\n\u001b[1;32m     31\u001b[0m \u001b[38;5;28;01mfor\u001b[39;00m well \u001b[38;5;129;01min\u001b[39;00m wells_96[:\u001b[38;5;241m84\u001b[39m]:  \u001b[38;5;66;03m# from A1 to G12 (inclusive)\u001b[39;00m\n\u001b[0;32m---> 32\u001b[0m     \u001b[43mp10\u001b[49m\u001b[38;5;241;43m.\u001b[39;49m\u001b[43mtransfer\u001b[49m\u001b[43m(\u001b[49m\u001b[38;5;241;43m4\u001b[39;49m\u001b[43m,\u001b[49m\u001b[43m \u001b[49m\u001b[43mforward_plate\u001b[49m\u001b[43m[\u001b[49m\u001b[43mwell\u001b[49m\u001b[43m]\u001b[49m\u001b[43m,\u001b[49m\u001b[43m \u001b[49m\u001b[43mdestination_plate\u001b[49m\u001b[43m[\u001b[49m\u001b[43mwell\u001b[49m\u001b[43m]\u001b[49m\u001b[43m,\u001b[49m\u001b[43m \u001b[49m\u001b[43mnew_tip\u001b[49m\u001b[38;5;241;43m=\u001b[39;49m\u001b[38;5;124;43m'\u001b[39;49m\u001b[38;5;124;43malways\u001b[39;49m\u001b[38;5;124;43m'\u001b[39;49m\u001b[43m)\u001b[49m\n\u001b[1;32m     33\u001b[0m     p10\u001b[38;5;241m.\u001b[39mtransfer(\u001b[38;5;241m4\u001b[39m, reverse_plate[well], destination_plate[well], new_tip\u001b[38;5;241m=\u001b[39m\u001b[38;5;124m'\u001b[39m\u001b[38;5;124malways\u001b[39m\u001b[38;5;124m'\u001b[39m)\n",
      "File \u001b[0;32m~/opt/anaconda3/envs/py_3_10/lib/python3.10/site-packages/opentrons/legacy_commands/publisher.py:95\u001b[0m, in \u001b[0;36mpublish.<locals>._decorator.<locals>._decorated\u001b[0;34m(*args, **kwargs)\u001b[0m\n\u001b[1;32m     92\u001b[0m command_message \u001b[38;5;241m=\u001b[39m command(\u001b[38;5;241m*\u001b[39m\u001b[38;5;241m*\u001b[39mmessage_creator_args)\n\u001b[1;32m     94\u001b[0m \u001b[38;5;28;01mwith\u001b[39;00m publish_context(broker\u001b[38;5;241m=\u001b[39mbroker, command\u001b[38;5;241m=\u001b[39mcommand_message):\n\u001b[0;32m---> 95\u001b[0m     \u001b[38;5;28;01mreturn\u001b[39;00m \u001b[43mfunc\u001b[49m\u001b[43m(\u001b[49m\u001b[38;5;241;43m*\u001b[39;49m\u001b[43margs\u001b[49m\u001b[43m,\u001b[49m\u001b[43m \u001b[49m\u001b[38;5;241;43m*\u001b[39;49m\u001b[38;5;241;43m*\u001b[39;49m\u001b[43mkwargs\u001b[49m\u001b[43m)\u001b[49m\n",
      "File \u001b[0;32m~/opt/anaconda3/envs/py_3_10/lib/python3.10/site-packages/opentrons/protocols/api_support/util.py:383\u001b[0m, in \u001b[0;36mrequires_version.<locals>._set_version.<locals>._check_version_wrapper\u001b[0;34m(*args, **kwargs)\u001b[0m\n\u001b[1;32m    375\u001b[0m     name \u001b[38;5;241m=\u001b[39m \u001b[38;5;28mgetattr\u001b[39m(decorated_obj, \u001b[38;5;124m\"\u001b[39m\u001b[38;5;124m__qualname__\u001b[39m\u001b[38;5;124m\"\u001b[39m, \u001b[38;5;28mstr\u001b[39m(decorated_obj))\n\u001b[1;32m    377\u001b[0m     \u001b[38;5;28;01mraise\u001b[39;00m APIVersionError(\n\u001b[1;32m    378\u001b[0m         \u001b[38;5;124mf\u001b[39m\u001b[38;5;124m\"\u001b[39m\u001b[38;5;132;01m{\u001b[39;00mname\u001b[38;5;132;01m}\u001b[39;00m\u001b[38;5;124m was added in \u001b[39m\u001b[38;5;132;01m{\u001b[39;00madded_in\u001b[38;5;132;01m}\u001b[39;00m\u001b[38;5;124m, but your \u001b[39m\u001b[38;5;124m\"\u001b[39m\n\u001b[1;32m    379\u001b[0m         \u001b[38;5;124mf\u001b[39m\u001b[38;5;124m\"\u001b[39m\u001b[38;5;124mprotocol requested version \u001b[39m\u001b[38;5;132;01m{\u001b[39;00mcurrent_version\u001b[38;5;132;01m}\u001b[39;00m\u001b[38;5;124m. You \u001b[39m\u001b[38;5;124m\"\u001b[39m\n\u001b[1;32m    380\u001b[0m         \u001b[38;5;124mf\u001b[39m\u001b[38;5;124m\"\u001b[39m\u001b[38;5;124mmust increase your API version to \u001b[39m\u001b[38;5;132;01m{\u001b[39;00madded_in\u001b[38;5;132;01m}\u001b[39;00m\u001b[38;5;124m to \u001b[39m\u001b[38;5;124m\"\u001b[39m\n\u001b[1;32m    381\u001b[0m         \u001b[38;5;124m\"\u001b[39m\u001b[38;5;124muse this functionality.\u001b[39m\u001b[38;5;124m\"\u001b[39m\n\u001b[1;32m    382\u001b[0m     )\n\u001b[0;32m--> 383\u001b[0m \u001b[38;5;28;01mreturn\u001b[39;00m \u001b[43mdecorated_obj\u001b[49m\u001b[43m(\u001b[49m\u001b[38;5;241;43m*\u001b[39;49m\u001b[43margs\u001b[49m\u001b[43m,\u001b[49m\u001b[43m \u001b[49m\u001b[38;5;241;43m*\u001b[39;49m\u001b[38;5;241;43m*\u001b[39;49m\u001b[43mkwargs\u001b[49m\u001b[43m)\u001b[49m\n",
      "File \u001b[0;32m~/opt/anaconda3/envs/py_3_10/lib/python3.10/site-packages/opentrons/protocol_api/instrument_context.py:1386\u001b[0m, in \u001b[0;36mInstrumentContext.transfer\u001b[0;34m(self, volume, source, dest, trash, **kwargs)\u001b[0m\n\u001b[1;32m   1383\u001b[0m         blow_out_strategy \u001b[38;5;241m=\u001b[39m transfers\u001b[38;5;241m.\u001b[39mBlowOutStrategy\u001b[38;5;241m.\u001b[39mTRASH\n\u001b[1;32m   1385\u001b[0m \u001b[38;5;28;01mif\u001b[39;00m new_tip \u001b[38;5;241m!=\u001b[39m types\u001b[38;5;241m.\u001b[39mTransferTipPolicy\u001b[38;5;241m.\u001b[39mNEVER:\n\u001b[0;32m-> 1386\u001b[0m     tr, next_tip \u001b[38;5;241m=\u001b[39m \u001b[43mlabware\u001b[49m\u001b[38;5;241;43m.\u001b[39;49m\u001b[43mnext_available_tip\u001b[49m\u001b[43m(\u001b[49m\n\u001b[1;32m   1387\u001b[0m \u001b[43m        \u001b[49m\u001b[38;5;28;43mself\u001b[39;49m\u001b[38;5;241;43m.\u001b[39;49m\u001b[43mstarting_tip\u001b[49m\u001b[43m,\u001b[49m\n\u001b[1;32m   1388\u001b[0m \u001b[43m        \u001b[49m\u001b[38;5;28;43mself\u001b[39;49m\u001b[38;5;241;43m.\u001b[39;49m\u001b[43mtip_racks\u001b[49m\u001b[43m,\u001b[49m\n\u001b[1;32m   1389\u001b[0m \u001b[43m        \u001b[49m\u001b[43mactive_channels\u001b[49m\u001b[43m,\u001b[49m\n\u001b[1;32m   1390\u001b[0m \u001b[43m        \u001b[49m\u001b[43mnozzle_map\u001b[49m\u001b[38;5;241;43m=\u001b[39;49m\u001b[43mnozzle_map\u001b[49m\u001b[43m,\u001b[49m\n\u001b[1;32m   1391\u001b[0m \u001b[43m    \u001b[49m\u001b[43m)\u001b[49m\n\u001b[1;32m   1392\u001b[0m     max_volume \u001b[38;5;241m=\u001b[39m \u001b[38;5;28mmin\u001b[39m(next_tip\u001b[38;5;241m.\u001b[39mmax_volume, \u001b[38;5;28mself\u001b[39m\u001b[38;5;241m.\u001b[39mmax_volume)\n\u001b[1;32m   1393\u001b[0m \u001b[38;5;28;01melse\u001b[39;00m:\n",
      "File \u001b[0;32m~/opt/anaconda3/envs/py_3_10/lib/python3.10/site-packages/opentrons/protocol_api/labware.py:1113\u001b[0m, in \u001b[0;36mnext_available_tip\u001b[0;34m(starting_tip, tip_racks, channels, nozzle_map)\u001b[0m\n\u001b[1;32m   1111\u001b[0m start \u001b[38;5;241m=\u001b[39m starting_tip\n\u001b[1;32m   1112\u001b[0m \u001b[38;5;28;01mif\u001b[39;00m start \u001b[38;5;129;01mis\u001b[39;00m \u001b[38;5;28;01mNone\u001b[39;00m:\n\u001b[0;32m-> 1113\u001b[0m     \u001b[38;5;28;01mreturn\u001b[39;00m \u001b[43mselect_tiprack_from_list\u001b[49m\u001b[43m(\u001b[49m\n\u001b[1;32m   1114\u001b[0m \u001b[43m        \u001b[49m\u001b[43mtip_racks\u001b[49m\u001b[43m,\u001b[49m\u001b[43m \u001b[49m\u001b[43mchannels\u001b[49m\u001b[43m,\u001b[49m\u001b[43m \u001b[49m\u001b[38;5;28;43;01mNone\u001b[39;49;00m\u001b[43m,\u001b[49m\u001b[43m \u001b[49m\u001b[43mnozzle_map\u001b[49m\u001b[38;5;241;43m=\u001b[39;49m\u001b[43mnozzle_map\u001b[49m\n\u001b[1;32m   1115\u001b[0m \u001b[43m    \u001b[49m\u001b[43m)\u001b[49m\n\u001b[1;32m   1116\u001b[0m \u001b[38;5;28;01melse\u001b[39;00m:\n\u001b[1;32m   1117\u001b[0m     \u001b[38;5;28;01mreturn\u001b[39;00m select_tiprack_from_list(\n\u001b[1;32m   1118\u001b[0m         filter_tipracks_to_start(start, tip_racks),\n\u001b[1;32m   1119\u001b[0m         channels,\n\u001b[1;32m   1120\u001b[0m         start,\n\u001b[1;32m   1121\u001b[0m         nozzle_map\u001b[38;5;241m=\u001b[39mnozzle_map,\n\u001b[1;32m   1122\u001b[0m     )\n",
      "File \u001b[0;32m~/opt/anaconda3/envs/py_3_10/lib/python3.10/site-packages/opentrons/protocol_api/labware.py:1093\u001b[0m, in \u001b[0;36mselect_tiprack_from_list\u001b[0;34m(tip_racks, num_channels, starting_point, nozzle_map)\u001b[0m\n\u001b[1;32m   1091\u001b[0m     \u001b[38;5;28;01mreturn\u001b[39;00m first, next_tip\n\u001b[1;32m   1092\u001b[0m \u001b[38;5;28;01melse\u001b[39;00m:\n\u001b[0;32m-> 1093\u001b[0m     \u001b[38;5;28;01mreturn\u001b[39;00m \u001b[43mselect_tiprack_from_list\u001b[49m\u001b[43m(\u001b[49m\u001b[43mrest\u001b[49m\u001b[43m,\u001b[49m\u001b[43m \u001b[49m\u001b[43mnum_channels\u001b[49m\u001b[43m,\u001b[49m\u001b[43m \u001b[49m\u001b[38;5;28;43;01mNone\u001b[39;49;00m\u001b[43m,\u001b[49m\u001b[43m \u001b[49m\u001b[43mnozzle_map\u001b[49m\u001b[38;5;241;43m=\u001b[39;49m\u001b[43mnozzle_map\u001b[49m\u001b[43m)\u001b[49m\n",
      "File \u001b[0;32m~/opt/anaconda3/envs/py_3_10/lib/python3.10/site-packages/opentrons/protocol_api/labware.py:1076\u001b[0m, in \u001b[0;36mselect_tiprack_from_list\u001b[0;34m(tip_racks, num_channels, starting_point, nozzle_map)\u001b[0m\n\u001b[1;32m   1074\u001b[0m     first, rest \u001b[38;5;241m=\u001b[39m split_tipracks(tip_racks)\n\u001b[1;32m   1075\u001b[0m \u001b[38;5;28;01mexcept\u001b[39;00m \u001b[38;5;167;01mIndexError\u001b[39;00m:\n\u001b[0;32m-> 1076\u001b[0m     \u001b[38;5;28;01mraise\u001b[39;00m OutOfTipsError\n\u001b[1;32m   1078\u001b[0m \u001b[38;5;28;01mif\u001b[39;00m starting_point \u001b[38;5;129;01mand\u001b[39;00m starting_point\u001b[38;5;241m.\u001b[39mparent \u001b[38;5;241m!=\u001b[39m first:\n\u001b[1;32m   1079\u001b[0m     \u001b[38;5;28;01mraise\u001b[39;00m TipSelectionError(\n\u001b[1;32m   1080\u001b[0m         \u001b[38;5;124mf\u001b[39m\u001b[38;5;124m\"\u001b[39m\u001b[38;5;124mThe starting tip you selected does not exist in \u001b[39m\u001b[38;5;132;01m{\u001b[39;00mfirst\u001b[38;5;132;01m}\u001b[39;00m\u001b[38;5;124m\"\u001b[39m\n\u001b[1;32m   1081\u001b[0m     )\n",
      "\u001b[0;31mOutOfTipsError\u001b[0m: "
     ]
    }
   ],
   "source": [
    "from opentrons import simulate, protocol_api\n",
    "\n",
    "# metadata\n",
    "metadata = {\n",
    "    'protocolName': 'PCR Setup',\n",
    "    'author': 'Your Name <your.email@example.com>',\n",
    "    'description': 'Add mastermix, forward primers, and reverse primers to destination plate',\n",
    "    'apiLevel': '2.11'\n",
    "}\n",
    "\n",
    "def run(protocol: protocol_api.ProtocolContext):\n",
    "\n",
    "    # labware\n",
    "    forward_plate = protocol.load_labware('corning_96_wellplate_360ul_flat', '1')\n",
    "    reverse_plate = protocol.load_labware('corning_96_wellplate_360ul_flat', '2')\n",
    "    destination_plate = protocol.load_labware('corning_96_wellplate_360ul_flat', '3')\n",
    "    mastermix_tube = protocol.load_labware('opentrons_24_tuberack_eppendorf_1.5ml_safelock_snapcap', '4').wells_by_name()['A1']\n",
    "\n",
    "    # pipettes\n",
    "    p300 = protocol.load_instrument('p300_single_gen2', 'right', tip_racks=[protocol.load_labware('opentrons_96_tiprack_300ul', '5')])\n",
    "    p10 = protocol.load_instrument('p10_single', 'left', tip_racks=[protocol.load_labware('opentrons_96_tiprack_10ul', '6')])\n",
    "\n",
    "    # transfer 92µl of mastermix to each well in the destination plate\n",
    "    for well in destination_plate.wells():\n",
    "        p300.transfer(92, mastermix_tube, well, new_tip='never')\n",
    "\n",
    "    # list of well names in 96-well format from A1 to G12\n",
    "    wells_96 = [f'{row}{col}' for row in 'ABCDEFGH' for col in range(1, 13)]\n",
    "\n",
    "    # transfer 4µl of forward and reverse primers to the destination plate\n",
    "    for well in wells_96[:84]:  # from A1 to G12 (inclusive)\n",
    "        p10.transfer(4, forward_plate[well], destination_plate[well], new_tip='always')\n",
    "        p10.transfer(4, reverse_plate[well], destination_plate[well], new_tip='always')\n",
    "\n",
    "# simulate the protocol\n",
    "protocol_context = simulate.get_protocol_api('2.11')\n",
    "run(protocol_context)\n",
    "\n",
    "# print the protocol commands\n",
    "for command in protocol_context.commands():\n",
    "    print(command)\n"
   ]
  },
  {
   "cell_type": "code",
   "execution_count": 4,
   "metadata": {},
   "outputs": [
    {
     "name": "stderr",
     "output_type": "stream",
     "text": [
      "/Users/lucaslevassor/.opentrons/robot_settings.json not found. Loading defaults\n",
      "Deck calibration not found.\n",
      "/Users/lucaslevassor/.opentrons/deck_calibration.json not found. Loading defaults\n"
     ]
    },
    {
     "ename": "FileNotFoundError",
     "evalue": "Unable to find a labware\n        definition for \"96_wellplate_200ul\",\n        version 1, in the opentrons namespace.\n        Please confirm your protocol includes the correct\n        labware spelling and (optionally) the correct version\n        number and namespace.\n\n        If you are referencing a custom labware in your\n        protocol, you must add it to your Custom Labware\n        Definitions Folder from the Opentrons App before\n        uploading your protocol.\n        ",
     "output_type": "error",
     "traceback": [
      "\u001b[0;31m---------------------------------------------------------------------------\u001b[0m",
      "\u001b[0;31mFileNotFoundError\u001b[0m                         Traceback (most recent call last)",
      "Cell \u001b[0;32mIn[4], line 4\u001b[0m\n\u001b[1;32m      2\u001b[0m \u001b[38;5;66;03m# simulate the protocol\u001b[39;00m\n\u001b[1;32m      3\u001b[0m protocol_context \u001b[38;5;241m=\u001b[39m simulate\u001b[38;5;241m.\u001b[39mget_protocol_api(\u001b[38;5;124m'\u001b[39m\u001b[38;5;124m2.11\u001b[39m\u001b[38;5;124m'\u001b[39m)\n\u001b[0;32m----> 4\u001b[0m \u001b[43mrun\u001b[49m\u001b[43m(\u001b[49m\u001b[43mprotocol_context\u001b[49m\u001b[43m)\u001b[49m\n\u001b[1;32m      6\u001b[0m \u001b[38;5;66;03m# print the protocol commands\u001b[39;00m\n\u001b[1;32m      7\u001b[0m \u001b[38;5;28;01mfor\u001b[39;00m command \u001b[38;5;129;01min\u001b[39;00m protocol_context\u001b[38;5;241m.\u001b[39mcommands():\n",
      "Cell \u001b[0;32mIn[2], line 14\u001b[0m, in \u001b[0;36mrun\u001b[0;34m(protocol)\u001b[0m\n\u001b[1;32m     11\u001b[0m \u001b[38;5;28;01mdef\u001b[39;00m \u001b[38;5;21mrun\u001b[39m(protocol: protocol_api\u001b[38;5;241m.\u001b[39mProtocolContext):\n\u001b[1;32m     12\u001b[0m \n\u001b[1;32m     13\u001b[0m     \u001b[38;5;66;03m# labware\u001b[39;00m\n\u001b[0;32m---> 14\u001b[0m     forward_plate \u001b[38;5;241m=\u001b[39m \u001b[43mprotocol\u001b[49m\u001b[38;5;241;43m.\u001b[39;49m\u001b[43mload_labware\u001b[49m\u001b[43m(\u001b[49m\u001b[38;5;124;43m'\u001b[39;49m\u001b[38;5;124;43m96_wellplate_200ul\u001b[39;49m\u001b[38;5;124;43m'\u001b[39;49m\u001b[43m,\u001b[49m\u001b[43m \u001b[49m\u001b[38;5;124;43m'\u001b[39;49m\u001b[38;5;124;43m1\u001b[39;49m\u001b[38;5;124;43m'\u001b[39;49m\u001b[43m)\u001b[49m\n\u001b[1;32m     15\u001b[0m     reverse_plate \u001b[38;5;241m=\u001b[39m protocol\u001b[38;5;241m.\u001b[39mload_labware(\u001b[38;5;124m'\u001b[39m\u001b[38;5;124m96_wellplate_200ul\u001b[39m\u001b[38;5;124m'\u001b[39m, \u001b[38;5;124m'\u001b[39m\u001b[38;5;124m2\u001b[39m\u001b[38;5;124m'\u001b[39m)\n\u001b[1;32m     16\u001b[0m     destination_plate \u001b[38;5;241m=\u001b[39m protocol\u001b[38;5;241m.\u001b[39mload_labware(\u001b[38;5;124m'\u001b[39m\u001b[38;5;124m96_wellplate_200ul\u001b[39m\u001b[38;5;124m'\u001b[39m, \u001b[38;5;124m'\u001b[39m\u001b[38;5;124m3\u001b[39m\u001b[38;5;124m'\u001b[39m)\n",
      "File \u001b[0;32m~/opt/anaconda3/envs/py_3_10/lib/python3.10/site-packages/opentrons/protocols/api_support/util.py:383\u001b[0m, in \u001b[0;36mrequires_version.<locals>._set_version.<locals>._check_version_wrapper\u001b[0;34m(*args, **kwargs)\u001b[0m\n\u001b[1;32m    375\u001b[0m     name \u001b[38;5;241m=\u001b[39m \u001b[38;5;28mgetattr\u001b[39m(decorated_obj, \u001b[38;5;124m\"\u001b[39m\u001b[38;5;124m__qualname__\u001b[39m\u001b[38;5;124m\"\u001b[39m, \u001b[38;5;28mstr\u001b[39m(decorated_obj))\n\u001b[1;32m    377\u001b[0m     \u001b[38;5;28;01mraise\u001b[39;00m APIVersionError(\n\u001b[1;32m    378\u001b[0m         \u001b[38;5;124mf\u001b[39m\u001b[38;5;124m\"\u001b[39m\u001b[38;5;132;01m{\u001b[39;00mname\u001b[38;5;132;01m}\u001b[39;00m\u001b[38;5;124m was added in \u001b[39m\u001b[38;5;132;01m{\u001b[39;00madded_in\u001b[38;5;132;01m}\u001b[39;00m\u001b[38;5;124m, but your \u001b[39m\u001b[38;5;124m\"\u001b[39m\n\u001b[1;32m    379\u001b[0m         \u001b[38;5;124mf\u001b[39m\u001b[38;5;124m\"\u001b[39m\u001b[38;5;124mprotocol requested version \u001b[39m\u001b[38;5;132;01m{\u001b[39;00mcurrent_version\u001b[38;5;132;01m}\u001b[39;00m\u001b[38;5;124m. You \u001b[39m\u001b[38;5;124m\"\u001b[39m\n\u001b[1;32m    380\u001b[0m         \u001b[38;5;124mf\u001b[39m\u001b[38;5;124m\"\u001b[39m\u001b[38;5;124mmust increase your API version to \u001b[39m\u001b[38;5;132;01m{\u001b[39;00madded_in\u001b[38;5;132;01m}\u001b[39;00m\u001b[38;5;124m to \u001b[39m\u001b[38;5;124m\"\u001b[39m\n\u001b[1;32m    381\u001b[0m         \u001b[38;5;124m\"\u001b[39m\u001b[38;5;124muse this functionality.\u001b[39m\u001b[38;5;124m\"\u001b[39m\n\u001b[1;32m    382\u001b[0m     )\n\u001b[0;32m--> 383\u001b[0m \u001b[38;5;28;01mreturn\u001b[39;00m \u001b[43mdecorated_obj\u001b[49m\u001b[43m(\u001b[49m\u001b[38;5;241;43m*\u001b[39;49m\u001b[43margs\u001b[49m\u001b[43m,\u001b[49m\u001b[43m \u001b[49m\u001b[38;5;241;43m*\u001b[39;49m\u001b[38;5;241;43m*\u001b[39;49m\u001b[43mkwargs\u001b[49m\u001b[43m)\u001b[49m\n",
      "File \u001b[0;32m~/opt/anaconda3/envs/py_3_10/lib/python3.10/site-packages/opentrons/protocol_api/protocol_context.py:434\u001b[0m, in \u001b[0;36mProtocolContext.load_labware\u001b[0;34m(self, load_name, location, label, namespace, version, adapter)\u001b[0m\n\u001b[1;32m    429\u001b[0m \u001b[38;5;28;01melse\u001b[39;00m:\n\u001b[1;32m    430\u001b[0m     load_location \u001b[38;5;241m=\u001b[39m validation\u001b[38;5;241m.\u001b[39mensure_and_convert_deck_slot(\n\u001b[1;32m    431\u001b[0m         location, \u001b[38;5;28mself\u001b[39m\u001b[38;5;241m.\u001b[39m_api_version, \u001b[38;5;28mself\u001b[39m\u001b[38;5;241m.\u001b[39m_core\u001b[38;5;241m.\u001b[39mrobot_type\n\u001b[1;32m    432\u001b[0m     )\n\u001b[0;32m--> 434\u001b[0m labware_core \u001b[38;5;241m=\u001b[39m \u001b[38;5;28;43mself\u001b[39;49m\u001b[38;5;241;43m.\u001b[39;49m\u001b[43m_core\u001b[49m\u001b[38;5;241;43m.\u001b[39;49m\u001b[43mload_labware\u001b[49m\u001b[43m(\u001b[49m\n\u001b[1;32m    435\u001b[0m \u001b[43m    \u001b[49m\u001b[43mload_name\u001b[49m\u001b[38;5;241;43m=\u001b[39;49m\u001b[43mload_name\u001b[49m\u001b[43m,\u001b[49m\n\u001b[1;32m    436\u001b[0m \u001b[43m    \u001b[49m\u001b[43mlocation\u001b[49m\u001b[38;5;241;43m=\u001b[39;49m\u001b[43mload_location\u001b[49m\u001b[43m,\u001b[49m\n\u001b[1;32m    437\u001b[0m \u001b[43m    \u001b[49m\u001b[43mlabel\u001b[49m\u001b[38;5;241;43m=\u001b[39;49m\u001b[43mlabel\u001b[49m\u001b[43m,\u001b[49m\n\u001b[1;32m    438\u001b[0m \u001b[43m    \u001b[49m\u001b[43mnamespace\u001b[49m\u001b[38;5;241;43m=\u001b[39;49m\u001b[43mnamespace\u001b[49m\u001b[43m,\u001b[49m\n\u001b[1;32m    439\u001b[0m \u001b[43m    \u001b[49m\u001b[43mversion\u001b[49m\u001b[38;5;241;43m=\u001b[39;49m\u001b[43mversion\u001b[49m\u001b[43m,\u001b[49m\n\u001b[1;32m    440\u001b[0m \u001b[43m\u001b[49m\u001b[43m)\u001b[49m\n\u001b[1;32m    442\u001b[0m labware \u001b[38;5;241m=\u001b[39m Labware(\n\u001b[1;32m    443\u001b[0m     core\u001b[38;5;241m=\u001b[39mlabware_core,\n\u001b[1;32m    444\u001b[0m     api_version\u001b[38;5;241m=\u001b[39m\u001b[38;5;28mself\u001b[39m\u001b[38;5;241m.\u001b[39m_api_version,\n\u001b[1;32m    445\u001b[0m     protocol_core\u001b[38;5;241m=\u001b[39m\u001b[38;5;28mself\u001b[39m\u001b[38;5;241m.\u001b[39m_core,\n\u001b[1;32m    446\u001b[0m     core_map\u001b[38;5;241m=\u001b[39m\u001b[38;5;28mself\u001b[39m\u001b[38;5;241m.\u001b[39m_core_map,\n\u001b[1;32m    447\u001b[0m )\n\u001b[1;32m    448\u001b[0m \u001b[38;5;28mself\u001b[39m\u001b[38;5;241m.\u001b[39m_core_map\u001b[38;5;241m.\u001b[39madd(labware_core, labware)\n",
      "File \u001b[0;32m~/opt/anaconda3/envs/py_3_10/lib/python3.10/site-packages/opentrons/protocol_api/core/legacy/legacy_protocol_core.py:195\u001b[0m, in \u001b[0;36mLegacyProtocolCore.load_labware\u001b[0;34m(self, load_name, location, label, namespace, version)\u001b[0m\n\u001b[1;32m    185\u001b[0m deck_slot \u001b[38;5;241m=\u001b[39m (\n\u001b[1;32m    186\u001b[0m     location \u001b[38;5;28;01mif\u001b[39;00m \u001b[38;5;28misinstance\u001b[39m(location, DeckSlotName) \u001b[38;5;28;01melse\u001b[39;00m location\u001b[38;5;241m.\u001b[39mget_deck_slot()\n\u001b[1;32m    187\u001b[0m )\n\u001b[1;32m    189\u001b[0m parent \u001b[38;5;241m=\u001b[39m (\n\u001b[1;32m    190\u001b[0m     \u001b[38;5;28mself\u001b[39m\u001b[38;5;241m.\u001b[39mget_deck()\u001b[38;5;241m.\u001b[39mposition_for(location\u001b[38;5;241m.\u001b[39mvalue)\n\u001b[1;32m    191\u001b[0m     \u001b[38;5;28;01mif\u001b[39;00m \u001b[38;5;28misinstance\u001b[39m(location, DeckSlotName)\n\u001b[1;32m    192\u001b[0m     \u001b[38;5;28;01melse\u001b[39;00m location\u001b[38;5;241m.\u001b[39mgeometry\u001b[38;5;241m.\u001b[39mlocation\n\u001b[1;32m    193\u001b[0m )\n\u001b[0;32m--> 195\u001b[0m labware_def \u001b[38;5;241m=\u001b[39m \u001b[43mlabware_definition\u001b[49m\u001b[38;5;241;43m.\u001b[39;49m\u001b[43mget_labware_definition\u001b[49m\u001b[43m(\u001b[49m\n\u001b[1;32m    196\u001b[0m \u001b[43m    \u001b[49m\u001b[43mload_name\u001b[49m\u001b[43m,\u001b[49m\n\u001b[1;32m    197\u001b[0m \u001b[43m    \u001b[49m\u001b[43mnamespace\u001b[49m\u001b[43m,\u001b[49m\n\u001b[1;32m    198\u001b[0m \u001b[43m    \u001b[49m\u001b[43mversion\u001b[49m\u001b[43m,\u001b[49m\n\u001b[1;32m    199\u001b[0m \u001b[43m    \u001b[49m\u001b[43mbundled_defs\u001b[49m\u001b[38;5;241;43m=\u001b[39;49m\u001b[38;5;28;43mself\u001b[39;49m\u001b[38;5;241;43m.\u001b[39;49m\u001b[43m_bundled_labware\u001b[49m\u001b[43m,\u001b[49m\n\u001b[1;32m    200\u001b[0m \u001b[43m    \u001b[49m\u001b[43mextra_defs\u001b[49m\u001b[38;5;241;43m=\u001b[39;49m\u001b[38;5;28;43mself\u001b[39;49m\u001b[38;5;241;43m.\u001b[39;49m\u001b[43m_extra_labware\u001b[49m\u001b[43m,\u001b[49m\n\u001b[1;32m    201\u001b[0m \u001b[43m\u001b[49m\u001b[43m)\u001b[49m\n\u001b[1;32m    202\u001b[0m labware_core \u001b[38;5;241m=\u001b[39m LegacyLabwareCore(\n\u001b[1;32m    203\u001b[0m     definition\u001b[38;5;241m=\u001b[39mlabware_def,\n\u001b[1;32m    204\u001b[0m     parent\u001b[38;5;241m=\u001b[39mparent,\n\u001b[1;32m    205\u001b[0m     label\u001b[38;5;241m=\u001b[39mlabel,\n\u001b[1;32m    206\u001b[0m )\n\u001b[1;32m    207\u001b[0m labware_load_params \u001b[38;5;241m=\u001b[39m labware_core\u001b[38;5;241m.\u001b[39mget_load_params()\n",
      "File \u001b[0;32m~/opt/anaconda3/envs/py_3_10/lib/python3.10/site-packages/opentrons/protocols/labware.py:63\u001b[0m, in \u001b[0;36mget_labware_definition\u001b[0;34m(load_name, namespace, version, bundled_defs, extra_defs)\u001b[0m\n\u001b[1;32m     60\u001b[0m \u001b[38;5;28;01mexcept\u001b[39;00m (\u001b[38;5;167;01mFileNotFoundError\u001b[39;00m, \u001b[38;5;167;01mRuntimeError\u001b[39;00m):\n\u001b[1;32m     61\u001b[0m     \u001b[38;5;28;01mpass\u001b[39;00m\n\u001b[0;32m---> 63\u001b[0m \u001b[38;5;28;01mreturn\u001b[39;00m \u001b[43m_get_standard_labware_definition\u001b[49m\u001b[43m(\u001b[49m\u001b[43mload_name\u001b[49m\u001b[43m,\u001b[49m\u001b[43m \u001b[49m\u001b[43mnamespace\u001b[49m\u001b[43m,\u001b[49m\u001b[43m \u001b[49m\u001b[43mversion\u001b[49m\u001b[43m)\u001b[49m\n",
      "File \u001b[0;32m~/opt/anaconda3/envs/py_3_10/lib/python3.10/site-packages/opentrons/protocols/labware.py:232\u001b[0m, in \u001b[0;36m_get_standard_labware_definition\u001b[0;34m(load_name, namespace, version)\u001b[0m\n\u001b[1;32m    229\u001b[0m         \u001b[38;5;28;01mexcept\u001b[39;00m \u001b[38;5;167;01mFileNotFoundError\u001b[39;00m:\n\u001b[1;32m    230\u001b[0m             \u001b[38;5;28;01mpass\u001b[39;00m\n\u001b[0;32m--> 232\u001b[0m     \u001b[38;5;28;01mraise\u001b[39;00m \u001b[38;5;167;01mFileNotFoundError\u001b[39;00m(\n\u001b[1;32m    233\u001b[0m         error_msg_string\u001b[38;5;241m.\u001b[39mformat(load_name, checked_version, OPENTRONS_NAMESPACE)\n\u001b[1;32m    234\u001b[0m     )\n\u001b[1;32m    236\u001b[0m namespace \u001b[38;5;241m=\u001b[39m namespace\u001b[38;5;241m.\u001b[39mlower()\n\u001b[1;32m    237\u001b[0m def_path \u001b[38;5;241m=\u001b[39m _get_path_to_labware(load_name, namespace, checked_version)\n",
      "\u001b[0;31mFileNotFoundError\u001b[0m: Unable to find a labware\n        definition for \"96_wellplate_200ul\",\n        version 1, in the opentrons namespace.\n        Please confirm your protocol includes the correct\n        labware spelling and (optionally) the correct version\n        number and namespace.\n\n        If you are referencing a custom labware in your\n        protocol, you must add it to your Custom Labware\n        Definitions Folder from the Opentrons App before\n        uploading your protocol.\n        "
     ]
    }
   ],
   "source": [
    "from opentrons import simulate\n",
    "# simulate the protocol\n",
    "protocol_context = simulate.get_protocol_api('2.11')\n",
    "run(protocol_context)\n",
    "\n",
    "# print the protocol commands\n",
    "for command in protocol_context.commands():\n",
    "    print(command)"
   ]
  },
  {
   "cell_type": "code",
   "execution_count": null,
   "metadata": {},
   "outputs": [],
   "source": []
  }
 ],
 "metadata": {
  "kernelspec": {
   "display_name": "py_3_11",
   "language": "python",
   "name": "python3"
  },
  "language_info": {
   "codemirror_mode": {
    "name": "ipython",
    "version": 3
   },
   "file_extension": ".py",
   "mimetype": "text/x-python",
   "name": "python",
   "nbconvert_exporter": "python",
   "pygments_lexer": "ipython3",
   "version": "3.10.12"
  }
 },
 "nbformat": 4,
 "nbformat_minor": 2
}
