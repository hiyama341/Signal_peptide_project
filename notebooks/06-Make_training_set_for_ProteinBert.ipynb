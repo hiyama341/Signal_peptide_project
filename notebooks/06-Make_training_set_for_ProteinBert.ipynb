{
 "cells": [
  {
   "cell_type": "code",
   "execution_count": 1,
   "metadata": {},
   "outputs": [],
   "source": [
    "from teemi.design.fetch_sequences import read_fasta_files\n",
    "\n",
    "a_flavus = read_fasta_files('../data/08_genomes/FungiDB-62_AflavusNRRL3357_AnnotatedProteins.fasta'  )\n",
    "a_fumigatus = read_fasta_files('../data/08_genomes/FungiDB-62_AfumigatusAf293_AnnotatedProteins.fasta'  )\n",
    "a_niger = read_fasta_files('../data/08_genomes/FungiDB-62_AnigerCBS513-88_AnnotatedProteins.fasta'  )\n",
    "a_terrus = read_fasta_files('../data/08_genomes/FungiDB-62_AterreusNIH2624_AnnotatedProteins.fasta'  )\n"
   ]
  },
  {
   "cell_type": "code",
   "execution_count": 2,
   "metadata": {},
   "outputs": [
    {
     "data": {
      "text/plain": [
       "14699"
      ]
     },
     "execution_count": 2,
     "metadata": {},
     "output_type": "execute_result"
    }
   ],
   "source": [
    "len(a_flavus)"
   ]
  },
  {
   "cell_type": "code",
   "execution_count": 3,
   "metadata": {},
   "outputs": [
    {
     "data": {
      "text/plain": [
       "9840"
      ]
     },
     "execution_count": 3,
     "metadata": {},
     "output_type": "execute_result"
    }
   ],
   "source": [
    "len(a_fumigatus)\n"
   ]
  },
  {
   "cell_type": "code",
   "execution_count": 4,
   "metadata": {},
   "outputs": [
    {
     "data": {
      "text/plain": [
       "14057"
      ]
     },
     "execution_count": 4,
     "metadata": {},
     "output_type": "execute_result"
    }
   ],
   "source": [
    "len(a_niger)"
   ]
  },
  {
   "cell_type": "code",
   "execution_count": 5,
   "metadata": {},
   "outputs": [
    {
     "data": {
      "text/plain": [
       "10401"
      ]
     },
     "execution_count": 5,
     "metadata": {},
     "output_type": "execute_result"
    }
   ],
   "source": [
    "len(a_terrus)"
   ]
  },
  {
   "cell_type": "code",
   "execution_count": 6,
   "metadata": {},
   "outputs": [
    {
     "data": {
      "text/plain": [
       "48997"
      ]
     },
     "execution_count": 6,
     "metadata": {},
     "output_type": "execute_result"
    }
   ],
   "source": [
    "all_proteins = a_flavus+a_fumigatus+a_niger+a_terrus\n",
    "len(all_proteins)"
   ]
  },
  {
   "cell_type": "code",
   "execution_count": 7,
   "metadata": {},
   "outputs": [
    {
     "name": "stdout",
     "output_type": "stream",
     "text": [
      "0 5000\n",
      "5000 10000\n",
      "10000 15000\n",
      "15000 20000\n",
      "20000 25000\n",
      "25000 30000\n",
      "30000 35000\n",
      "35000 40000\n",
      "40000 45000\n"
     ]
    }
   ],
   "source": [
    "partitions = []\n",
    "for i in range(0, len(all_proteins), 5000):\n",
    "    if i <5000: \n",
    "        continue\n",
    "    else:\n",
    "        print(i-5000, i)\n",
    "        partitions.append(all_proteins[i-5000: i])\n",
    "\n",
    "partitions.append(all_proteins[4500: len(all_proteins)])"
   ]
  },
  {
   "cell_type": "code",
   "execution_count": 8,
   "metadata": {},
   "outputs": [
    {
     "data": {
      "text/plain": [
       "10"
      ]
     },
     "execution_count": 8,
     "metadata": {},
     "output_type": "execute_result"
    }
   ],
   "source": [
    "len(partitions)"
   ]
  },
  {
   "cell_type": "code",
   "execution_count": 9,
   "metadata": {},
   "outputs": [
    {
     "data": {
      "text/plain": [
       "5000"
      ]
     },
     "execution_count": 9,
     "metadata": {},
     "output_type": "execute_result"
    }
   ],
   "source": [
    "len(partitions[0])"
   ]
  },
  {
   "cell_type": "code",
   "execution_count": 10,
   "metadata": {},
   "outputs": [],
   "source": [
    "from Bio import SeqIO\n"
   ]
  },
  {
   "cell_type": "code",
   "execution_count": 11,
   "metadata": {},
   "outputs": [],
   "source": [
    "for i in range(len(partitions)):\n",
    "    with open(f\"../data/00_All_proteins_and_partitions_Aoryzae_and_/ProteinBert_partition{i}.fasta\", \"w\") as output_handle:\n",
    "        SeqIO.write(partitions[i], output_handle, \"fasta\")"
   ]
  }
 ],
 "metadata": {
  "interpreter": {
   "hash": "9bef7cf9e0d21eaeded49ffb7407ef726121738c5b84c6533cc58d29847dbefe"
  },
  "kernelspec": {
   "display_name": "Python 3.8.13 ('constrain')",
   "language": "python",
   "name": "python3"
  },
  "language_info": {
   "codemirror_mode": {
    "name": "ipython",
    "version": 3
   },
   "file_extension": ".py",
   "mimetype": "text/x-python",
   "name": "python",
   "nbconvert_exporter": "python",
   "pygments_lexer": "ipython3",
   "version": "3.8.13"
  },
  "orig_nbformat": 4
 },
 "nbformat": 4,
 "nbformat_minor": 2
}
