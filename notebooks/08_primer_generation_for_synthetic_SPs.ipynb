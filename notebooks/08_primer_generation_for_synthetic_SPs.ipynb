{
 "cells": [
  {
   "cell_type": "code",
   "execution_count": 1,
   "metadata": {},
   "outputs": [],
   "source": [
    "import pandas as pd\n",
    "from IPython.display import Image\n",
    "from Bio import SeqIO\n",
    "from Bio.Seq import Seq\n",
    "from Bio.SeqRecord import SeqRecord\n",
    "from pydna.dseqrecord import Dseqrecord"
   ]
  },
  {
   "cell_type": "markdown",
   "metadata": {},
   "source": [
    "### SPs"
   ]
  },
  {
   "cell_type": "code",
   "execution_count": 16,
   "metadata": {},
   "outputs": [
    {
     "data": {
      "text/html": [
       "<div>\n",
       "<style scoped>\n",
       "    .dataframe tbody tr th:only-of-type {\n",
       "        vertical-align: middle;\n",
       "    }\n",
       "\n",
       "    .dataframe tbody tr th {\n",
       "        vertical-align: top;\n",
       "    }\n",
       "\n",
       "    .dataframe thead th {\n",
       "        text-align: right;\n",
       "    }\n",
       "</style>\n",
       "<table border=\"1\" class=\"dataframe\">\n",
       "  <thead>\n",
       "    <tr style=\"text-align: right;\">\n",
       "      <th></th>\n",
       "      <th>SP_ID</th>\n",
       "      <th>Sequence</th>\n",
       "      <th>Perplexity</th>\n",
       "    </tr>\n",
       "  </thead>\n",
       "  <tbody>\n",
       "    <tr>\n",
       "      <th>0</th>\n",
       "      <td>SP_997</td>\n",
       "      <td>MRPTLLALGVISFALTLHS</td>\n",
       "      <td>7.515804</td>\n",
       "    </tr>\n",
       "    <tr>\n",
       "      <th>1</th>\n",
       "      <td>SP_944</td>\n",
       "      <td>MKFTLIILIIVILTIIFSPGALA</td>\n",
       "      <td>7.421489</td>\n",
       "    </tr>\n",
       "    <tr>\n",
       "      <th>2</th>\n",
       "      <td>SP_948</td>\n",
       "      <td>MKVTLSLLAVFLAALSASAIPANG</td>\n",
       "      <td>7.179219</td>\n",
       "    </tr>\n",
       "    <tr>\n",
       "      <th>3</th>\n",
       "      <td>SP_993</td>\n",
       "      <td>MKAIIILLLIILTLALTVQG</td>\n",
       "      <td>7.140379</td>\n",
       "    </tr>\n",
       "    <tr>\n",
       "      <th>4</th>\n",
       "      <td>SP_204</td>\n",
       "      <td>MRVFSATAILALSPLLIASASP</td>\n",
       "      <td>6.925975</td>\n",
       "    </tr>\n",
       "    <tr>\n",
       "      <th>...</th>\n",
       "      <td>...</td>\n",
       "      <td>...</td>\n",
       "      <td>...</td>\n",
       "    </tr>\n",
       "    <tr>\n",
       "      <th>995</th>\n",
       "      <td>SP_656</td>\n",
       "      <td>MVLGILTITAIPTVTGLANA</td>\n",
       "      <td>1.597785</td>\n",
       "    </tr>\n",
       "    <tr>\n",
       "      <th>996</th>\n",
       "      <td>SP_696</td>\n",
       "      <td>MVLGLLTIAAIPTVTGVAQA</td>\n",
       "      <td>1.563614</td>\n",
       "    </tr>\n",
       "    <tr>\n",
       "      <th>997</th>\n",
       "      <td>SP_757</td>\n",
       "      <td>MVLGLLTIAAIPTVTGVGNAVSA</td>\n",
       "      <td>1.554127</td>\n",
       "    </tr>\n",
       "    <tr>\n",
       "      <th>998</th>\n",
       "      <td>SP_253</td>\n",
       "      <td>MVLGILTITAIPTVTGVAQA</td>\n",
       "      <td>1.535361</td>\n",
       "    </tr>\n",
       "    <tr>\n",
       "      <th>999</th>\n",
       "      <td>SP_13</td>\n",
       "      <td>MVLGILTITAIPTVTGVANA</td>\n",
       "      <td>1.530345</td>\n",
       "    </tr>\n",
       "  </tbody>\n",
       "</table>\n",
       "<p>1000 rows × 3 columns</p>\n",
       "</div>"
      ],
      "text/plain": [
       "      SP_ID                  Sequence  Perplexity\n",
       "0    SP_997       MRPTLLALGVISFALTLHS    7.515804\n",
       "1    SP_944   MKFTLIILIIVILTIIFSPGALA    7.421489\n",
       "2    SP_948  MKVTLSLLAVFLAALSASAIPANG    7.179219\n",
       "3    SP_993      MKAIIILLLIILTLALTVQG    7.140379\n",
       "4    SP_204    MRVFSATAILALSPLLIASASP    6.925975\n",
       "..      ...                       ...         ...\n",
       "995  SP_656      MVLGILTITAIPTVTGLANA    1.597785\n",
       "996  SP_696      MVLGLLTIAAIPTVTGVAQA    1.563614\n",
       "997  SP_757   MVLGLLTIAAIPTVTGVGNAVSA    1.554127\n",
       "998  SP_253      MVLGILTITAIPTVTGVAQA    1.535361\n",
       "999   SP_13      MVLGILTITAIPTVTGVANA    1.530345\n",
       "\n",
       "[1000 rows x 3 columns]"
      ]
     },
     "execution_count": 16,
     "metadata": {},
     "output_type": "execute_result"
    }
   ],
   "source": [
    "sp_df = pd.read_csv('../data/15_SecretoGen/Best_signal_peptides_for_A_oryzae_RFP_his_tag_sorted.csv')\n",
    "\n",
    "# Rename the 'Unnamed: 0' column and add prefix to the numbers\n",
    "#sp_df = sp_df.rename(columns={'Unnamed: 0': 'SP_ID'})\n",
    "#sp_df['SP_ID'] = sp_df['SP_ID'].apply(lambda x: f'SP_{x}')\n",
    "sp_df = sp_df.drop(columns=['Unnamed: 0'])\n",
    "sp_df"
   ]
  },
  {
   "cell_type": "code",
   "execution_count": 17,
   "metadata": {},
   "outputs": [],
   "source": [
    "#sp_df.to_csv('../data/15_SecretoGen/Best_signal_peptides_for_A_oryzae_RFP_his_tag_sorted.csv', index= False)"
   ]
  },
  {
   "cell_type": "code",
   "execution_count": 18,
   "metadata": {},
   "outputs": [
    {
     "data": {
      "text/html": [
       "<div>\n",
       "<style scoped>\n",
       "    .dataframe tbody tr th:only-of-type {\n",
       "        vertical-align: middle;\n",
       "    }\n",
       "\n",
       "    .dataframe tbody tr th {\n",
       "        vertical-align: top;\n",
       "    }\n",
       "\n",
       "    .dataframe thead th {\n",
       "        text-align: right;\n",
       "    }\n",
       "</style>\n",
       "<table border=\"1\" class=\"dataframe\">\n",
       "  <thead>\n",
       "    <tr style=\"text-align: right;\">\n",
       "      <th></th>\n",
       "      <th>SP_ID</th>\n",
       "      <th>Sequence</th>\n",
       "      <th>Perplexity</th>\n",
       "    </tr>\n",
       "  </thead>\n",
       "  <tbody>\n",
       "    <tr>\n",
       "      <th>0</th>\n",
       "      <td>SP_997</td>\n",
       "      <td>MRPTLLALGVISFALTLHS</td>\n",
       "      <td>7.515804</td>\n",
       "    </tr>\n",
       "    <tr>\n",
       "      <th>1</th>\n",
       "      <td>SP_944</td>\n",
       "      <td>MKFTLIILIIVILTIIFSPGALA</td>\n",
       "      <td>7.421489</td>\n",
       "    </tr>\n",
       "    <tr>\n",
       "      <th>2</th>\n",
       "      <td>SP_948</td>\n",
       "      <td>MKVTLSLLAVFLAALSASAIPANG</td>\n",
       "      <td>7.179219</td>\n",
       "    </tr>\n",
       "    <tr>\n",
       "      <th>3</th>\n",
       "      <td>SP_993</td>\n",
       "      <td>MKAIIILLLIILTLALTVQG</td>\n",
       "      <td>7.140379</td>\n",
       "    </tr>\n",
       "    <tr>\n",
       "      <th>4</th>\n",
       "      <td>SP_204</td>\n",
       "      <td>MRVFSATAILALSPLLIASASP</td>\n",
       "      <td>6.925975</td>\n",
       "    </tr>\n",
       "    <tr>\n",
       "      <th>...</th>\n",
       "      <td>...</td>\n",
       "      <td>...</td>\n",
       "      <td>...</td>\n",
       "    </tr>\n",
       "    <tr>\n",
       "      <th>995</th>\n",
       "      <td>SP_656</td>\n",
       "      <td>MVLGILTITAIPTVTGLANA</td>\n",
       "      <td>1.597785</td>\n",
       "    </tr>\n",
       "    <tr>\n",
       "      <th>996</th>\n",
       "      <td>SP_696</td>\n",
       "      <td>MVLGLLTIAAIPTVTGVAQA</td>\n",
       "      <td>1.563614</td>\n",
       "    </tr>\n",
       "    <tr>\n",
       "      <th>997</th>\n",
       "      <td>SP_757</td>\n",
       "      <td>MVLGLLTIAAIPTVTGVGNAVSA</td>\n",
       "      <td>1.554127</td>\n",
       "    </tr>\n",
       "    <tr>\n",
       "      <th>998</th>\n",
       "      <td>SP_253</td>\n",
       "      <td>MVLGILTITAIPTVTGVAQA</td>\n",
       "      <td>1.535361</td>\n",
       "    </tr>\n",
       "    <tr>\n",
       "      <th>999</th>\n",
       "      <td>SP_13</td>\n",
       "      <td>MVLGILTITAIPTVTGVANA</td>\n",
       "      <td>1.530345</td>\n",
       "    </tr>\n",
       "  </tbody>\n",
       "</table>\n",
       "<p>1000 rows × 3 columns</p>\n",
       "</div>"
      ],
      "text/plain": [
       "      SP_ID                  Sequence  Perplexity\n",
       "0    SP_997       MRPTLLALGVISFALTLHS    7.515804\n",
       "1    SP_944   MKFTLIILIIVILTIIFSPGALA    7.421489\n",
       "2    SP_948  MKVTLSLLAVFLAALSASAIPANG    7.179219\n",
       "3    SP_993      MKAIIILLLIILTLALTVQG    7.140379\n",
       "4    SP_204    MRVFSATAILALSPLLIASASP    6.925975\n",
       "..      ...                       ...         ...\n",
       "995  SP_656      MVLGILTITAIPTVTGLANA    1.597785\n",
       "996  SP_696      MVLGLLTIAAIPTVTGVAQA    1.563614\n",
       "997  SP_757   MVLGLLTIAAIPTVTGVGNAVSA    1.554127\n",
       "998  SP_253      MVLGILTITAIPTVTGVAQA    1.535361\n",
       "999   SP_13      MVLGILTITAIPTVTGVANA    1.530345\n",
       "\n",
       "[1000 rows x 3 columns]"
      ]
     },
     "execution_count": 18,
     "metadata": {},
     "output_type": "execute_result"
    }
   ],
   "source": [
    "sp_df"
   ]
  },
  {
   "cell_type": "code",
   "execution_count": 21,
   "metadata": {},
   "outputs": [
    {
     "data": {
      "text/html": [
       "<div>\n",
       "<style scoped>\n",
       "    .dataframe tbody tr th:only-of-type {\n",
       "        vertical-align: middle;\n",
       "    }\n",
       "\n",
       "    .dataframe tbody tr th {\n",
       "        vertical-align: top;\n",
       "    }\n",
       "\n",
       "    .dataframe thead th {\n",
       "        text-align: right;\n",
       "    }\n",
       "</style>\n",
       "<table border=\"1\" class=\"dataframe\">\n",
       "  <thead>\n",
       "    <tr style=\"text-align: right;\">\n",
       "      <th></th>\n",
       "      <th>SP_ID</th>\n",
       "      <th>Sequence</th>\n",
       "      <th>Perplexity</th>\n",
       "      <th>Length</th>\n",
       "    </tr>\n",
       "  </thead>\n",
       "  <tbody>\n",
       "    <tr>\n",
       "      <th>0</th>\n",
       "      <td>SP_997</td>\n",
       "      <td>MRPTLLALGVISFALTLHS</td>\n",
       "      <td>7.515804</td>\n",
       "      <td>19</td>\n",
       "    </tr>\n",
       "    <tr>\n",
       "      <th>1</th>\n",
       "      <td>SP_944</td>\n",
       "      <td>MKFTLIILIIVILTIIFSPGALA</td>\n",
       "      <td>7.421489</td>\n",
       "      <td>23</td>\n",
       "    </tr>\n",
       "    <tr>\n",
       "      <th>2</th>\n",
       "      <td>SP_948</td>\n",
       "      <td>MKVTLSLLAVFLAALSASAIPANG</td>\n",
       "      <td>7.179219</td>\n",
       "      <td>24</td>\n",
       "    </tr>\n",
       "    <tr>\n",
       "      <th>3</th>\n",
       "      <td>SP_993</td>\n",
       "      <td>MKAIIILLLIILTLALTVQG</td>\n",
       "      <td>7.140379</td>\n",
       "      <td>20</td>\n",
       "    </tr>\n",
       "    <tr>\n",
       "      <th>4</th>\n",
       "      <td>SP_204</td>\n",
       "      <td>MRVFSATAILALSPLLIASASP</td>\n",
       "      <td>6.925975</td>\n",
       "      <td>22</td>\n",
       "    </tr>\n",
       "    <tr>\n",
       "      <th>...</th>\n",
       "      <td>...</td>\n",
       "      <td>...</td>\n",
       "      <td>...</td>\n",
       "      <td>...</td>\n",
       "    </tr>\n",
       "    <tr>\n",
       "      <th>995</th>\n",
       "      <td>SP_656</td>\n",
       "      <td>MVLGILTITAIPTVTGLANA</td>\n",
       "      <td>1.597785</td>\n",
       "      <td>20</td>\n",
       "    </tr>\n",
       "    <tr>\n",
       "      <th>996</th>\n",
       "      <td>SP_696</td>\n",
       "      <td>MVLGLLTIAAIPTVTGVAQA</td>\n",
       "      <td>1.563614</td>\n",
       "      <td>20</td>\n",
       "    </tr>\n",
       "    <tr>\n",
       "      <th>997</th>\n",
       "      <td>SP_757</td>\n",
       "      <td>MVLGLLTIAAIPTVTGVGNAVSA</td>\n",
       "      <td>1.554127</td>\n",
       "      <td>23</td>\n",
       "    </tr>\n",
       "    <tr>\n",
       "      <th>998</th>\n",
       "      <td>SP_253</td>\n",
       "      <td>MVLGILTITAIPTVTGVAQA</td>\n",
       "      <td>1.535361</td>\n",
       "      <td>20</td>\n",
       "    </tr>\n",
       "    <tr>\n",
       "      <th>999</th>\n",
       "      <td>SP_13</td>\n",
       "      <td>MVLGILTITAIPTVTGVANA</td>\n",
       "      <td>1.530345</td>\n",
       "      <td>20</td>\n",
       "    </tr>\n",
       "  </tbody>\n",
       "</table>\n",
       "<p>998 rows × 4 columns</p>\n",
       "</div>"
      ],
      "text/plain": [
       "      SP_ID                  Sequence  Perplexity  Length\n",
       "0    SP_997       MRPTLLALGVISFALTLHS    7.515804      19\n",
       "1    SP_944   MKFTLIILIIVILTIIFSPGALA    7.421489      23\n",
       "2    SP_948  MKVTLSLLAVFLAALSASAIPANG    7.179219      24\n",
       "3    SP_993      MKAIIILLLIILTLALTVQG    7.140379      20\n",
       "4    SP_204    MRVFSATAILALSPLLIASASP    6.925975      22\n",
       "..      ...                       ...         ...     ...\n",
       "995  SP_656      MVLGILTITAIPTVTGLANA    1.597785      20\n",
       "996  SP_696      MVLGLLTIAAIPTVTGVAQA    1.563614      20\n",
       "997  SP_757   MVLGLLTIAAIPTVTGVGNAVSA    1.554127      23\n",
       "998  SP_253      MVLGILTITAIPTVTGVAQA    1.535361      20\n",
       "999   SP_13      MVLGILTITAIPTVTGVANA    1.530345      20\n",
       "\n",
       "[998 rows x 4 columns]"
      ]
     },
     "execution_count": 21,
     "metadata": {},
     "output_type": "execute_result"
    }
   ],
   "source": [
    "# Adding the length of sequences to the dataframe\n",
    "sp_df['Length'] = sp_df['Sequence'].apply(len)\n",
    "\n",
    "# Removing sequences with length over 26\n",
    "filtered_df = sp_df[sp_df['Length'] <= 26]\n",
    "filtered_df"
   ]
  },
  {
   "cell_type": "code",
   "execution_count": 22,
   "metadata": {},
   "outputs": [
    {
     "data": {
      "text/html": [
       "<div>\n",
       "<style scoped>\n",
       "    .dataframe tbody tr th:only-of-type {\n",
       "        vertical-align: middle;\n",
       "    }\n",
       "\n",
       "    .dataframe tbody tr th {\n",
       "        vertical-align: top;\n",
       "    }\n",
       "\n",
       "    .dataframe thead th {\n",
       "        text-align: right;\n",
       "    }\n",
       "</style>\n",
       "<table border=\"1\" class=\"dataframe\">\n",
       "  <thead>\n",
       "    <tr style=\"text-align: right;\">\n",
       "      <th></th>\n",
       "      <th>SP_ID</th>\n",
       "      <th>Sequence</th>\n",
       "      <th>Perplexity</th>\n",
       "      <th>Length</th>\n",
       "    </tr>\n",
       "  </thead>\n",
       "  <tbody>\n",
       "    <tr>\n",
       "      <th>0</th>\n",
       "      <td>SP_997</td>\n",
       "      <td>MRPTLLALGVISFALTLHS</td>\n",
       "      <td>7.515804</td>\n",
       "      <td>19</td>\n",
       "    </tr>\n",
       "    <tr>\n",
       "      <th>1</th>\n",
       "      <td>SP_944</td>\n",
       "      <td>MKFTLIILIIVILTIIFSPGALA</td>\n",
       "      <td>7.421489</td>\n",
       "      <td>23</td>\n",
       "    </tr>\n",
       "    <tr>\n",
       "      <th>2</th>\n",
       "      <td>SP_948</td>\n",
       "      <td>MKVTLSLLAVFLAALSASAIPANG</td>\n",
       "      <td>7.179219</td>\n",
       "      <td>24</td>\n",
       "    </tr>\n",
       "    <tr>\n",
       "      <th>3</th>\n",
       "      <td>SP_993</td>\n",
       "      <td>MKAIIILLLIILTLALTVQG</td>\n",
       "      <td>7.140379</td>\n",
       "      <td>20</td>\n",
       "    </tr>\n",
       "    <tr>\n",
       "      <th>4</th>\n",
       "      <td>SP_204</td>\n",
       "      <td>MRVFSATAILALSPLLIASASP</td>\n",
       "      <td>6.925975</td>\n",
       "      <td>22</td>\n",
       "    </tr>\n",
       "    <tr>\n",
       "      <th>...</th>\n",
       "      <td>...</td>\n",
       "      <td>...</td>\n",
       "      <td>...</td>\n",
       "      <td>...</td>\n",
       "    </tr>\n",
       "    <tr>\n",
       "      <th>79</th>\n",
       "      <td>SP_952</td>\n",
       "      <td>MRVSTIPTALLGLSLSAVNA</td>\n",
       "      <td>3.271387</td>\n",
       "      <td>20</td>\n",
       "    </tr>\n",
       "    <tr>\n",
       "      <th>80</th>\n",
       "      <td>SP_659</td>\n",
       "      <td>MVRLNSITALASLLAVSLTAA</td>\n",
       "      <td>3.640410</td>\n",
       "      <td>21</td>\n",
       "    </tr>\n",
       "    <tr>\n",
       "      <th>81</th>\n",
       "      <td>SP_576</td>\n",
       "      <td>MILSYRSLVVTTVALLGLSTPATA</td>\n",
       "      <td>3.873739</td>\n",
       "      <td>24</td>\n",
       "    </tr>\n",
       "    <tr>\n",
       "      <th>82</th>\n",
       "      <td>SP_560</td>\n",
       "      <td>MVLLKPLLATALLASLTPAVA</td>\n",
       "      <td>3.045672</td>\n",
       "      <td>21</td>\n",
       "    </tr>\n",
       "    <tr>\n",
       "      <th>83</th>\n",
       "      <td>SP_256</td>\n",
       "      <td>MVHLKTLALAVSALLTPSIVSA</td>\n",
       "      <td>3.073488</td>\n",
       "      <td>22</td>\n",
       "    </tr>\n",
       "  </tbody>\n",
       "</table>\n",
       "<p>84 rows × 4 columns</p>\n",
       "</div>"
      ],
      "text/plain": [
       "     SP_ID                  Sequence  Perplexity  Length\n",
       "0   SP_997       MRPTLLALGVISFALTLHS    7.515804      19\n",
       "1   SP_944   MKFTLIILIIVILTIIFSPGALA    7.421489      23\n",
       "2   SP_948  MKVTLSLLAVFLAALSASAIPANG    7.179219      24\n",
       "3   SP_993      MKAIIILLLIILTLALTVQG    7.140379      20\n",
       "4   SP_204    MRVFSATAILALSPLLIASASP    6.925975      22\n",
       "..     ...                       ...         ...     ...\n",
       "79  SP_952      MRVSTIPTALLGLSLSAVNA    3.271387      20\n",
       "80  SP_659     MVRLNSITALASLLAVSLTAA    3.640410      21\n",
       "81  SP_576  MILSYRSLVVTTVALLGLSTPATA    3.873739      24\n",
       "82  SP_560     MVLLKPLLATALLASLTPAVA    3.045672      21\n",
       "83  SP_256    MVHLKTLALAVSALLTPSIVSA    3.073488      22\n",
       "\n",
       "[84 rows x 4 columns]"
      ]
     },
     "execution_count": 22,
     "metadata": {},
     "output_type": "execute_result"
    }
   ],
   "source": [
    "\n",
    "# Getting the top 30\n",
    "top_30 = sp_df.head(30)\n",
    "\n",
    "# Sampling the remaining dataframe for a good mix\n",
    "remaining_sample_size = 84 - 30\n",
    "remaining_sample = sp_df.iloc[30:].sample(n=remaining_sample_size, random_state=1)\n",
    "\n",
    "# Combining the top 30 with the remaining sample\n",
    "final_sample = pd.concat([top_30, remaining_sample]).reset_index(drop=True)\n",
    "final_sample"
   ]
  },
  {
   "cell_type": "code",
   "execution_count": 45,
   "metadata": {},
   "outputs": [],
   "source": [
    "from Bio.Seq import Seq\n",
    "from Bio.SeqRecord import SeqRecord\n",
    "from Bio import SeqIO\n",
    "from pydna.dseq import Dseq\n",
    "\n",
    "# Simplified back-translation codon table\n",
    "amino_acid_to_codon = {\n",
    "    'A': 'GCT', 'R': 'CGT', 'N': 'AAT', 'D': 'GAT',\n",
    "    'C': 'TGT', 'Q': 'CAA', 'E': 'GAA', 'G': 'GGT',\n",
    "    'H': 'CAT', 'I': 'ATT', 'L': 'CTT', 'K': 'AAA',\n",
    "    'M': 'ATG', 'F': 'TTT', 'P': 'CCT', 'S': 'TCT',\n",
    "    'T': 'ACT', 'W': 'TGG', 'Y': 'TAT', 'V': 'GTT',\n",
    "    'X': 'NNN'  # 'X' represents any amino acid\n",
    "}\n",
    "\n",
    "def back_translate(protein_sequence):\n",
    "    return ''.join([amino_acid_to_codon[aa] for aa in protein_sequence])\n"
   ]
  },
  {
   "cell_type": "code",
   "execution_count": 46,
   "metadata": {},
   "outputs": [
    {
     "data": {
      "text/plain": [
       "[Dseqrecord(-57),\n",
       " Dseqrecord(-69),\n",
       " Dseqrecord(-72),\n",
       " Dseqrecord(-60),\n",
       " Dseqrecord(-66),\n",
       " Dseqrecord(-57),\n",
       " Dseqrecord(-69),\n",
       " Dseqrecord(-60),\n",
       " Dseqrecord(-60),\n",
       " Dseqrecord(-75),\n",
       " Dseqrecord(-66),\n",
       " Dseqrecord(-63),\n",
       " Dseqrecord(-54),\n",
       " Dseqrecord(-51),\n",
       " Dseqrecord(-66),\n",
       " Dseqrecord(-57),\n",
       " Dseqrecord(-63),\n",
       " Dseqrecord(-63),\n",
       " Dseqrecord(-57),\n",
       " Dseqrecord(-51),\n",
       " Dseqrecord(-57),\n",
       " Dseqrecord(-84),\n",
       " Dseqrecord(-66),\n",
       " Dseqrecord(-54),\n",
       " Dseqrecord(-60),\n",
       " Dseqrecord(-63),\n",
       " Dseqrecord(-57),\n",
       " Dseqrecord(-54),\n",
       " Dseqrecord(-60),\n",
       " Dseqrecord(-60),\n",
       " Dseqrecord(-66),\n",
       " Dseqrecord(-57),\n",
       " Dseqrecord(-57),\n",
       " Dseqrecord(-63),\n",
       " Dseqrecord(-72),\n",
       " Dseqrecord(-66),\n",
       " Dseqrecord(-51),\n",
       " Dseqrecord(-63),\n",
       " Dseqrecord(-63),\n",
       " Dseqrecord(-63),\n",
       " Dseqrecord(-54),\n",
       " Dseqrecord(-60),\n",
       " Dseqrecord(-66),\n",
       " Dseqrecord(-60),\n",
       " Dseqrecord(-72),\n",
       " Dseqrecord(-60),\n",
       " Dseqrecord(-63),\n",
       " Dseqrecord(-66),\n",
       " Dseqrecord(-57),\n",
       " Dseqrecord(-60),\n",
       " Dseqrecord(-60),\n",
       " Dseqrecord(-63),\n",
       " Dseqrecord(-60),\n",
       " Dseqrecord(-63),\n",
       " Dseqrecord(-72),\n",
       " Dseqrecord(-63),\n",
       " Dseqrecord(-66),\n",
       " Dseqrecord(-57),\n",
       " Dseqrecord(-57),\n",
       " Dseqrecord(-72),\n",
       " Dseqrecord(-66),\n",
       " Dseqrecord(-63),\n",
       " Dseqrecord(-60),\n",
       " Dseqrecord(-60),\n",
       " Dseqrecord(-57),\n",
       " Dseqrecord(-66),\n",
       " Dseqrecord(-66),\n",
       " Dseqrecord(-66),\n",
       " Dseqrecord(-63),\n",
       " Dseqrecord(-60),\n",
       " Dseqrecord(-69),\n",
       " Dseqrecord(-57),\n",
       " Dseqrecord(-57),\n",
       " Dseqrecord(-66),\n",
       " Dseqrecord(-48),\n",
       " Dseqrecord(-60),\n",
       " Dseqrecord(-60),\n",
       " Dseqrecord(-54),\n",
       " Dseqrecord(-63),\n",
       " Dseqrecord(-60),\n",
       " Dseqrecord(-63),\n",
       " Dseqrecord(-72),\n",
       " Dseqrecord(-63),\n",
       " Dseqrecord(-66)]"
      ]
     },
     "execution_count": 46,
     "metadata": {},
     "output_type": "execute_result"
    }
   ],
   "source": [
    "\n",
    "seq_records = []\n",
    "for index, row in final_sample.iterrows():\n",
    "    dna_sequence = back_translate(row['Sequence'])\n",
    "    dseq_obj = Dseq(dna_sequence)\n",
    "    dseqrecord = Dseqrecord(dseq_obj, name=row['SP_ID'], description=f\"Perplexity: {row['Perplexity']}, Length: {row['Length']}\")\n",
    "    seq_records.append(dseqrecord)\n",
    "\n",
    "seq_records"
   ]
  },
  {
   "cell_type": "code",
   "execution_count": 51,
   "metadata": {},
   "outputs": [],
   "source": [
    "a_oryzae ={\n",
    "    'F': {'TTT': 0.38, 'TTC': 0.62},\n",
    "    'S': {'TCT': 0.18, 'TCC': 0.20, 'TCA': 0.14, 'TCG': 0.16, 'AGT': 0.13, 'AGC': 0.18},\n",
    "    'Y': {'TAT': 0.47, 'TAC': 0.53},\n",
    "    'C': {'TGT': 0.46, 'TGC': 0.54},\n",
    "    '*': {'TAA': 0.33, 'TAG': 0.29, 'TGA': 0.38},\n",
    "    'L': {'TTA': 0.07, 'TTG': 0.18, 'CTT': 0.19, 'CTC': 0.23, 'CTA': 0.11, 'CTG': 0.22},\n",
    "    'W': {'TGG': 1.00},\n",
    "    'P': {'CCT': 0.27, 'CCC': 0.26, 'CCA': 0.25, 'CCG': 0.22},\n",
    "    'H': {'CAT': 0.53, 'CAC': 0.47},\n",
    "    'Q': {'CAA': 0.43, 'CAG': 0.57},\n",
    "    'R': {'CGT': 0.18, 'CGC': 0.23, 'CGA': 0.17, 'CGG': 0.18, 'AGA': 0.13, 'AGG': 0.12},\n",
    "    'I': {'ATT': 0.36, 'ATC': 0.50, 'ATA': 0.14},\n",
    "    'M': {'ATG': 1.00},\n",
    "    'T': {'ACT': 0.24, 'ACC': 0.32, 'ACA': 0.23, 'ACG': 0.20},\n",
    "    'N': {'AAT': 0.45, 'AAC': 0.55},\n",
    "    'K': {'AAA': 0.36, 'AAG': 0.64},\n",
    "    'V': {'GTT': 0.27, 'GTC': 0.33, 'GTA': 0.13, 'GTG': 0.27},\n",
    "    'A': {'GCT': 0.27, 'GCC': 0.30, 'GCA': 0.23, 'GCG': 0.20},\n",
    "    'D': {'GAT': 0.53, 'GAC': 0.47},\n",
    "    'E': {'GAA': 0.44, 'GAG': 0.56},\n",
    "    'G': {'GGT': 0.28, 'GGC': 0.31, 'GGA': 0.24, 'GGG': 0.17}\n",
    "}\n"
   ]
  },
  {
   "cell_type": "code",
   "execution_count": 58,
   "metadata": {},
   "outputs": [
    {
     "name": "stderr",
     "output_type": "stream",
     "text": [
      "                                                                                  \r"
     ]
    },
    {
     "name": "stdout",
     "output_type": "stream",
     "text": [
      "ATGCGCCCTACCCTCCTCGCCCTCGGCGTCATGTCCTTCGCCCTCACCCTCCATTCC\n"
     ]
    },
    {
     "name": "stderr",
     "output_type": "stream",
     "text": [
      "                                                                                  \r"
     ]
    },
    {
     "name": "stdout",
     "output_type": "stream",
     "text": [
      "ATGAACTTCACCCTCATGATGCTCATGATGGTCATGCTCACCATGATGTTCTCCCCTGGCGCCCTCGCC\n"
     ]
    },
    {
     "name": "stderr",
     "output_type": "stream",
     "text": [
      "                                                                                  \r"
     ]
    },
    {
     "name": "stdout",
     "output_type": "stream",
     "text": [
      "ATGAACGTCACCCTCTCCCTCCTCGCCGTCTTCCTCGCCGCCCTCTCCGCCTCCGCCATGCCTGCCAAGGGC\n"
     ]
    },
    {
     "name": "stderr",
     "output_type": "stream",
     "text": [
      "                                                                                  \r"
     ]
    },
    {
     "name": "stdout",
     "output_type": "stream",
     "text": [
      "ATGAACGCCATGATGATGCTCCTCCTCATGATGCTCACCCTCGCCCTCACCGTCCAGGGC\n"
     ]
    },
    {
     "name": "stderr",
     "output_type": "stream",
     "text": [
      "                                                                                  \r"
     ]
    },
    {
     "name": "stdout",
     "output_type": "stream",
     "text": [
      "ATGCGCGTCTTCTCCGCCACCGCCATGCTCGCCCTCTCCCCTCTCCTCATGGCCTCCGCCTCCCCT\n"
     ]
    },
    {
     "name": "stderr",
     "output_type": "stream",
     "text": [
      "                                                                                  \r"
     ]
    },
    {
     "name": "stdout",
     "output_type": "stream",
     "text": [
      "ATGCGCCTCGTCTCCCTCCTCACCATGCTCGGCACCGCCATGACCACCGCCTCCGCC\n"
     ]
    },
    {
     "name": "stderr",
     "output_type": "stream",
     "text": [
      "                                                                                  \r"
     ]
    },
    {
     "name": "stdout",
     "output_type": "stream",
     "text": [
      "ATGCGCCCTCTCGCCATGACCCTCGGCCTCGCCACCACCATGTTCAAGCCTATGACCACCGCCTCCCTC\n"
     ]
    },
    {
     "name": "stderr",
     "output_type": "stream",
     "text": [
      "                                                                                  \r"
     ]
    },
    {
     "name": "stdout",
     "output_type": "stream",
     "text": [
      "ATGCGCGTCCTCGGCATGTCCTCCATGATGCTCACCACCCTCGTCTCCACCACCCTCGCC\n"
     ]
    },
    {
     "name": "stderr",
     "output_type": "stream",
     "text": [
      "                                                                                  \r"
     ]
    },
    {
     "name": "stdout",
     "output_type": "stream",
     "text": [
      "ATGCGCCCTACCTCCTCCGCCTTCGTCTCCATGCTCGGCTTCGCCGCCATGGCCACCGCC\n"
     ]
    },
    {
     "name": "stderr",
     "output_type": "stream",
     "text": [
      "                                                                                  \r"
     ]
    },
    {
     "name": "stdout",
     "output_type": "stream",
     "text": [
      "ATGAACATGCCTTTCCTCCTCTCCGCCGCCCTCCTCACCACCCTCTCCCTCTTCTCCACCTCCACCACCCTCGCC\n"
     ]
    },
    {
     "name": "stderr",
     "output_type": "stream",
     "text": [
      "                                                                                  \r"
     ]
    },
    {
     "name": "stdout",
     "output_type": "stream",
     "text": [
      "ATGCTCACCACCCTCATGCAGTACACCCTCCTCGTCTCCCTCCTCTTCGGCTCCCCTGCCGCCTCC\n"
     ]
    },
    {
     "name": "stderr",
     "output_type": "stream",
     "text": [
      "                                                                                  \r"
     ]
    },
    {
     "name": "stdout",
     "output_type": "stream",
     "text": [
      "ATGAACACCATGCTCCCTGTCCTCCTCTCCGCCATGACCGCCCTCGCCTCCCCTGCCTTCGCC\n"
     ]
    },
    {
     "name": "stderr",
     "output_type": "stream",
     "text": [
      "                                                                                  \r"
     ]
    },
    {
     "name": "stdout",
     "output_type": "stream",
     "text": [
      "ATGCGCCTCTTCCATCTCATGGTCCTCGCCACCGTCCTCTCCCTCACCATGGCC\n"
     ]
    },
    {
     "name": "stderr",
     "output_type": "stream",
     "text": [
      "                                                                                  \r"
     ]
    },
    {
     "name": "stdout",
     "output_type": "stream",
     "text": [
      "ATGCGCCTCTCCGCCGCCTTCATGCTCGGCCTCTCCTCCACCGTCATGGCC\n"
     ]
    },
    {
     "name": "stderr",
     "output_type": "stream",
     "text": [
      "                                                                                  \r"
     ]
    },
    {
     "name": "stdout",
     "output_type": "stream",
     "text": [
      "ATGCTCCCTACCCTCCTCCGCCTCTTCGGCCTCCTCGCCATGTCCCTCGTCGCCGTCGCCATGGCC\n"
     ]
    },
    {
     "name": "stderr",
     "output_type": "stream",
     "text": [
      "                                                                                  \r"
     ]
    },
    {
     "name": "stdout",
     "output_type": "stream",
     "text": [
      "ATGCGCTTCTCCCTCCTCGCCGTCCTCTCCATGGCCCTCGGCCTCCTCGTCCAGGCC\n"
     ]
    },
    {
     "name": "stderr",
     "output_type": "stream",
     "text": [
      "                                                                                  \r"
     ]
    },
    {
     "name": "stdout",
     "output_type": "stream",
     "text": [
      "ATGCGCCTCATGACCTTCCTCACCACCATGCTCGCCCTCGTCCTCGTCTCCCTCTGGCAGGCC\n"
     ]
    },
    {
     "name": "stderr",
     "output_type": "stream",
     "text": [
      "                                                                                  \r"
     ]
    },
    {
     "name": "stdout",
     "output_type": "stream",
     "text": [
      "ATGCGCTCCTTCGCCTTCCTCCTCGCCGTCGTCCTCCTCTCCGTCGTCGGCCTCGCCTCCGCC\n"
     ]
    },
    {
     "name": "stderr",
     "output_type": "stream",
     "text": [
      "                                                                                  \r"
     ]
    },
    {
     "name": "stdout",
     "output_type": "stream",
     "text": [
      "ATGCGCTTCTTCGCCTCCCTCATGATGATGGCCTCCCTCCTCGCCGCCACCATGGCC\n"
     ]
    },
    {
     "name": "stderr",
     "output_type": "stream",
     "text": [
      "                                                                                  \r"
     ]
    },
    {
     "name": "stdout",
     "output_type": "stream",
     "text": [
      "ATGCGCCTCTCCCTCGGCTTCATGCTCGGCACCCTCACCCTCGTCAAGGCC\n"
     ]
    },
    {
     "name": "stderr",
     "output_type": "stream",
     "text": [
      "                                                                                  \r"
     ]
    },
    {
     "name": "stdout",
     "output_type": "stream",
     "text": [
      "ATGAACCTCATGCTCTTCACCCTCATGGCCCTCTCCCTCTTCCAGCTCTCCCTCGCC\n"
     ]
    },
    {
     "name": "stderr",
     "output_type": "stream",
     "text": [
      "                                                                                  \r"
     ]
    },
    {
     "name": "stdout",
     "output_type": "stream",
     "text": [
      "ATGCTCTCCTCCTCCGCCCGCTGGGCCTTCCTCCTCACCACCATGATGGGCCTCCTCCTCTGGCTCCATAAGCCTATGGTCGCC\n"
     ]
    },
    {
     "name": "stderr",
     "output_type": "stream",
     "text": [
      "                                                                                  \r"
     ]
    },
    {
     "name": "stdout",
     "output_type": "stream",
     "text": [
      "ATGCTCTCCTCCTCCGTCCTCCTCCGCATGGCCCTCCTCGCCCTCCTCCTCGCCCTCTGGGTCGGC\n"
     ]
    },
    {
     "name": "stderr",
     "output_type": "stream",
     "text": [
      "                                                                                  \r"
     ]
    },
    {
     "name": "stdout",
     "output_type": "stream",
     "text": [
      "ATGATGCTCACCTACTTCCTCATGGCCGCCCTCCTCCTCTCCCTCACCGCCGCC\n"
     ]
    },
    {
     "name": "stderr",
     "output_type": "stream",
     "text": [
      "                                                                                  \r"
     ]
    },
    {
     "name": "stdout",
     "output_type": "stream",
     "text": [
      "ATGCGCTCCTTCATGTCCCTCGTCGGCATGCTCCTCACCCTCGCCCTCTACGTCCATTCC\n"
     ]
    },
    {
     "name": "stderr",
     "output_type": "stream",
     "text": [
      "                                                                                  \r"
     ]
    },
    {
     "name": "stdout",
     "output_type": "stream",
     "text": [
      "ATGCGCTTCACCTCCCTCTCCGCCCTCGCCCTCGGCGCCCTCGTCATGACCTCCGTCGCCGCC\n"
     ]
    },
    {
     "name": "stderr",
     "output_type": "stream",
     "text": [
      "                                                                                  \r"
     ]
    },
    {
     "name": "stdout",
     "output_type": "stream",
     "text": [
      "ATGAACCTCTCCAAGTTCGTCACCACCCTCGTCCTCTCCACCCCTTTCGCCTCCGCC\n"
     ]
    },
    {
     "name": "stderr",
     "output_type": "stream",
     "text": [
      "                                                                                  \r"
     ]
    },
    {
     "name": "stdout",
     "output_type": "stream",
     "text": [
      "ATGCTCCTCCGCTACCTCCTCACCGTCGTCCTCGCCGTCGGCCTCGTCCTCTCC\n"
     ]
    },
    {
     "name": "stderr",
     "output_type": "stream",
     "text": [
      "                                                                                  \r"
     ]
    },
    {
     "name": "stdout",
     "output_type": "stream",
     "text": [
      "ATGCGCTTCTTCTCCTCCGTCCTCACCGCCCTCGCCGCCCTCACCACCTCCGTCGTCGGC\n"
     ]
    },
    {
     "name": "stderr",
     "output_type": "stream",
     "text": [
      "                                                                                  \r"
     ]
    },
    {
     "name": "stdout",
     "output_type": "stream",
     "text": [
      "ATGATGCCTTACACCCTCGCCGCCCTCGTCGTCGCCTGGCTCTCCACCCTCTCCCTCGCC\n"
     ]
    },
    {
     "name": "stderr",
     "output_type": "stream",
     "text": [
      "                                                                                  \r"
     ]
    },
    {
     "name": "stdout",
     "output_type": "stream",
     "text": [
      "ATGGTCCTCACCAACCTCTCCGTCCTCGCCACCGCCCTCCTCGGCCTCTCCGCCCAGGCCATGGCC\n"
     ]
    },
    {
     "name": "stderr",
     "output_type": "stream",
     "text": [
      "                                                                                  \r"
     ]
    },
    {
     "name": "stdout",
     "output_type": "stream",
     "text": [
      "ATGCGCCCTGTCTCCATGCTCGCCACCGTCCTCGGCCTCGCCAAGCTCGCCACCGCC\n"
     ]
    },
    {
     "name": "stderr",
     "output_type": "stream",
     "text": [
      "                                                                                  \r"
     ]
    },
    {
     "name": "stdout",
     "output_type": "stream",
     "text": [
      "ATGGTCCTCACCAACTCCCTCCTCGTCCTCTCCACCATGGCCGCCCAGGCCCTCGCC\n"
     ]
    },
    {
     "name": "stderr",
     "output_type": "stream",
     "text": [
      "                                                                                  \r"
     ]
    },
    {
     "name": "stdout",
     "output_type": "stream",
     "text": [
      "ATGATGCTCTCCAAGACCATGCTCGTCGCCACCCTCGCCGCCCTCTCCGGCCTCGCCCATGCC\n"
     ]
    },
    {
     "name": "stderr",
     "output_type": "stream",
     "text": [
      "                                                                                  \r"
     ]
    },
    {
     "name": "stdout",
     "output_type": "stream",
     "text": [
      "ATGATGTTCACCCGCCTCATGCAGCTCCTCTGGGCCGCCCTCCTCCTCGCCCTCGTCCTCCAGGTCCAGGCC\n"
     ]
    },
    {
     "name": "stderr",
     "output_type": "stream",
     "text": [
      "                                                                                  \r"
     ]
    },
    {
     "name": "stdout",
     "output_type": "stream",
     "text": [
      "ATGCGCTCCTCCGCCCTCCTCACCGCCCTCGTCGTCCTCCTCGGCTGGATGTCCAAGGCCGCCGCC\n"
     ]
    },
    {
     "name": "stderr",
     "output_type": "stream",
     "text": [
      "                                                                                  \r"
     ]
    },
    {
     "name": "stdout",
     "output_type": "stream",
     "text": [
      "ATGCGCATGTCCATGCCTCTCATGACCGCCGTCCTCTCCACCGCCTCCGCC\n"
     ]
    },
    {
     "name": "stderr",
     "output_type": "stream",
     "text": [
      "                                                                                  \r"
     ]
    },
    {
     "name": "stdout",
     "output_type": "stream",
     "text": [
      "ATGGTCGCCCTCCAGAACCTCCTCCTCCTCACCGCCCTCGCCTCCCTCTCCCCTACCGTCGCC\n"
     ]
    },
    {
     "name": "stderr",
     "output_type": "stream",
     "text": [
      "                                                                                  \r"
     ]
    },
    {
     "name": "stdout",
     "output_type": "stream",
     "text": [
      "ATGGTCCATTTCAACGCCCTCGCCACCGCCGTCCTCGCCTCCCTCCTCTCCCCTACCCTCGCC\n"
     ]
    },
    {
     "name": "stderr",
     "output_type": "stream",
     "text": [
      "                                                                                  \r"
     ]
    },
    {
     "name": "stdout",
     "output_type": "stream",
     "text": [
      "ATGCTCGTCCCTAACCTCTCCGCCCTCCTCCTCGGCGCCCTCCTCCCTACCGTCGTCTCCGCC\n"
     ]
    },
    {
     "name": "stderr",
     "output_type": "stream",
     "text": [
      "                                                                                  \r"
     ]
    },
    {
     "name": "stdout",
     "output_type": "stream",
     "text": [
      "ATGGTCCGCCTCGGCTTCTTCTCCCTCCTCGCCACCATGCCTCTCGCCCTCTCC\n"
     ]
    },
    {
     "name": "stderr",
     "output_type": "stream",
     "text": [
      "                                                                                  \r"
     ]
    },
    {
     "name": "stdout",
     "output_type": "stream",
     "text": [
      "ATGCGCTTCACCCTCGCCTCCCTCGCCCTCCTCGCCATGGCCAAGACCGTCGTCTCCGCC\n"
     ]
    },
    {
     "name": "stderr",
     "output_type": "stream",
     "text": [
      "                                                                                  \r"
     ]
    },
    {
     "name": "stdout",
     "output_type": "stream",
     "text": [
      "ATGGTCGCCATGAACTCCCTCCTCACCGCCGCCCTCGCCGCCCTCTCCATGACCCCTGCCCTCGCC\n"
     ]
    },
    {
     "name": "stderr",
     "output_type": "stream",
     "text": [
      "                                                                                  \r"
     ]
    },
    {
     "name": "stdout",
     "output_type": "stream",
     "text": [
      "ATGGTCTCCATGAACAAGCTCGCCCTCTTCGTCACCACCCTCCTCGGCTGGTCCCAGGCC\n"
     ]
    },
    {
     "name": "stderr",
     "output_type": "stream",
     "text": [
      "                                                                                  \r"
     ]
    },
    {
     "name": "stdout",
     "output_type": "stream",
     "text": [
      "ATGATGCTCTCCCGCATGCTCTCCGCCACCCTCGTCGCCCTCGCCCTCTGGCTCTTCAAGCAGGCCACCGCC\n"
     ]
    },
    {
     "name": "stderr",
     "output_type": "stream",
     "text": [
      "                                                                                  \r"
     ]
    },
    {
     "name": "stdout",
     "output_type": "stream",
     "text": [
      "ATGAACACCTTCATGCCTTTCGTCGCCCTCCTCTCCACCATGTCCTCCCTCTGGGCCGCC\n"
     ]
    },
    {
     "name": "stderr",
     "output_type": "stream",
     "text": [
      "                                                                                  \r"
     ]
    },
    {
     "name": "stdout",
     "output_type": "stream",
     "text": [
      "ATGGTCCATATGAACCCTCTCCTCGCCACCGCCCTCGCCGCCCTCTCCCCTCTCGCCACCGCC\n"
     ]
    },
    {
     "name": "stderr",
     "output_type": "stream",
     "text": [
      "                                                                                  \r"
     ]
    },
    {
     "name": "stdout",
     "output_type": "stream",
     "text": [
      "ATGCTCGTCAACTCCATGGTCTCCACCCTCCTCGCCCTCTCCCTCTCCTCCGGCCTCGCCAAGGCC\n"
     ]
    },
    {
     "name": "stderr",
     "output_type": "stream",
     "text": [
      "                                                                                  \r"
     ]
    },
    {
     "name": "stdout",
     "output_type": "stream",
     "text": [
      "ATGGTCCGCCTCTCCCTCCTCGCCTCCGCCCTCCTCGTCGCCTCCTCCACCCTCGCC\n"
     ]
    },
    {
     "name": "stderr",
     "output_type": "stream",
     "text": [
      "                                                                                  \r"
     ]
    },
    {
     "name": "stdout",
     "output_type": "stream",
     "text": [
      "ATGCGCTCCCTCCTCCTCTCCGTCCTCTTCACCGTCCTCTTCGCCATGCTCGCCACCGCC\n"
     ]
    },
    {
     "name": "stderr",
     "output_type": "stream",
     "text": [
      "                                                                                  \r"
     ]
    },
    {
     "name": "stdout",
     "output_type": "stream",
     "text": [
      "ATGCTCATGCGCTCCATGGCCACCCTCGCCGTCCTCGGCCTCTCCCAGACCGCCCTCTCC\n"
     ]
    },
    {
     "name": "stderr",
     "output_type": "stream",
     "text": [
      "                                                                                  \r"
     ]
    },
    {
     "name": "stdout",
     "output_type": "stream",
     "text": [
      "ATGGTCTCCCAGAACCTCCTCTCCCTCGCCACCATGCTCGCCCTCGCCTCCCTCGGCCAGGCC\n"
     ]
    },
    {
     "name": "stderr",
     "output_type": "stream",
     "text": [
      "                                                                                  \r"
     ]
    },
    {
     "name": "stdout",
     "output_type": "stream",
     "text": [
      "ATGGTCGCCCTCAACCATATGCTCACCGCCCTCCTCGCCCTCTCCCCTCTCGCCACCGCC\n"
     ]
    },
    {
     "name": "stderr",
     "output_type": "stream",
     "text": [
      "                                                                                  \r"
     ]
    },
    {
     "name": "stdout",
     "output_type": "stream",
     "text": [
      "ATGATGGTCACCCGCTTCCTCTCCACCCTCCTCCTCGCCGCCTCCCTCTCCGCCGCCAAGGCC\n"
     ]
    },
    {
     "name": "stderr",
     "output_type": "stream",
     "text": [
      "                                                                                  \r"
     ]
    },
    {
     "name": "stdout",
     "output_type": "stream",
     "text": [
      "ATGGTCCTCGGCATGACCTCCAACGCCCTCGCCATGTCCCTCCTCGCCTGGCTCTCCACCCCTTCCACCGCC\n"
     ]
    },
    {
     "name": "stderr",
     "output_type": "stream",
     "text": [
      "                                                                                  \r"
     ]
    },
    {
     "name": "stdout",
     "output_type": "stream",
     "text": [
      "ATGCTCCTCCCTACCGTCACCCTCCTCTCCGTCGGCCTCGCCGCCCTCCAGCCTGCCCTCGCC\n"
     ]
    },
    {
     "name": "stderr",
     "output_type": "stream",
     "text": [
      "                                                                                  \r"
     ]
    },
    {
     "name": "stdout",
     "output_type": "stream",
     "text": [
      "ATGGTCCATATGAACCCTTTCGCCACCGTCGCCCTCCTCGCCTCCCTCCTCACCCCTTCCCTCGCC\n"
     ]
    },
    {
     "name": "stderr",
     "output_type": "stream",
     "text": [
      "                                                                                  \r"
     ]
    },
    {
     "name": "stdout",
     "output_type": "stream",
     "text": [
      "ATGATGCTCCGCTGGACCCTCGTCCTCCTCACCGCCCTCCTCGCCCTCGCCTACCAG\n"
     ]
    },
    {
     "name": "stderr",
     "output_type": "stream",
     "text": [
      "                                                                                  \r"
     ]
    },
    {
     "name": "stdout",
     "output_type": "stream",
     "text": [
      "ATGGTCCGCATGGGCATGTCCACCCTCGCCCTCGCCCTCGCCCATCTCGTCACCTCC\n"
     ]
    },
    {
     "name": "stderr",
     "output_type": "stream",
     "text": [
      "                                                                                  \r"
     ]
    },
    {
     "name": "stdout",
     "output_type": "stream",
     "text": [
      "ATGCGCATGATGCCTTCCATGGGCACCCTCCTCACCACCGTCTCCCTCTTCACCGCCCATGGCACCGCCGCC\n"
     ]
    },
    {
     "name": "stderr",
     "output_type": "stream",
     "text": [
      "                                                                                  \r"
     ]
    },
    {
     "name": "stdout",
     "output_type": "stream",
     "text": [
      "ATGGTCCAGCTCAACTCCTTCCTCGCCGTCACCGCCACCGCCTCCCTCCTCACCCTCTCCAAGGCC\n"
     ]
    },
    {
     "name": "stderr",
     "output_type": "stream",
     "text": [
      "                                                                                  \r"
     ]
    },
    {
     "name": "stdout",
     "output_type": "stream",
     "text": [
      "ATGATGCTCTCCAACCTCCTCACCACCGTCGCCGCCCTCTCCCTCCTCACCCCTTCCGTCGCC\n"
     ]
    },
    {
     "name": "stderr",
     "output_type": "stream",
     "text": [
      "                                                                                  \r"
     ]
    },
    {
     "name": "stdout",
     "output_type": "stream",
     "text": [
      "ATGGTCCATATGAACTCCTTCGTCACCGGCCTCCTCGCCACCGCCTCCACCGTCACCGCC\n"
     ]
    },
    {
     "name": "stderr",
     "output_type": "stream",
     "text": [
      "                                                                                  \r"
     ]
    },
    {
     "name": "stdout",
     "output_type": "stream",
     "text": [
      "ATGGTCCAGCTCACCCATCTCGTCGCCCTCGCCGCCTCCCTCTTCACCCTCTCCGTCGCC\n"
     ]
    },
    {
     "name": "stderr",
     "output_type": "stream",
     "text": [
      "                                                                                  \r"
     ]
    },
    {
     "name": "stdout",
     "output_type": "stream",
     "text": [
      "ATGCTCTTCTCCTCCCTCATGGTCACCCTCGCCGCCTCCACCGCCCTCTCCTCCGCC\n"
     ]
    },
    {
     "name": "stderr",
     "output_type": "stream",
     "text": [
      "                                                                                  \r"
     ]
    },
    {
     "name": "stdout",
     "output_type": "stream",
     "text": [
      "ATGATGCTCCCTCATATGACCACCCTCCTCGCCATGGCCCTCTCCGCCACCTCCTCCGCCCTCCCT\n"
     ]
    },
    {
     "name": "stderr",
     "output_type": "stream",
     "text": [
      "                                                                                  \r"
     ]
    },
    {
     "name": "stdout",
     "output_type": "stream",
     "text": [
      "ATGGTCTCCTTCAACCAGATGGCCCTCCTCGTCACCACCCTCGCCAAGATGGGCCTCTCCACCGCC\n"
     ]
    },
    {
     "name": "stderr",
     "output_type": "stream",
     "text": [
      "                                                                                  \r"
     ]
    },
    {
     "name": "stdout",
     "output_type": "stream",
     "text": [
      "ATGATGCTCTCCCGCATGTCCGCCCTCCTCGTCCTCGGCCTCGCCCTCTTCACCCAGTCCCTCGCC\n"
     ]
    },
    {
     "name": "stderr",
     "output_type": "stream",
     "text": [
      "                                                                                  \r"
     ]
    },
    {
     "name": "stdout",
     "output_type": "stream",
     "text": [
      "ATGGTCCAGCTCAACTCCTTCGCCCTCCTCCTCGGCACCTCCCTCTTCTCCTCCGCCCTCGCC\n"
     ]
    },
    {
     "name": "stderr",
     "output_type": "stream",
     "text": [
      "                                                                                  \r"
     ]
    },
    {
     "name": "stdout",
     "output_type": "stream",
     "text": [
      "ATGGTCCTCCCTAACATGGCCCTCCTCGTCACCGGCCTCTCCGCCACCCTCGCCAAGGCC\n"
     ]
    },
    {
     "name": "stderr",
     "output_type": "stream",
     "text": [
      "                                                                                  \r"
     ]
    },
    {
     "name": "stdout",
     "output_type": "stream",
     "text": [
      "ATGCTCCCTAACATGATGCATCTCCTCGTCGCCCTCCTCTCCGTCCTCCTCGTCCAGCTCTCCGTCGCC\n"
     ]
    },
    {
     "name": "stderr",
     "output_type": "stream",
     "text": [
      "                                                                                  \r"
     ]
    },
    {
     "name": "stdout",
     "output_type": "stream",
     "text": [
      "ATGCTCTCCATGCTCAACGCCGCCCTCTGGGCCCTCCTCCTCACCCCTTCCCTCGCC\n"
     ]
    },
    {
     "name": "stderr",
     "output_type": "stream",
     "text": [
      "                                                                                  \r"
     ]
    },
    {
     "name": "stdout",
     "output_type": "stream",
     "text": [
      "ATGGTCTCCACCAACTTCCTCCTCACCCTCCTCGGCGCCGCCCCTCTCGCCCTCGCC\n"
     ]
    },
    {
     "name": "stderr",
     "output_type": "stream",
     "text": [
      "                                                                                  \r"
     ]
    },
    {
     "name": "stdout",
     "output_type": "stream",
     "text": [
      "ATGGTCGCCATGAACTCCCTCCTCGTCTCCCTCCTCGCCGCCTCCCTCGCCCCTCTCGCCACCGCC\n"
     ]
    },
    {
     "name": "stderr",
     "output_type": "stream",
     "text": [
      "                                                                                  \r"
     ]
    },
    {
     "name": "stdout",
     "output_type": "stream",
     "text": [
      "ATGCGCTTCCTCGCCGTCGCCGCCCTCCTCGCCACCACCGCCTCCGCC\n"
     ]
    },
    {
     "name": "stderr",
     "output_type": "stream",
     "text": [
      "                                                                                  \r"
     ]
    },
    {
     "name": "stdout",
     "output_type": "stream",
     "text": [
      "ATGGTCCGCCTCTCCCATATGCTCACCACCGCCCTCGCCATGCTCTCCCCTGCCGTCGCC\n"
     ]
    },
    {
     "name": "stderr",
     "output_type": "stream",
     "text": [
      "                                                                                  \r"
     ]
    },
    {
     "name": "stdout",
     "output_type": "stream",
     "text": [
      "ATGGTCCATATGAACTCCCTCGCCGTCGCCCTCGGCGCCCTCCTCCCTACCGCCCTCGCC\n"
     ]
    },
    {
     "name": "stderr",
     "output_type": "stream",
     "text": [
      "                                                                                  \r"
     ]
    },
    {
     "name": "stdout",
     "output_type": "stream",
     "text": [
      "ATGCTCCTCCCTCGCCTCTTCTACCTCGGCGCCATGGTCCCTACCGTCCTCTCC\n"
     ]
    },
    {
     "name": "stderr",
     "output_type": "stream",
     "text": [
      "                                                                                  \r"
     ]
    },
    {
     "name": "stdout",
     "output_type": "stream",
     "text": [
      "ATGGTCCAGATGAACTCCCTCGCCCTCGTCCTCTCCACCGCCCTCTTCTCCTCCACCCTCGCC\n"
     ]
    },
    {
     "name": "stderr",
     "output_type": "stream",
     "text": [
      "                                                                                  \r"
     ]
    },
    {
     "name": "stdout",
     "output_type": "stream",
     "text": [
      "ATGCGCGTCTCCACCATGCCTACCGCCCTCCTCGGCCTCTCCCTCTCCGCCGTCAAGGCC\n"
     ]
    },
    {
     "name": "stderr",
     "output_type": "stream",
     "text": [
      "                                                                                  \r"
     ]
    },
    {
     "name": "stdout",
     "output_type": "stream",
     "text": [
      "ATGGTCCGCCTCAAGTCCATGACCGCCCTCGCCTCCCTCCTCGCCGTCTCCCTCACCGCCGCC\n"
     ]
    },
    {
     "name": "stderr",
     "output_type": "stream",
     "text": [
      "                                                                                  \r"
     ]
    },
    {
     "name": "stdout",
     "output_type": "stream",
     "text": [
      "ATGATGCTCTCCTACCGCTCCCTCGTCGTCACCACCGTCGCCCTCCTCGGCCTCTCCACCCCTGCCACCGCC\n"
     ]
    },
    {
     "name": "stderr",
     "output_type": "stream",
     "text": [
      "                                                                                  \r"
     ]
    },
    {
     "name": "stdout",
     "output_type": "stream",
     "text": [
      "ATGGTCCTCCTCAACCCTCTCCTCGCCACCGCCCTCCTCGCCTCCCTCACCCCTGCCGTCGCC\n"
     ]
    },
    {
     "name": "stderr",
     "output_type": "stream",
     "text": [
      "                                                                                  "
     ]
    },
    {
     "name": "stdout",
     "output_type": "stream",
     "text": [
      "ATGGTCCATCTCAACACCCTCGCCCTCGCCGTCTCCGCCCTCCTCACCCCTTCCATGGTCTCCGCC\n"
     ]
    },
    {
     "name": "stderr",
     "output_type": "stream",
     "text": [
      "\r"
     ]
    }
   ],
   "source": [
    "from dnachisel import DnaOptimizationProblem, CodonOptimize\n",
    "\n",
    "# Codon optimization for Aspergillus oryzae\n",
    "codon_optimized_records = []\n",
    "for seq in seq_records:\n",
    "    problem = DnaOptimizationProblem(\n",
    "        sequence=str(seq.seq),\n",
    "        constraints=[],\n",
    "        objectives=[CodonOptimize(codon_usage_table=a_oryzae, method='use_best_codon')], \n",
    "    )\n",
    "    problem.optimize()\n",
    "    optimized_dna_sequence = str(problem.sequence)\n",
    "    \n",
    "    dseq_obj = Dseq(optimized_dna_sequence)\n",
    "    print(dseq_obj)\n",
    "    dseqrecord = Dseqrecord(dseq_obj, name=row['SP_ID'], description=f\"Perplexity: {row['Perplexity']}, Length: {row['Length']}\")\n",
    "    codon_optimized_records.append(dseqrecord)\n"
   ]
  },
  {
   "cell_type": "code",
   "execution_count": 55,
   "metadata": {},
   "outputs": [
    {
     "data": {
      "text/plain": [
       "[Dseqrecord(-57),\n",
       " Dseqrecord(-69),\n",
       " Dseqrecord(-72),\n",
       " Dseqrecord(-60),\n",
       " Dseqrecord(-66),\n",
       " Dseqrecord(-57),\n",
       " Dseqrecord(-69),\n",
       " Dseqrecord(-60),\n",
       " Dseqrecord(-60),\n",
       " Dseqrecord(-75),\n",
       " Dseqrecord(-66),\n",
       " Dseqrecord(-63),\n",
       " Dseqrecord(-54),\n",
       " Dseqrecord(-51),\n",
       " Dseqrecord(-66),\n",
       " Dseqrecord(-57),\n",
       " Dseqrecord(-63),\n",
       " Dseqrecord(-63),\n",
       " Dseqrecord(-57),\n",
       " Dseqrecord(-51),\n",
       " Dseqrecord(-57),\n",
       " Dseqrecord(-84),\n",
       " Dseqrecord(-66),\n",
       " Dseqrecord(-54),\n",
       " Dseqrecord(-60),\n",
       " Dseqrecord(-63),\n",
       " Dseqrecord(-57),\n",
       " Dseqrecord(-54),\n",
       " Dseqrecord(-60),\n",
       " Dseqrecord(-60),\n",
       " Dseqrecord(-66),\n",
       " Dseqrecord(-57),\n",
       " Dseqrecord(-57),\n",
       " Dseqrecord(-63),\n",
       " Dseqrecord(-72),\n",
       " Dseqrecord(-66),\n",
       " Dseqrecord(-51),\n",
       " Dseqrecord(-63),\n",
       " Dseqrecord(-63),\n",
       " Dseqrecord(-63),\n",
       " Dseqrecord(-54),\n",
       " Dseqrecord(-60),\n",
       " Dseqrecord(-66),\n",
       " Dseqrecord(-60),\n",
       " Dseqrecord(-72),\n",
       " Dseqrecord(-60),\n",
       " Dseqrecord(-63),\n",
       " Dseqrecord(-66),\n",
       " Dseqrecord(-57),\n",
       " Dseqrecord(-60),\n",
       " Dseqrecord(-60),\n",
       " Dseqrecord(-63),\n",
       " Dseqrecord(-60),\n",
       " Dseqrecord(-63),\n",
       " Dseqrecord(-72),\n",
       " Dseqrecord(-63),\n",
       " Dseqrecord(-66),\n",
       " Dseqrecord(-57),\n",
       " Dseqrecord(-57),\n",
       " Dseqrecord(-72),\n",
       " Dseqrecord(-66),\n",
       " Dseqrecord(-63),\n",
       " Dseqrecord(-60),\n",
       " Dseqrecord(-60),\n",
       " Dseqrecord(-57),\n",
       " Dseqrecord(-66),\n",
       " Dseqrecord(-66),\n",
       " Dseqrecord(-66),\n",
       " Dseqrecord(-63),\n",
       " Dseqrecord(-60),\n",
       " Dseqrecord(-69),\n",
       " Dseqrecord(-57),\n",
       " Dseqrecord(-57),\n",
       " Dseqrecord(-66),\n",
       " Dseqrecord(-48),\n",
       " Dseqrecord(-60),\n",
       " Dseqrecord(-60),\n",
       " Dseqrecord(-54),\n",
       " Dseqrecord(-63),\n",
       " Dseqrecord(-60),\n",
       " Dseqrecord(-63),\n",
       " Dseqrecord(-72),\n",
       " Dseqrecord(-63),\n",
       " Dseqrecord(-66)]"
      ]
     },
     "execution_count": 55,
     "metadata": {},
     "output_type": "execute_result"
    }
   ],
   "source": [
    "codon_optimized_records"
   ]
  },
  {
   "cell_type": "code",
   "execution_count": null,
   "metadata": {},
   "outputs": [],
   "source": []
  }
 ],
 "metadata": {
  "kernelspec": {
   "display_name": "py_3_11",
   "language": "python",
   "name": "python3"
  },
  "language_info": {
   "codemirror_mode": {
    "name": "ipython",
    "version": 3
   },
   "file_extension": ".py",
   "mimetype": "text/x-python",
   "name": "python",
   "nbconvert_exporter": "python",
   "pygments_lexer": "ipython3",
   "version": "3.11.3"
  }
 },
 "nbformat": 4,
 "nbformat_minor": 2
}
