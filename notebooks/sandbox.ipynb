{
 "cells": [
  {
   "cell_type": "code",
   "execution_count": 1,
   "id": "f47f6a86-1502-416a-a9ba-ae2f084daa56",
   "metadata": {},
   "outputs": [],
   "source": [
    "from teemi.design.fetch_sequences import retrieve_sequences_from_ncbi, read_fasta_files"
   ]
  },
  {
   "cell_type": "code",
   "execution_count": 2,
   "id": "31861543-9748-419d-b776-38bc98727f50",
   "metadata": {},
   "outputs": [],
   "source": [
    "acc_numbers = ['Q8VWZ7',\n",
    " 'AGX93053',\n",
    " 'AGX93055',\n",
    " 'AGX93051',\n",
    " 'BAP90522',\n",
    " 'D1MI46',\n",
    " 'XP_022858342',\n",
    " 'AES93118']"
   ]
  },
  {
   "cell_type": "code",
   "execution_count": 3,
   "id": "8ab45dcb-9777-4846-87f7-f6a8140282c2",
   "metadata": {},
   "outputs": [],
   "source": [
    "chosen_g8h_ncbi_fasta = retrieve_sequences_from_ncbi(acc_numbers,'../data/dummy_protein_seq/dummy_seqs.fasta')\n"
   ]
  },
  {
   "cell_type": "code",
   "execution_count": 4,
   "id": "8c751a6d-bbd0-4e3d-bcdf-83ad9cba2fd6",
   "metadata": {},
   "outputs": [],
   "source": [
    "fasta_seqs = read_fasta_files('../data/dummy_protein_seq/dummy_seqs.fasta')"
   ]
  },
  {
   "cell_type": "code",
   "execution_count": 5,
   "id": "48c1c839-70af-43e9-b839-4c45224bb7a4",
   "metadata": {},
   "outputs": [
    {
     "data": {
      "text/plain": [
       "[SeqRecord(seq=Seq('MDYLTIILTLLFALTLYEAFSYLSRRTKNLPPGPSPLPFIGSLHLLGDQPHKSL...STL'), id='sp|Q8VWZ7.1|C76B6_CATRO', name='sp|Q8VWZ7.1|C76B6_CATRO', description='sp|Q8VWZ7.1|C76B6_CATRO RecName: Full=Geraniol 8-hydroxylase; AltName: Full=Cytochrome P450 76B6; AltName: Full=Geraniol 10-hydroxylase; Short=CrG10H', dbxrefs=[]),\n",
       " SeqRecord(seq=Seq('MDYLTITLGLLFALTFYQGLSYLSRRSKKLPPGPAPLPIIGNLHMLGDQPHKSL...IPF'), id='AGX93053.1', name='AGX93053.1', description='AGX93053.1 geraniol 10-hydroxylase-like protein [Rauvolfia serpentina]', dbxrefs=[]),\n",
       " SeqRecord(seq=Seq('MDYLTIALGLLFALTFYQGLTYLSRRSQKLPPGPLPLPIIGNLHLLGDHPHKSL...SPL'), id='AGX93055.1', name='AGX93055.1', description='AGX93055.1 geraniol 10-hydroxylase-like protein [Vinca minor]', dbxrefs=[]),\n",
       " SeqRecord(seq=Seq('MDYLTIVLGLLFALTLYQGLSSLSRKAKKLPPGPTPLPIIGNLHLLGDQPHKSL...ISL'), id='AGX93051.1', name='AGX93051.1', description='AGX93051.1 geraniol 10-hydroxylase-like protein [Cinchona calisaya]', dbxrefs=[]),\n",
       " SeqRecord(seq=Seq('MRILDSEVSKISTETARQTMDYLTIALGLLFALTLIQGWSFLSRRSKKLPPGPT...ISL'), id='BAP90522.1', name='BAP90522.1', description='BAP90522.1 geraniol 10-hydroxylase [Ophiorrhiza pumila]', dbxrefs=[]),\n",
       " SeqRecord(seq=Seq('MDFDFLTIAIGFLFTITLYQALNFFSRKSKNLPPGPSPLPLIGNLHLLGDQPHK...TPL'), id='sp|D1MI46.1|C76BA_SWEMU', name='sp|D1MI46.1|C76BA_SWEMU', description='sp|D1MI46.1|C76BA_SWEMU RecName: Full=Geraniol 8-hydroxylase; AltName: Full=Cytochrome P450 76B10; AltName: Full=Geraniol 10-hydroxylase; Short=SmG10H', dbxrefs=[]),\n",
       " SeqRecord(seq=Seq('MDFLTIVLGLLFALTLIQAFRSISTRGKNLPPGPTPLPIIGNLHLLGDQPHKSL...TPL'), id='XP_022858342.1', name='XP_022858342.1', description='XP_022858342.1 geraniol 8-hydroxylase-like [Olea europaea var. sylvestris]', dbxrefs=[]),\n",
       " SeqRecord(seq=Seq('MDIMDFMSFFIMFFGHLQIVSSPTTAASCKGCKKASTGPKPFPVIGNLLDVVGN...VHI'), id='AES93118.1', name='AES93118.1', description='AES93118.1 geraniol-10-hydroxylase [Camptotheca acuminata]', dbxrefs=[])]"
      ]
     },
     "execution_count": 5,
     "metadata": {},
     "output_type": "execute_result"
    }
   ],
   "source": [
    "fasta_seqs"
   ]
  },
  {
   "cell_type": "code",
   "execution_count": 6,
   "id": "78a26bc5-001a-4273-a0ea-6cb7739f2767",
   "metadata": {},
   "outputs": [],
   "source": [
    "from dnachisel.biotools import reverse_translate"
   ]
  },
  {
   "cell_type": "code",
   "execution_count": 7,
   "id": "a056de61-30da-4c1b-9792-10490c6f0f8c",
   "metadata": {},
   "outputs": [],
   "source": [
    "#add  * to indicate stop codon - and reverse traslate it\n",
    "for seq in fasta_seqs: \n",
    "    seq.seq = reverse_translate(seq.seq)"
   ]
  },
  {
   "cell_type": "code",
   "execution_count": 8,
   "id": "b712cc84-7e46-4b8d-8b77-b62129feb97e",
   "metadata": {},
   "outputs": [
    {
     "data": {
      "text/plain": [
       "[SeqRecord(seq='ATGGATTATTTAACTATTATTTTAACTTTATTATTTGCTTTAACTTTATATGAAGCTTTTTCTTATTTATCTCGTCGTACTAAAAATTTACCTCCTGGTCCTTCTCCTTTACCTTTTATTGGTTCTTTACATTTATTAGGTGATCAACCTCATAAATCTTTAGCTAAATTATCTAAAAAACATGGTCCTATTATGTCTTTAAAATTAGGTCAAATTACTACTATTGTTATTTCTTCTTCTACTATGGCTAAAGAAGTTTTACAAAAACAAGATTTAGCTTTTTCTTCTCGTTCTGTTCCTAATGCTTTACATGCTCATAATCAATTTAAATTTTCTGTTGTTTGGTTACCTGTTGCTTCTCGTTGGCGTTCTTTACGTAAAGTTTTAAATTCTAATATTTTTTCTGGTAATCGTTTAGATGCTAATCAACATTTACGTACTCGTAAAGTTCAAGAATTAATTGCTTATTGTCGTAAAAATTCTCAATCTGGTGAAGCTGTTGATGTTGGTCGTGCTGCTTTTCGTACTTCTTTAAATTTATTATCTAATTTAATTTTTTCTAAAGATTTAACTGATCCTTATTCTGATTCTGCTAAAGAATTTAAAGATTTAGTTTGGAATATTATGGTTGAAGCTGGTAAACCTAATTTAGTTGATTTTTTTCCTTTATTAGAAAAAGTTGATCCTCAAGGTATTCGTCATCGTATGACTATTCATTTTGGTGAAGTTTTAAAATTATTTGGTGGTTTAGTTAATGAACGTTTAGAACAACGTCGTTCTAAAGGTGAAAAAAATGATGTTTTAGATGTTTTATTAACTACTTCTCAAGAATCTCCTGAAGAAATTGATCGTACTCATATTGAACGTATGTGTTTAGATTTATTTGTTGCTGGTACTGATACTACTTCTTCTACTTTAGAATGGGCTATGTCTGAAATGTTAAAAAATCCTGATAAAATGAAAAAAACTCAAGATGAATTAGCTCAAGTTATTGGTCGTGGTAAAACTATTGAAGAATCTGATATTAATCGTTTACCTTATTTACGTTGTGTTATGAAAGAAACTTTACGTATTCATCCTCCTGTTCCTTTTTTAATTCCTCGTAAAGTTGAACAATCTGTTGAAGTTTGTGGTTATAATGTTCCTAAAGGTTCTCAAGTTTTAGTTAATGCTTGGGCTATTGGTCGTGATGAAACTGTTTGGGATGATGCTTTAGCTTTTAAACCTGAACGTTTTATGGAATCTGAATTAGATATTCGTGGTCGTGATTTTGAATTAATTCCTTTTGGTGCTGGTCGTCGTATTTGTCCTGGTTTACCTTTAGCTTTACGTACTGTTCCTTTAATGTTAGGTTCTTTATTAAATTCTTTTAATTGGAAATTAGAAGGTGGTATGGCTCCTAAAGATTTAGATATGGAAGAAAAATTTGGTATTACTTTACAAAAAGCTCATCCTTTACGTGCTGTTCCTTCTACTTTA', id='sp|Q8VWZ7.1|C76B6_CATRO', name='sp|Q8VWZ7.1|C76B6_CATRO', description='sp|Q8VWZ7.1|C76B6_CATRO RecName: Full=Geraniol 8-hydroxylase; AltName: Full=Cytochrome P450 76B6; AltName: Full=Geraniol 10-hydroxylase; Short=CrG10H', dbxrefs=[]),\n",
       " SeqRecord(seq='ATGGATTATTTAACTATTACTTTAGGTTTATTATTTGCTTTAACTTTTTATCAAGGTTTATCTTATTTATCTCGTCGTTCTAAAAAATTACCTCCTGGTCCTGCTCCTTTACCTATTATTGGTAATTTACATATGTTAGGTGATCAACCTCATAAATCTTTAGCTAAATTATCTAAAAAACATGGTCCTATTATGTCTTTAAAATTAGGTCAAATTACTACTGTTGTTGTTTCTTCTTCTGGTATGGCTAAAGAAGTTTTACAAAAACATGATTTAGCTTTTTCTTCTCGTTCTATTCCTAATGCTTTACATGCTCATAATCAATATCAATTTTCTGTTGTTTGGTTACCTGTTGCTTCTCGTTGGCGTTCTTTACGTAAAACTTTAAATTCTAATATTTTTTCTGGTAATCGTTTAGATGCTAATCAACATTTACGTTCTCGTAAAGTTGAAGAATTAATTGCTTATTGTCGTAAAAATTGTCAAACTGGTGAAGCTGTTGATGTTGGTCGTGCTGCTTTTCGTACTTCTTTAAATTTATTATCTAATTTAATTTTTTCTAAAGATTTAACTGATCCTTATTCTGATTCTGCTAAAGAATTTAAAGATTTAGTTTGGAATATTATGGTTGAAGCTGGTAAACCTAATTTAGTTGATTATTTTCCTGTTTTAGAAAAAGTTGATCCTCAAGGTATTCGTCGTCGTATGACTGTTCATTTTGGTAAAGTTTTAAAATTATTTGATGGTTTAGTTAATGAACGTTTAGAACAACGTCGTTCTCGTGGTGGTAAAAATGATGTTTTAGATGTTTTATTAACTAATTCTGAAGAAAATCCTGAAGAAATTGATCGTACTCATATTGAACGTATGTGTTTAGATTTATTTGTTGCTGGTACTGATACTACTTCTTCTACTTTAGAATGGGCTATGGCTGAAATGTTAAAAAATCCTGATAAAATGAAAAAAACTCAAGCTGAATTAGCTGAAGTTATTGGTCGTGGTAAAGCTATTGAAGAATCTGATTTACCTCGTTTACCTTATTTACGTTGTGTTGTTAAAGAAACTTTACGTATTCATCCTCCTGTTCCTTTTTTAATTCCTCGTCGTGTTGAACAAGATGTTGAAGTTTGTGGTTATAAAGTTCCTAAAGGTTCTCAAGTTTTAGTTAATGCTTGGACTATTGGTCGTGATGAAGCTGTTTGGGAAGATGCTTTAGCTTTTAAACCTGAACGTTTTTTAGAATCTGAATTAGATATTCGTGGTCGTGATTTTGAATTAATTCCTTTTGGTGCTGGTCGTCGTATTTGTCCTGGTTTACCTTTAGCTTTACGTACTGTTCCTTTAATGGTTGGTTCTTTATTAAATTCTTTTAATTGGAAATTAGAAGGTGGTATTACTCCTAAAGATTTAGATATGGAAGAAAAATTTGGTATTACTTTACAAAAAGCTCATCCTTTACGTGCTGTTCCTATTCCTTTT', id='AGX93053.1', name='AGX93053.1', description='AGX93053.1 geraniol 10-hydroxylase-like protein [Rauvolfia serpentina]', dbxrefs=[]),\n",
       " SeqRecord(seq='ATGGATTATTTAACTATTGCTTTAGGTTTATTATTTGCTTTAACTTTTTATCAAGGTTTAACTTATTTATCTCGTCGTTCTCAAAAATTACCTCCTGGTCCTTTACCTTTACCTATTATTGGTAATTTACATTTATTAGGTGATCATCCTCATAAATCTTTAGCTAAATTATCTAAAAAATATGGTCCTATTATGTCTTTAAAATTAGGTCGTATTACTACTTTAGTTATTTCTTCTTCTACTACTGCTAAAGAAGTTTTACAAAAACAAGATTTAGCTTTTTCTTCTCGTTCTGTTCCTAATGCTTTACATGCTCATAATCAATTTCAATATTCTGTTGTTTGGTTACCTGTTGCTTCTCGTTGGCGTTCTTTACGTAAAATTTTAAATTCTAATATTTTTTCTGGTAATCGTTTAGATGCTAATCAACATTTACGTTGTCGTAAAGTTGAAGAATTAATTGCTTATTGTCGTAAAAATTGTCAATCTGGTGAAGCTGTTGATTTAGGTCGTGCTGCTTTTCGTACTTCTTTAAATTTATTATCTAATACTATTTTTTCTAAAGATTTAACTGATCCTTATTCTGATTCTGCTAAAGAATTTAAAGATTTAGTTTGGAATATTATGGTTGAAGCTGGTAAACCTAATTTAGTTGATTTTTTTCCTGTTTTAGAAAAAGTTGATCCTCAAGGTATTCGTCGTCGTATGACTGTTCATTTTGGTAAAGTTATTCAATTATTTAATGGTTTAATTAATGAACGTTTAGATAAACGTAAATCTCGTGGTGGTTATAATGATGTTTTAGATGTTTTATTAACTACTACTGAAGAAAATCCTGAAGAAATTGATCGTACTCATATTGAACGTATGTGTTTAGATTTATTTGTTGCTGGTACTGATACTACTTCTTCTACTTTAGAATGGGCTATGGCTGAAATGTTACGTAATCCTGAAAAAATGAAAAAAACTCAAGAAGAATTAGCTGAAGTTGTTGGTCGTGGTAAATTAATTGAAGAAGGTGATGTTTCTCGTTTACCTTATTTACGTTGTGTTGTTAAAGAAACTTTACGTGTTCATCCTCCTGTTCCTTTTTTAATTCCTCGTAAAGTTGTTCAAGATGTTGAAGTTTGTGGTTATAAAGTTCCTAAAGGTTCTCAAGTTTTAGTTAATGCTTGGGCTATTGGTCGTGATGAAACTTTTTGGAAAGATGCTTTAGGTTTTAAACCTGAACGTTTTTTAGAATCTGAATTAGATACTCGTGGTCGTGATTTTGAATTAATTCCTTTTGGTGCTGGTCGTCGTATTTGTCCTGGTTTACCTTTAGCTAATCGTATGGTTCCTGTTATGTTAGGTTCTTTATTAAATTCTTTTAATTGGAAATTAGAAGGTGGTATTGCTCCTAAAGATTTAGATATGGAAGAAAAATTTGGTATTACTTTACAAAAAGCTCATCCTTTACGTGCTGTTCCTTCTCCTTTA', id='AGX93055.1', name='AGX93055.1', description='AGX93055.1 geraniol 10-hydroxylase-like protein [Vinca minor]', dbxrefs=[]),\n",
       " SeqRecord(seq='ATGGATTATTTAACTATTGTTTTAGGTTTATTATTTGCTTTAACTTTATATCAAGGTTTATCTTCTTTATCTCGTAAAGCTAAAAAATTACCTCCTGGTCCTACTCCTTTACCTATTATTGGTAATTTACATTTATTAGGTGATCAACCTCATAAATCTTTAGCTAAATTAGCTAAAAAACATGGTCCTTTAATGTCTTTAAAATTAGGTCAAATTACTACTGTTGTTGTTACTTCTTCTGATATGGCTAAAGAAGTTTTACAAAAACAAGATTTAGCTTTTTCTTTTCGTTCTATTCCTGATGCTTTACATGCTCATGATCAATATCGTTATTCTGTTGTTTGGTTACCTGTTGCTTCTCGTTGGCGTTCTTTACGTAAAATTTTAAATTCTAATATTTTTTCTGGTAATCGTTTAGATGCTAATCAACATTTACGTTTAAAAAAAGTTCAAGAATTAGTTGCTTATTGTCGTAAAAATTCTCAAGTTGGTGAAGCTGTTGATGTTGGTCGTGCTGCTTTTCGTACTTCTTTAAATTTATTATCTAATACTTTATTTTCTAAAGATTTAACTGATCCTTATTCTGATTCTGCTAAAGAATTTAAAGATTTAGTTTGGAATATTATGTTAGAAGCTGGTAAACCTAATTTAGTTGATTTTTTTCCTGTTTTAGAAAAAATTGATCCTCAAGGTATTCGTCGTCGTATGACTATTCATTTTGGTAAAGTTTTAAAATTATTTGGTGGTTTAGTTGATGAACGTTTAGAACAAGGTAAATCTAAAGGTGGTAATTCTGATGTTTTAGATGTTTTATTAACTACTTCTGAAGAAGCTCCTGGTGAAATTGATCGTACTCATATTGAACGTATGTGTTTAGATTTATTTGTTGCTGGTACTGATACTACTTCTAATACTTTAGAATGGGCTATGGCTGAAGTTTTACGTAATCCTGAAAAAATGAAAAAAGCTAAAGCTGAATTAGCTGAAGTTATTGGTAAAGGTAAATTAGTTGAAGAAGCTGATGTTTCTCGTTTACCTTATTTACGTTGTATTGTTAAAGAAACTTTACGTATTCATCCTCCTGTTCCTTTTTTAATTCCTCGTCGTGTTGATCAAGATGTTGAAGTTTGTGGTTATAATGTTCCTAAAGGTTCTCAAGTTTTAGTTAATGCTTGGGCTATTGGTCGTGATGAAACTGTTTGGGAAAATGCTTTAGCTTTTAAACCTGAACGTTTTTGGGAATCTGAATTAGATATTCGTGGTCGTGATTTTGAATTAATTCCTTTTGGTGCTGGTCGTCGTATTTGTCCTGGTTTACCTTTAGCTGTTCGTATGGTTCCTGTTATGTTAGGTTCTTTATTAAATTCTTTTGATTGGAAATTAGAAGCTGGTATTGCTCCTAAAGGTTTAGATATGGAAGAAAAATTTGGTATTACTTTACAAAAAGCTTATCCTTTACGTGCTGTTCCTATTTCTTTA', id='AGX93051.1', name='AGX93051.1', description='AGX93051.1 geraniol 10-hydroxylase-like protein [Cinchona calisaya]', dbxrefs=[]),\n",
       " SeqRecord(seq='ATGCGTATTTTAGATTCTGAAGTTTCTAAAATTTCTACTGAAACTGCTCGTCAAACTATGGATTATTTAACTATTGCTTTAGGTTTATTATTTGCTTTAACTTTAATTCAAGGTTGGTCTTTTTTATCTCGTCGTTCTAAAAAATTACCTCCTGGTCCTACTCCTTTACCTATTATTGGTAATTTACATTTATTAGGTGATCAACCTCATAAATCTTTAGCTAAATTAGCTAAAACTCATGGTCCTTTAATGTCTTTAAAATTAGGTCAAATTACTACTTTAGCTATTTCTTCTTCTGGTATGGCTAAAGAAGTTTTACAAAAACAAGATTTAGCTTTTTCTTCTCGTTCTATTCCTGATGCTATTCATGCTCATAATCAATTTCAATATTCTGTTGTTTGGTTACCTGTTGCTACTCGTTGGCGTTCTTTACGTAAAATTTTAAATTCTAATATTTTTTCTGGTAATCGTTTAGATGCTAATCAACATTTACGTTGTCGTAAAGTTCAAGAATTAATTGCTTATTGTCGTAAAAATTGTCAAACTGGTGAAGCTGTTGATATTGGTCGTGCTGCTTTTCGTACTTCTTTAAATTTATTATCTAATACTATTTTTTCTAAAGATTTAACTGATCCTTATTCTGATTCTGCTAAAGAATTTAAAGATTTAGTTTGGAATATTATGGTTGAAGCTGGTAAACCTAATTTAGTTGATTTTTTTCCTGTTTTAGAAAAATTTGATCCTCAAGGTATTCGTCGTCGTATGACTATTCATTTTGGTAAAGTTTTAGAAATGTTTGGTGGTTTAATTAATGAACGTTTAGATAATGGTAAATCTCGTGGTGGTAATAATGATGTTTTAGATGTTTTATTAAATGCTTCTGAAGAAACTCCTGATGAAATTGATCGTACTCATATTGAACGTTTATGTTTAGATTTATTTGTTGCTGGTACTGATACTACTTCTAATACTTTAGAATGGGCTATGGCTGAAATGTTAAAAACTCCTGAAAAAATGAAAAAAGCTAAAGCTGAATTAGCTGAAGTTATTGGTAAAGGTAAAGCTATTGAAGAAGCTGATGTTTCTCGTTTACCTTATTTACGTTGTATTGTTAAAGAAACTTTACGTTTACATCCTCCTGTTCCTTTTTTAATTCCTCGTAAAGTTGAACAAGATGTTGAAGTTTGTGGTTATAATGTTCCTAAAGGTACTCAAGTTTTAGTTAATGCTTGGGCTATTGGTCGTGATGAAACTACTTGGGAAAATGCTTTAGAATTTAAACCTGAACGTTTTTTAGAATCTGAATTAGATATTCGTGGTCGTGATTTTGAATTAATTCCTTTTGGTGCTGGTCGTCGTATTTGTCCTGGTTTACCTTTAGCTGTTCGTATGGTTCCTGTTATGTTAGGTTCTTTATTAAATTCTTTTGATTGGAAATTAGGTGGTTCTATTGCTCCTAAAGATTTAGATATGGAAGAAAAATTTGGTATTACTTTACAAAAAGCTAATCCTTTATTAGCTGTTCCTATTTCTTTA', id='BAP90522.1', name='BAP90522.1', description='BAP90522.1 geraniol 10-hydroxylase [Ophiorrhiza pumila]', dbxrefs=[]),\n",
       " SeqRecord(seq='ATGGATTTTGATTTTTTAACTATTGCTATTGGTTTTTTATTTACTATTACTTTATATCAAGCTTTAAATTTTTTTTCTCGTAAATCTAAAAATTTACCTCCTGGTCCTTCTCCTTTACCTTTAATTGGTAATTTACATTTATTAGGTGATCAACCTCATAAATCTTTAGCTAAATTAGCTAAAAAACATGGTCCTATTATGGGTTTACAATTAGGTCAAGTTACTACTATTGTTGTTACTTCTTCTGGTATGGCTAAAGAAGTTTTACAAAAACAAGATTTAGCTTTTTCTTCTCGTTCTATTCCTAATGCTATTCATGCTCATGATCAATATAAATATTCTGTTATTTGGTTACCTGTTGCTTCTCGTTGGCGTGGTTTACGTAAAGCTTTAAATTCTAATATGTTTTCTGGTAATCGTTTAGATGCTAATCAACATTTACGTTCTCGTAAAGTTCAAGAATTAATTGCTTATTGTCGTAAATCTTCTCAAACTGGTGATGCTATTGATGTTGGTCGTGCTGCTTTTCGTACTTCTTTAAATTTATTATCTAATACTATGTTTTCTAAAGATTTAACTGATCCTTATTCTGATTCTGCTAAAGAATTTAAAGATTTAGTTTGGAATGTTATGGTTGAAGCTGGTAAACCTAATTTAGTTGATTATTTTCCTTTATTAGATAAAGTTGATCCTCAAGGTATTCGTAAACGTATGACTATTCATTTTGGTAAAATTTTAGAATTATTTGGTGGTTTAATTGATGAACGTTTACAACAAAAAAAAGCTAAAGGTGTTAATGATGATGTTTTAGATGTTTTATTAACTACTTCTGAAGAATCTCCTGAAGAAATTGATCGTACTCATATTCAACGTATGTGTTTAGATTTATTTGTTGCTGGTACTGATACTACTTCTTCTACTTTAGAATGGGCTATGTCTGAAATGTTAAAAAATCCTGAAAAAATGAAAGCTGCTCAAGCTGAATTAGCTCAAGTTATTGGTAAAGGTAAAGCTGTTGAAGAAGCTGATTTAGCTCGTTTACCTTATTTACGTTGTGCTATTAAAGAAACTTTACGTATTCATCCTCCTGTTCCTTTATTAATTCCTCGTCGTACTGAACAAGAAGTTGAAGTTTGTGGTTATACTGTTCCTAAAAATTCTCAAGTTTTAGTTAATGTTTGGGCTATTTCTCGTGATGATGCTATTTGGAAAGATCCTTTATCTTTTAAACCTGAACGTTTTTTAGAATCTGAATTAGAAATGCGTGGTAAAGATTTTGAATTAATTCCTTTTGGTGCTGGTCGTCGTATTTGTCCTGGTTTACCTTTAGCTGTTCGTATGGTTCCTGTTATGTTAGGTTCTTTATTAAATTCTTTTGATTGGAAATTAGAAGGTGGTATTGCTCCTAAAGATTTAGATATGGAAGAAAAATTTGGTATTACTTTACAAAAAGCTCATCCTTTACGTGCTGTTGCTACTCCTTTA', id='sp|D1MI46.1|C76BA_SWEMU', name='sp|D1MI46.1|C76BA_SWEMU', description='sp|D1MI46.1|C76BA_SWEMU RecName: Full=Geraniol 8-hydroxylase; AltName: Full=Cytochrome P450 76B10; AltName: Full=Geraniol 10-hydroxylase; Short=SmG10H', dbxrefs=[]),\n",
       " SeqRecord(seq='ATGGATTTTTTAACTATTGTTTTAGGTTTATTATTTGCTTTAACTTTAATTCAAGCTTTTCGTTCTATTTCTACTCGTGGTAAAAATTTACCTCCTGGTCCTACTCCTTTACCTATTATTGGTAATTTACATTTATTAGGTGATCAACCTCATAAATCTTTAGCTAAATTAGCTAAAACTTATGGTCCTATTATGTGTTTACGTTTTGGTTCTATTAATACTGTTGTTATTACTTCTTCTGCTATGGCTAAAGAAGTTTTACAAAAACAAGATTTAGCTTTTTCTTCTCGTCATATTCCTAATGCTATTCATGCTCATAATCAATTTAAATATTCTGTTGTTTGGTTACCTGTTGCTTCTACTTGGCGTTCTTTACGTAAAATTTTAAATTCTAATATGTTTTCTGGTAATCGTTTAGATGCTAATCAACATTTACGTGTTCGTAAAGTTCAAGAATTAATTACTTATTGTCGTAAAAATTCTCAAGCTGGTGAAGCTGTTGATATTGGTCGTGCTGCTTTTCGTACTTCTTTAAATTTATTATCTAATACTATTTTTTCTAAAGATTTAACTGATCCTTTTTCTGATTCTGCTAAAGAATTTAAAGATTTAGTTTGGAATGTTATGGTTGAAGCTGGTAAACCTAATTTAGTTGATTTTTTTCCTGTTTTAGAAAAATTAGATCCTTTAGGTATTCGTCGTCGTATGACTATTCATTTTGGTAAAATTATTGAATTATTTGGTGGTTTAATTAATGAACGTTTAAAACGTCGTATGTCTGATAATTCTAAAAATTCTGATGTTTTAGATGTTTTATTAGATACTTCTCAAGAAAATCCTGAAGAAATTGATCGTGTTCATATTGAACGTTTATGTTTAGATTTATTTGTTGCTGGTACTGATACTACTTCTTCTACTTTAGAATGGGCTATGGCTGAAACTTTAAAAAATCCTGCTACTATGAAAAAAGCTAAAGCTGAATTAGAAGAAGTTATTGGTAAAGGTAAAGTTTTAGAAGAAGCTGATGTTTCTCGTTTACCTTATTTACGTTGTATGGTTAAAGAAGCTTTACGTATTCATCCTCCTGTTCCTTTTTTAATTCCTCGTCGTGTTGAACAAGATGTTGAAGTTTCTGGTTATACTGTTCCTAAAAATTCTCAAGTTTTAGTTAATGCTTGGGCTATTGGTCGTGATCCTACTTTATGGGAAAATCCTTTAGAATTTAAACCTGAACGTTTTATGGAATCTGAATTAGATATTCGTGGTCGTGATTTTGAATTAATTCCTTTTGGTGCTGGTCGTCGTATTTGTCCTGGTTTACCTTTAGCTATTCGTATGGTTCCTGTTATGTTAGGTTCTTTAGTTAATTCTTTTGATTGGAAATTAGAAGGTGGTATTTCTCCTAAAGATTTAGATATGGAAGAAAAATTTGGTATTACTTTACAAAAAGCTAATCCTTTACGTGCTGTTCCTACTCCTTTA', id='XP_022858342.1', name='XP_022858342.1', description='XP_022858342.1 geraniol 8-hydroxylase-like [Olea europaea var. sylvestris]', dbxrefs=[]),\n",
       " SeqRecord(seq='ATGGATATTATGGATTTTATGTCTTTTTTTATTATGTTTTTTGGTCATTTACAAATTGTTTCTTCTCCTACTACTGCTGCTTCTTGTAAAGGTTGTAAAAAAGCTTCTACTGGTCCTAAACCTTTTCCTGTTATTGGTAATTTATTAGATGTTGTTGGTAATCAACCTCATAAATCTTTAGCTAATTTAGCTAAAACTCATGGTCCTTTAATGACTTTAAAATTAGGTCAAATTACTACTGTTGTTGTTTCTTCTTCTACTATGGCTAAACAAATTTTACAAAATCATGATTTATATTTTTCTAATCGTTATACTCGTGATGCTATTCGTGCTTTAAATCAAGATCAATTTTCTGTTATTTGGTTACCTGTTGTTACTCGTTGGCGTAATTTACGTAAAATTTTAAATTTATATATGTTATCTACTGAACGTTTAGGTGCTAATCAACCTATTCGTTGTCAAAAAGTTGAAGAATTAATTGCTTATGTTCGTCAATCTTGTCAAGCTTCTGTTTCTGTTGATATTGGTCAAGCTGCTTTTCGTACTATGATTAATTTAACTTCTAAAACTATTTTTTCTGTTGATTTAGCTGATCCTTCTTCTGATACTGCTCAAGAATTAAAAGAATTATTTTGGCGTATTATGGAAGAATTAGGTAAACCTAATTTAGCTGATTATTTTCCTGTTTTACGTAAATTAGATCCTCAAGGTATTCGTCGTCGTACTACTATTCATTTTGCTAAAGTTTTTGATTTATTTGATCGTATGATTGATCAACGTTTAGAATTATTACGTTCTGATGATTGTTGTACTGGTAATGATTTATTAGATTCTTTATTAAATATTTCTCAAAATAATTCTGATGAAATTGATCAAAATCAAATTAAACGTATGTTAATGGATGTTTTTATTGCTGCTACTGATACTACTTCTTCTACTTTAGAATGGGCTATGACTGAATTATTACGTAATCCTGAAACTTTATTAAAAGCTAAAGCTGAATTACAACAAATTGTTGGTAAAGGTAAATTAGTTGAAGAATTAGATATTGCTCGTTTACCTTATTTACAAGCTATTGTTAAAGAAACTTTTCGTTTACATACTACTGTTCCTTTTTTAATTCCTCGTCAAGTTGATGAAGATGTTGAAGTTTGTGGTTTTACTGTTCCTAAAGGTGCTCAAGTTTTAGTTAATGCTTGGGCTATTGGTCATGATCCTTCTATTTGGCCTAAACCTGATTCTTTTATGCCTGAACGTTTTTTAGAATCTGAAGTTGATGTTCGTGGTTTAGATTTTGAATTAATTCCTTTTGGTGGTGGTCGTCGTATTTGTCCTGGTTCTGCTTTAGCTTTACGTATGTTACATTTAATGTTAGGTTCTTTAATTAATTCTTTTGATTGGCGTTTAGAAGATGGTATTGCTCCTAATGATATGGATATGGAAGAAAAATTTGGTTTATCTTTACAAAAAGCTCGTCCTTTATTATTTGCTCCTGTTCATATT', id='AES93118.1', name='AES93118.1', description='AES93118.1 geraniol-10-hydroxylase [Camptotheca acuminata]', dbxrefs=[])]"
      ]
     },
     "execution_count": 8,
     "metadata": {},
     "output_type": "execute_result"
    }
   ],
   "source": [
    "fasta_seqs"
   ]
  },
  {
   "cell_type": "code",
   "execution_count": 65,
   "id": "842358e8-e71c-469c-abe1-a3ee605b3ece",
   "metadata": {},
   "outputs": [],
   "source": [
    "from dnachisel import DnaOptimizationProblem, EnforceGCContent, CodonOptimize\n",
    "from typing import List\n",
    "from Bio.SeqRecord import SeqRecord\n",
    "\n",
    "def codon_optimize_with_dnachisel(\n",
    "    sequences: List[SeqRecord],\n",
    "    lower_GC: float = 0.1,\n",
    "    upper_GC: float = 0.9,\n",
    "    species: str = None,\n",
    "    codon_usage_table = None,\n",
    "    window: int = 100,\n",
    "    method : str = 'use_best_codon'\n",
    ") -> List[SeqRecord]:\n",
    "    \n",
    "    \"\"\"Codon-optimize sequences with_dnachisel.\n",
    "\n",
    "    Parameters\n",
    "    ----------\n",
    "    sequences : list\n",
    "        list of Bio.SeqRecord objects\n",
    "    lower_GC : float\n",
    "        the lowest GC content in the region of 50 bp\n",
    "    upper_GC : float\n",
    "        the highest GC content in the region of 50 bp\n",
    "    species : str\n",
    "        name of the species for which to optimize the sequence.\n",
    "        examples: 'e_coli, s_cerevisiae, h_sapiens, c_elegans, b_subtilis, d_melanogaster\n",
    "        check python_codon_tables for more info.\n",
    "    codon_usage_table:\n",
    "        a codon table following the structure of:\n",
    "        {'*': {'TAA': 0.0, 'TAG': 0.0, 'TGA': 1.0},...\n",
    "    method : str \n",
    "        Either ‘use_best_codon’, ‘match_codon_usage’, or ‘harmonize_rca’. Default is ‘use_best_codon’.\n",
    "        \n",
    "\n",
    "    Returns\n",
    "    -------\n",
    "    list of codon optimized sequences for yeast\n",
    "    \"\"\"\n",
    "    \n",
    "    \n",
    "    if not species and not codon_usage_table:\n",
    "        raise ValueError(\"At least one of `species` and `codon_usage_table` must be specified.\")\n",
    "    \n",
    "    codon_optimized_seqs = []\n",
    "    \n",
    "\n",
    "    # DEFINE THE OPTIMIZATION PROBLEM\n",
    "    for seq in sequences:\n",
    "        if species: \n",
    "            problem = DnaOptimizationProblem(\n",
    "                sequence=str(seq.seq),\n",
    "                objectives=[CodonOptimize(species=species, method=method)],\n",
    "            )\n",
    "\n",
    "            # SOLVE THE CONSTRAINTS, OPTIMIZE WITH RESPECT TO THE OBJECTIVE\n",
    "            #problem.resolve_constraints()\n",
    "            problem.optimize()\n",
    "            \n",
    "            \n",
    "            print(problem.objectives_text_summary())\n",
    "\n",
    "        if codon_usage_table: \n",
    "            problem = DnaOptimizationProblem(\n",
    "                                        sequence=str(seq.seq),\n",
    "                                        objectives=[CodonOptimize(codon_usage_table=codon_usage_table, method=method)])\n",
    "\n",
    "            # SOLVE THE CONSTRAINTS, OPTIMIZE WITH RESPECT TO THE OBJECTIVE\n",
    "            #problem.resolve_constraints()\n",
    "            problem.optimize()\n",
    "\n",
    "            print(problem.objectives_text_summary())\n",
    "\n",
    "        # GET THE FINAL SEQUENCE AS ANNOTATED BIOPYTHON RECORDS)\n",
    "        final_record = problem.to_record(with_sequence_edits=True)\n",
    "        final_record.id = seq.id\n",
    "        final_record.name = seq.name\n",
    "        final_record.description = seq.description\n",
    "\n",
    "        codon_optimized_seqs.append(final_record)\n",
    "\n",
    "    return codon_optimized_seqs"
   ]
  },
  {
   "cell_type": "code",
   "execution_count": 66,
   "id": "2ff5a0eb-b924-41b8-90c8-b08f281b96f3",
   "metadata": {},
   "outputs": [],
   "source": [
    "A_oryzae_rib40 = {'*': {'TAA': 0.0, 'TAG': 0.0, 'TGA': 1.0},\n",
    " 'A': {'GCA': 0.07, 'GCC': 0.4, 'GCG': 0.33, 'GCT': 0.2},\n",
    " 'C': {'TGC': 1.0, 'TGT': 0.0},\n",
    " 'D': {'GAC': 0.87, 'GAT': 0.13},\n",
    " 'E': {'GAA': 0.14, 'GAG': 0.86},\n",
    " 'F': {'TTC': 1.0, 'TTT': 0.0},\n",
    " 'G': {'GGA': 0.11, 'GGC': 0.42, 'GGG': 0.32, 'GGT': 0.16},\n",
    " 'H': {'CAC': 1.0, 'CAT': 0.0},\n",
    " 'I': {'ATA': 0.0, 'ATC': 0.93, 'ATT': 0.07},\n",
    " 'K': {'AAA': 0.0, 'AAG': 1.0},\n",
    " 'L': {'CTA': 0.0,\n",
    "  'CTC': 0.42,\n",
    "  'CTG': 0.54,\n",
    "  'CTT': 0.04,\n",
    "  'TTA': 0.0,\n",
    "  'TTG': 0.0},\n",
    " 'M': {'ATG': 1.0},\n",
    " 'N': {'AAC': 0.83, 'AAT': 0.17},\n",
    " 'P': {'CCA': 0.06, 'CCC': 0.18, 'CCG': 0.65, 'CCT': 0.12},\n",
    " 'Q': {'CAA': 0.2, 'CAG': 0.8},\n",
    " 'R': {'AGA': 0.0,\n",
    "  'AGG': 0.09,\n",
    "  'CGA': 0.12,\n",
    "  'CGC': 0.35,\n",
    "  'CGG': 0.35,\n",
    "  'CGT': 0.09},\n",
    " 'S': {'AGC': 0.27,\n",
    "  'AGT': 0.0,\n",
    "  'TCA': 0.0,\n",
    "  'TCC': 0.09,\n",
    "  'TCG': 0.45,\n",
    "  'TCT': 0.18},\n",
    " 'T': {'ACA': 0.08, 'ACC': 0.5, 'ACG': 0.35, 'ACT': 0.08},\n",
    " 'V': {'GTA': 0.12, 'GTC': 0.32, 'GTG': 0.56, 'GTT': 0.0},\n",
    " 'W': {'TGG': 1.0},\n",
    " 'Y': {'TAC': 0.89, 'TAT': 0.11}}"
   ]
  },
  {
   "cell_type": "code",
   "execution_count": 67,
   "id": "94746787-176d-4d39-8cdb-a1e5ac2a676b",
   "metadata": {},
   "outputs": [
    {
     "name": "stderr",
     "output_type": "stream",
     "text": [
      "objective:   0%|        | 0/1 [00:00<?, ?it/s, now=MaximizeCAI[0-1479]((cust...]\n",
      "location:   0%|                               | 0/472 [00:00<?, ?it/s, now=None]\u001b[A\n",
      "location:   0%|                                | 0/472 [00:00<?, ?it/s, now=3-6]\u001b[A\n",
      "                                                                                \u001b[A\r"
     ]
    },
    {
     "name": "stdout",
     "output_type": "stream",
     "text": [
      "===> TOTAL OBJECTIVES SCORE:         0\n",
      "✔        0 ┍ MaximizeCAI[0-1479]((custom table)) \n",
      "           │ Codon opt. on window 0-1479 scored -0.00E+00\n",
      "\n",
      "\n"
     ]
    },
    {
     "name": "stderr",
     "output_type": "stream",
     "text": [
      "objective:   0%|        | 0/1 [00:00<?, ?it/s, now=MaximizeCAI[0-1479]((cust...]\n",
      "location:   0%|                               | 0/474 [00:00<?, ?it/s, now=None]\u001b[A\n",
      "location:   0%|                                | 0/474 [00:00<?, ?it/s, now=3-6]\u001b[A\n",
      "                                                                                \u001b[A\r"
     ]
    },
    {
     "name": "stdout",
     "output_type": "stream",
     "text": [
      "===> TOTAL OBJECTIVES SCORE:         0\n",
      "✔        0 ┍ MaximizeCAI[0-1479]((custom table)) \n",
      "           │ Codon opt. on window 0-1479 scored -0.00E+00\n",
      "\n",
      "\n"
     ]
    },
    {
     "name": "stderr",
     "output_type": "stream",
     "text": [
      "objective:   0%|        | 0/1 [00:00<?, ?it/s, now=MaximizeCAI[0-1479]((cust...]\n",
      "location:   0%|                               | 0/475 [00:00<?, ?it/s, now=None]\u001b[A\n",
      "location:   0%|                                | 0/475 [00:00<?, ?it/s, now=3-6]\u001b[A\n",
      "                                                                                \u001b[A\r"
     ]
    },
    {
     "name": "stdout",
     "output_type": "stream",
     "text": [
      "===> TOTAL OBJECTIVES SCORE:         0\n",
      "✔        0 ┍ MaximizeCAI[0-1479]((custom table)) \n",
      "           │ Codon opt. on window 0-1479 scored -0.00E+00\n",
      "\n",
      "\n"
     ]
    },
    {
     "name": "stderr",
     "output_type": "stream",
     "text": [
      "objective:   0%|        | 0/1 [00:00<?, ?it/s, now=MaximizeCAI[0-1479]((cust...]\n",
      "location:   0%|                               | 0/474 [00:00<?, ?it/s, now=None]\u001b[A\n",
      "location:   0%|                                | 0/474 [00:00<?, ?it/s, now=3-6]\u001b[A\n",
      "                                                                                \u001b[A\r"
     ]
    },
    {
     "name": "stdout",
     "output_type": "stream",
     "text": [
      "===> TOTAL OBJECTIVES SCORE:         0\n",
      "✔        0 ┍ MaximizeCAI[0-1479]((custom table)) \n",
      "           │ Codon opt. on window 0-1479 scored -0.00E+00\n",
      "\n",
      "\n"
     ]
    },
    {
     "name": "stderr",
     "output_type": "stream",
     "text": [
      "objective:   0%|        | 0/1 [00:00<?, ?it/s, now=MaximizeCAI[0-1536]((cust...]\n",
      "location:   0%|                               | 0/491 [00:00<?, ?it/s, now=None]\u001b[A\n",
      "location:   0%|                                | 0/491 [00:00<?, ?it/s, now=3-6]\u001b[A\n",
      "                                                                                \u001b[A\r"
     ]
    },
    {
     "name": "stdout",
     "output_type": "stream",
     "text": [
      "===> TOTAL OBJECTIVES SCORE:         0\n",
      "✔        0 ┍ MaximizeCAI[0-1536]((custom table)) \n",
      "           │ Codon opt. on window 0-1536 scored -0.00E+00\n",
      "\n",
      "\n"
     ]
    },
    {
     "name": "stderr",
     "output_type": "stream",
     "text": [
      "objective:   0%|        | 0/1 [00:00<?, ?it/s, now=MaximizeCAI[0-1485]((cust...]\n",
      "location:   0%|                               | 0/473 [00:00<?, ?it/s, now=None]\u001b[A\n",
      "location:   0%|                                | 0/473 [00:00<?, ?it/s, now=3-6]\u001b[A\n",
      "                                                                                \u001b[A\r"
     ]
    },
    {
     "name": "stdout",
     "output_type": "stream",
     "text": [
      "===> TOTAL OBJECTIVES SCORE:         0\n",
      "✔        0 ┍ MaximizeCAI[0-1485]((custom table)) \n",
      "           │ Codon opt. on window 0-1485 scored -0.00E+00\n",
      "\n",
      "\n"
     ]
    },
    {
     "name": "stderr",
     "output_type": "stream",
     "text": [
      "objective:   0%|        | 0/1 [00:00<?, ?it/s, now=MaximizeCAI[0-1482]((cust...]\n",
      "location:   0%|                               | 0/473 [00:00<?, ?it/s, now=None]\u001b[A\n",
      "location:   0%|                                | 0/473 [00:00<?, ?it/s, now=3-6]\u001b[A\n",
      "                                                                                \u001b[A\r"
     ]
    },
    {
     "name": "stdout",
     "output_type": "stream",
     "text": [
      "===> TOTAL OBJECTIVES SCORE:         0\n",
      "✔        0 ┍ MaximizeCAI[0-1482]((custom table)) \n",
      "           │ Codon opt. on window 0-1482 scored -0.00E+00\n",
      "\n",
      "\n"
     ]
    },
    {
     "name": "stderr",
     "output_type": "stream",
     "text": [
      "objective:   0%|        | 0/1 [00:00<?, ?it/s, now=MaximizeCAI[0-1503]((cust...]\n",
      "location:   0%|                               | 0/476 [00:00<?, ?it/s, now=None]\u001b[A\n",
      "location:   0%|                                | 0/476 [00:00<?, ?it/s, now=3-6]\u001b[A\n",
      "                                                                                \u001b[A"
     ]
    },
    {
     "name": "stdout",
     "output_type": "stream",
     "text": [
      "===> TOTAL OBJECTIVES SCORE:         0\n",
      "✔        0 ┍ MaximizeCAI[0-1503]((custom table)) \n",
      "           │ Codon opt. on window 0-1503 scored -0.00E+00\n",
      "\n",
      "\n"
     ]
    },
    {
     "name": "stderr",
     "output_type": "stream",
     "text": [
      "\r"
     ]
    }
   ],
   "source": [
    "codon_optimized_seqs = codon_optimize_with_dnachisel(fasta_seqs,codon_usage_table = A_oryzae_rib40 )\n",
    "#codon_optimized_seqs = codon_optimize_with_dnachisel(fasta_seqs,species ='s_cerevisiae' )\n"
   ]
  },
  {
   "cell_type": "code",
   "execution_count": 68,
   "id": "c5d0278e-4bad-4111-96f7-8043ab973617",
   "metadata": {},
   "outputs": [
    {
     "data": {
      "text/plain": [
       "[SeqRecord(seq=Seq('ATGGAGTACTTCACCATGATGTTCACCTTCTTCTTCGCCTTCACCTTCTACGAC...TTC'), id='sp|Q8VWZ7.1|C76B6_CATRO', name='sp|Q8VWZ7.1|C76B6_CATRO', description='sp|Q8VWZ7.1|C76B6_CATRO RecName: Full=Geraniol 8-hydroxylase; AltName: Full=Cytochrome P450 76B6; AltName: Full=Geraniol 10-hydroxylase; Short=CrG10H', dbxrefs=[]),\n",
       " SeqRecord(seq=Seq('ATGGAGTACTTCACCATGACCTTCGGCTTCTTCTTCGCCTTCACCTTCTACCAC...TTC'), id='AGX93053.1', name='AGX93053.1', description='AGX93053.1 geraniol 10-hydroxylase-like protein [Rauvolfia serpentina]', dbxrefs=[]),\n",
       " SeqRecord(seq=Seq('ATGGAGTACTTCACCATGGCCTTCGGCTTCTTCTTCGCCTTCACCTTCTACCAC...TTC'), id='AGX93055.1', name='AGX93055.1', description='AGX93055.1 geraniol 10-hydroxylase-like protein [Vinca minor]', dbxrefs=[]),\n",
       " SeqRecord(seq=Seq('ATGGAGTACTTCACCATGGTGTTCGGCTTCTTCTTCGCCTTCACCTTCTACCAC...TTC'), id='AGX93051.1', name='AGX93051.1', description='AGX93051.1 geraniol 10-hydroxylase-like protein [Cinchona calisaya]', dbxrefs=[]),\n",
       " SeqRecord(seq=Seq('ATGCGGATGTTCGAGTCGGACGTGTCGAACATGTCGACCGACACCGCCCGGCAC...TTC'), id='BAP90522.1', name='BAP90522.1', description='BAP90522.1 geraniol 10-hydroxylase [Ophiorrhiza pumila]', dbxrefs=[]),\n",
       " SeqRecord(seq=Seq('ATGGAGTTCGAGTTCTTCACCATGGCCATGGGCTTCTTCTTCACCATGACCTTC...TTC'), id='sp|D1MI46.1|C76BA_SWEMU', name='sp|D1MI46.1|C76BA_SWEMU', description='sp|D1MI46.1|C76BA_SWEMU RecName: Full=Geraniol 8-hydroxylase; AltName: Full=Cytochrome P450 76B10; AltName: Full=Geraniol 10-hydroxylase; Short=SmG10H', dbxrefs=[]),\n",
       " SeqRecord(seq=Seq('ATGGAGTTCTTCACCATGGTGTTCGGCTTCTTCTTCGCCTTCACCTTCATGCAC...TTC'), id='XP_022858342.1', name='XP_022858342.1', description='XP_022858342.1 geraniol 8-hydroxylase-like [Olea europaea var. sylvestris]', dbxrefs=[]),\n",
       " SeqRecord(seq=Seq('ATGGAGATGATGGAGTTCATGTCGTTCTTCATGATGTTCTTCGGCCAGTTCCAC...ATG'), id='AES93118.1', name='AES93118.1', description='AES93118.1 geraniol-10-hydroxylase [Camptotheca acuminata]', dbxrefs=[])]"
      ]
     },
     "execution_count": 68,
     "metadata": {},
     "output_type": "execute_result"
    }
   ],
   "source": [
    "codon_optimized_seqs"
   ]
  },
  {
   "cell_type": "code",
   "execution_count": 69,
   "id": "3e5c7f40-e8f1-452c-9e53-46ead4275d6c",
   "metadata": {},
   "outputs": [],
   "source": [
    "aa_seq_codon = codon_optimized_seqs[0].translate()"
   ]
  },
  {
   "cell_type": "code",
   "execution_count": 70,
   "id": "de1f6c10-70ce-4cce-9d09-c3371721325c",
   "metadata": {},
   "outputs": [],
   "source": [
    "from Bio.Seq import Seq"
   ]
  },
  {
   "cell_type": "code",
   "execution_count": 71,
   "id": "8cb877ba-2f0e-4682-8f08-b7ab18ff6532",
   "metadata": {},
   "outputs": [
    {
     "data": {
      "text/plain": [
       "'MDYLTIILTLLFALTLYEAFSYLSRRTKNLPPGPSPLPFIGSLHLLGDQPHKSLAKLSKKHGPIMSLKLGQITTIVISSSTMAKEVLQKQDLAFSSRSVPNALHAHNQFKFSVVWLPVASRWRSLRKVLNSNIFSGNRLDANQHLRTRKVQELIAYCRKNSQSGEAVDVGRAAFRTSLNLLSNLIFSKDLTDPYSDSAKEFKDLVWNIMVEAGKPNLVDFFPLLEKVDPQGIRHRMTIHFGEVLKLFGGLVNERLEQRRSKGEKNDVLDVLLTTSQESPEEIDRTHIERMCLDLFVAGTDTTSSTLEWAMSEMLKNPDKMKKTQDELAQVIGRGKTIEESDINRLPYLRCVMKETLRIHPPVPFLIPRKVEQSVEVCGYNVPKGSQVLVNAWAIGRDETVWDDALAFKPERFMESELDIRGRDFELIPFGAGRRICPGLPLALRTVPLMLGSLLNSFNWKLEGGMAPKDLDMEEKFGITLQKAHPLRAVPSTL'"
      ]
     },
     "execution_count": 71,
     "metadata": {},
     "output_type": "execute_result"
    }
   ],
   "source": [
    "first = Seq(str(fasta_seqs[0].seq))\n",
    "aa_seq_original = str(first.translate())\n",
    "aa_seq_original"
   ]
  },
  {
   "cell_type": "code",
   "execution_count": 72,
   "id": "110330fe-c6eb-4c4d-bb6d-53d95cea5da8",
   "metadata": {},
   "outputs": [
    {
     "name": "stdout",
     "output_type": "stream",
     "text": [
      "MDYLTIILTLLFALTLYEAFSYLSRRTKNLPPGPSPLPFIGSLHLLGDQPHKSLAKLSKKHGPIMSLKLGQITTIVISSSTMAKEVLQKQDLAFSSRSVPNALHAHNQFKFSVVWLPVASRWRSLRKVLNSNIFSGNRLDANQHLRTRKVQELIAYCRKNSQSGEAVDVGRAAFRTSLNLLSNLIFSKDLTDPYSDSAKEFKDLVWNIMVEAGKPNLVDFFPLLEKVDPQGIRHRMTIHFGEVLKLFGGLVNERLEQRRSKGEKNDVLDVLLTTSQESPEEIDRTHIERMCLDLFVAGTDTTSSTLEWAMSEMLKNPDKMKKTQDELAQVIGRGKTIEESDINRLPYLRCVMKETLRIHPPVPFLIPRKVEQSVEVCGYNVPKGSQVLVNAWAIGRDETVWDDALAFKPERFMESELDIRGRDFELIPFGAGRRICPGLPLALRTVPLMLGSLLNSFNWKLEGGMAPKDLDMEEKFGITLQKAHPLRAVPSTL\n",
      "MEYFTMMFTFFFAFTFYDAFSYFSRRTNKFPPGPSPFPFMGSFQFFGEHPQNSFANFSNNQGPMMSFNFGHMTTMVMSSSTMANDVFHNHEFAFSSRSVPKAFQAQKHFNFSVVWFPVASRWRSFRNVFKSKMFSGKRFEAKHQFRTRNVHDFMAYWRNKSHSGDAVEVGRAAFRTSFKFFSKFMFSNEFTEPYSESANDFNEFVWKMMVDAGNPKFVEFFPFFDNVEPHGMRQRMTMQFGDVFNFFGGFVKDRFDHRRSNGDNKEVFEVFFTTSHDSPDDMERTQMDRMWFEFFVAGTETTSSTFDWAMSDMFNKPENMNNTHEDFAHVMGRGNTMDDSEMKRFPYFRWVMNDTFRMQPPVPFFMPRNVDHSVDVWGYKVPNGSHVFVKAWAMGREDTVWEEAFAFNPDRFMDSDFEMRGREFDFMPFGAGRRMWPGFPFAFRTVPFMFGSFFKSFKWNFDGGMAPNEFEMDDNFGMTFHNAQPFRAVPSTF\n"
     ]
    }
   ],
   "source": [
    "print(aa_seq_original)\n",
    "print(aa_seq_codon.seq)"
   ]
  },
  {
   "cell_type": "code",
   "execution_count": 73,
   "id": "661596de-4773-4815-8633-3faeca9cd1f6",
   "metadata": {},
   "outputs": [
    {
     "data": {
      "text/plain": [
       "'MEYFTMMFTFFFAFTFYDAFSYFSRRTNKFPPGPSPFPFMGSFQFFGEHPQNSFANFSNNQGPMMSFNFGHMTTMVMSSSTMANDVFHNHEFAFSSRSVPKAFQAQKHFNFSVVWFPVASRWRSFRNVFKSKMFSGKRFEAKHQFRTRNVHDFMAYWRNKSHSGDAVEVGRAAFRTSFKFFSKFMFSNEFTEPYSESANDFNEFVWKMMVDAGNPKFVEFFPFFDNVEPHGMRQRMTMQFGDVFNFFGGFVKDRFDHRRSNGDNKEVFEVFFTTSHDSPDDMERTQMDRMWFEFFVAGTETTSSTFDWAMSDMFNKPENMNNTHEDFAHVMGRGNTMDDSEMKRFPYFRWVMNDTFRMQPPVPFFMPRNVDHSVDVWGYKVPNGSHVFVKAWAMGREDTVWEEAFAFNPDRFMDSDFEMRGREFDFMPFGAGRRMWPGFPFAFRTVPFMFGSFFKSFKWNFDGGMAPNEFEMDDNFGMTFHNAQPFRAVPSTF'"
      ]
     },
     "execution_count": 73,
     "metadata": {},
     "output_type": "execute_result"
    }
   ],
   "source": [
    "str(aa_seq_codon.seq)"
   ]
  },
  {
   "cell_type": "code",
   "execution_count": 74,
   "id": "e52838e4-a39e-4745-8a2d-309ca832c779",
   "metadata": {},
   "outputs": [
    {
     "data": {
      "text/plain": [
       "False"
      ]
     },
     "execution_count": 74,
     "metadata": {},
     "output_type": "execute_result"
    }
   ],
   "source": [
    "str(aa_seq_original) ==  str(aa_seq_codon.seq)"
   ]
  },
  {
   "cell_type": "code",
   "execution_count": 58,
   "id": "1ded9bc9-fef6-4037-9d7a-fde34a0d88cc",
   "metadata": {},
   "outputs": [
    {
     "ename": "TypeError",
     "evalue": "translate() takes no keyword arguments",
     "output_type": "error",
     "traceback": [
      "\u001b[0;31m---------------------------------------------------------------------------\u001b[0m",
      "\u001b[0;31mTypeError\u001b[0m                                 Traceback (most recent call last)",
      "Input \u001b[0;32mIn [58]\u001b[0m, in \u001b[0;36m<cell line: 1>\u001b[0;34m()\u001b[0m\n\u001b[0;32m----> 1\u001b[0m \u001b[43mSeqRecord\u001b[49m\u001b[43m(\u001b[49m\u001b[38;5;28;43mstr\u001b[39;49m\u001b[43m(\u001b[49m\u001b[43mfasta_seqs\u001b[49m\u001b[43m[\u001b[49m\u001b[38;5;241;43m0\u001b[39;49m\u001b[43m]\u001b[49m\u001b[38;5;241;43m.\u001b[39;49m\u001b[43mseq\u001b[49m\u001b[43m)\u001b[49m\u001b[43m)\u001b[49m\u001b[38;5;241;43m.\u001b[39;49m\u001b[43mtranslate\u001b[49m\u001b[43m(\u001b[49m\u001b[43m)\u001b[49m\n",
      "File \u001b[0;32m~/opt/anaconda3/envs/constrain/lib/python3.8/site-packages/Bio/SeqRecord.py:1326\u001b[0m, in \u001b[0;36mSeqRecord.translate\u001b[0;34m(self, table, stop_symbol, to_stop, cds, gap, id, name, description, features, annotations, letter_annotations, dbxrefs)\u001b[0m\n\u001b[1;32m   1323\u001b[0m \u001b[38;5;28;01mif\u001b[39;00m \u001b[38;5;124m\"\u001b[39m\u001b[38;5;124mprotein\u001b[39m\u001b[38;5;124m\"\u001b[39m \u001b[38;5;241m==\u001b[39m \u001b[38;5;28mself\u001b[39m\u001b[38;5;241m.\u001b[39mannotations\u001b[38;5;241m.\u001b[39mget(\u001b[38;5;124m\"\u001b[39m\u001b[38;5;124mmolecule_type\u001b[39m\u001b[38;5;124m\"\u001b[39m, \u001b[38;5;124m\"\u001b[39m\u001b[38;5;124m\"\u001b[39m):\n\u001b[1;32m   1324\u001b[0m     \u001b[38;5;28;01mraise\u001b[39;00m \u001b[38;5;167;01mValueError\u001b[39;00m(\u001b[38;5;124m\"\u001b[39m\u001b[38;5;124mProteins cannot be translated!\u001b[39m\u001b[38;5;124m\"\u001b[39m)\n\u001b[1;32m   1325\u001b[0m answer \u001b[38;5;241m=\u001b[39m SeqRecord(\n\u001b[0;32m-> 1326\u001b[0m     \u001b[38;5;28;43mself\u001b[39;49m\u001b[38;5;241;43m.\u001b[39;49m\u001b[43mseq\u001b[49m\u001b[38;5;241;43m.\u001b[39;49m\u001b[43mtranslate\u001b[49m\u001b[43m(\u001b[49m\n\u001b[1;32m   1327\u001b[0m \u001b[43m        \u001b[49m\u001b[43mtable\u001b[49m\u001b[38;5;241;43m=\u001b[39;49m\u001b[43mtable\u001b[49m\u001b[43m,\u001b[49m\u001b[43m \u001b[49m\u001b[43mstop_symbol\u001b[49m\u001b[38;5;241;43m=\u001b[39;49m\u001b[43mstop_symbol\u001b[49m\u001b[43m,\u001b[49m\u001b[43m \u001b[49m\u001b[43mto_stop\u001b[49m\u001b[38;5;241;43m=\u001b[39;49m\u001b[43mto_stop\u001b[49m\u001b[43m,\u001b[49m\u001b[43m \u001b[49m\u001b[43mcds\u001b[49m\u001b[38;5;241;43m=\u001b[39;49m\u001b[43mcds\u001b[49m\u001b[43m,\u001b[49m\u001b[43m \u001b[49m\u001b[43mgap\u001b[49m\u001b[38;5;241;43m=\u001b[39;49m\u001b[43mgap\u001b[49m\n\u001b[1;32m   1328\u001b[0m \u001b[43m    \u001b[49m\u001b[43m)\u001b[49m\n\u001b[1;32m   1329\u001b[0m )\n\u001b[1;32m   1330\u001b[0m \u001b[38;5;28;01mif\u001b[39;00m \u001b[38;5;28misinstance\u001b[39m(\u001b[38;5;28mid\u001b[39m, \u001b[38;5;28mstr\u001b[39m):\n\u001b[1;32m   1331\u001b[0m     answer\u001b[38;5;241m.\u001b[39mid \u001b[38;5;241m=\u001b[39m \u001b[38;5;28mid\u001b[39m\n",
      "\u001b[0;31mTypeError\u001b[0m: translate() takes no keyword arguments"
     ]
    }
   ],
   "source": [
    "SeqRecord(str(fasta_seqs[0].seq)).translate()"
   ]
  },
  {
   "cell_type": "code",
   "execution_count": 92,
   "id": "47ea51df-24c4-4653-b1f2-a5fb8a6a7e56",
   "metadata": {},
   "outputs": [],
   "source": [
    "my_seq = 'ATGTTTGGGAAA'"
   ]
  },
  {
   "cell_type": "code",
   "execution_count": 91,
   "id": "8149fa50-aec9-4ba2-8fc6-353028f66cc2",
   "metadata": {},
   "outputs": [
    {
     "data": {
      "text/plain": [
       "Seq('MFGK')"
      ]
     },
     "execution_count": 91,
     "metadata": {},
     "output_type": "execute_result"
    }
   ],
   "source": [
    "Seq(my_seq).translate()"
   ]
  },
  {
   "cell_type": "code",
   "execution_count": 100,
   "id": "7a9b4975-8175-42e3-95c3-7f4fd4e0cffb",
   "metadata": {},
   "outputs": [
    {
     "name": "stderr",
     "output_type": "stream",
     "text": [
      "objective:   0%|        | 0/1 [00:00<?, ?it/s, now=MaximizeCAI[0-12]((custom...]\n",
      "location:   0%|                                 | 0/3 [00:00<?, ?it/s, now=None]\u001b[A\n",
      "location:   0%|                                  | 0/3 [00:00<?, ?it/s, now=3-6]\u001b[A\n",
      "                                                                                \u001b[A"
     ]
    },
    {
     "name": "stdout",
     "output_type": "stream",
     "text": [
      "===> TOTAL OBJECTIVES SCORE:         0\n",
      "✔        0 ┍ MaximizeCAI[0-12]((custom table)) \n",
      "           │ Codon opt. on window 0-12 scored -0.00E+00\n",
      "\n",
      "\n"
     ]
    },
    {
     "name": "stderr",
     "output_type": "stream",
     "text": [
      "\r"
     ]
    }
   ],
   "source": [
    "from dnachisel import *\n",
    "\n",
    "# DEFINE THE OPTIMIZATION PROBLEM\n",
    "\n",
    "problem = DnaOptimizationProblem(\n",
    "    sequence=my_seq, objectives=[CodonOptimize(codon_usage_table=aspergillus_oryzae, method='use_best_codon')])\n",
    "\n",
    "# SOLVE THE CONSTRAINTS, OPTIMIZE WITH RESPECT TO THE OBJECTIVE\n",
    "\n",
    "problem.resolve_constraints()\n",
    "problem.optimize()\n",
    "\n",
    "# PRINT SUMMARIES TO CHECK THAT CONSTRAINTS PASS\n",
    "\n",
    "#print(problem.constraints_text_summary())\n",
    "print(problem.objectives_text_summary())\n",
    "\n",
    "# GET THE FINAL SEQUENCE (AS STRING OR ANNOTATED BIOPYTHON RECORDS)\n",
    "\n",
    "final_sequence = problem.sequence  # string"
   ]
  },
  {
   "cell_type": "code",
   "execution_count": 101,
   "id": "28bb246f-b6cf-4d9b-a437-ec89e7411503",
   "metadata": {},
   "outputs": [
    {
     "data": {
      "text/plain": [
       "'ATGTTCGGCAAC'"
      ]
     },
     "execution_count": 101,
     "metadata": {},
     "output_type": "execute_result"
    }
   ],
   "source": [
    "final_sequence"
   ]
  },
  {
   "cell_type": "code",
   "execution_count": 102,
   "id": "b2c1f6f0-cda7-43d4-b0a5-7cdcc962462b",
   "metadata": {},
   "outputs": [
    {
     "data": {
      "text/plain": [
       "Seq('MFGN')"
      ]
     },
     "execution_count": 102,
     "metadata": {},
     "output_type": "execute_result"
    }
   ],
   "source": [
    "Seq(final_sequence).translate()"
   ]
  },
  {
   "cell_type": "code",
   "execution_count": 93,
   "id": "04b44558-efd6-4e85-8ab1-3042f7198ff4",
   "metadata": {
    "tags": []
   },
   "outputs": [
    {
     "name": "stdout",
     "output_type": "stream",
     "text": [
      "Available tables: ['b_subtilis_1423', 'd_melanogaster_7227', 'm_musculus_domesticus_10092', 'm_musculus_10090', 'e_coli_316407', 'g_gallus_9031', 'c_elegans_6239', 's_cerevisiae_4932', 'h_sapiens_9606']\n",
      "0.4\n",
      "0.61\n",
      "0.09\n"
     ]
    }
   ],
   "source": [
    "import python_codon_tables as pct\n",
    "\n",
    "# PRINT THE LIST OF NAMES OF ALL AVAILABLE TABLES\n",
    "print(\"Available tables:\", pct.available_codon_tables_names)\n",
    "\n",
    "# LOAD ONE TABLE BY NAME\n",
    "table = pct.get_codons_table(\"b_subtilis_1423\")\n",
    "print(table[\"T\"][\"ACA\"])  # returns 0.4\n",
    "print(table[\"*\"][\"TAA\"])  # returns 0.61\n",
    "\n",
    "\n",
    "# LOAD ALL TABLES AT ONCE\n",
    "codon_tables = pct.get_all_available_codons_tables()\n",
    "print(codon_tables[\"c_elegans_6239\"][\"L\"][\"CTA\"])  # returns 0.09"
   ]
  },
  {
   "cell_type": "code",
   "execution_count": 94,
   "id": "00984e42-209c-430e-9ef7-6b502b06b50c",
   "metadata": {},
   "outputs": [],
   "source": [
    "from python_codon_tables import get_codons_table"
   ]
  },
  {
   "cell_type": "code",
   "execution_count": 99,
   "id": "6458a9d0-0208-4fa7-9c53-4197807bc756",
   "metadata": {},
   "outputs": [
    {
     "data": {
      "text/plain": [
       "{'*': {'TAA': 0.33, 'TAG': 0.29, 'TGA': 0.38},\n",
       " 'A': {'GCA': 0.23, 'GCC': 0.3, 'GCG': 0.2, 'GCT': 0.27},\n",
       " 'C': {'TGC': 0.54, 'TGT': 0.46},\n",
       " 'D': {'GAC': 0.47, 'GAT': 0.53},\n",
       " 'E': {'GAA': 0.44, 'GAG': 0.56},\n",
       " 'F': {'TTC': 0.62, 'TTT': 0.38},\n",
       " 'G': {'GGA': 0.24, 'GGC': 0.31, 'GGG': 0.17, 'GGT': 0.28},\n",
       " 'H': {'CAC': 0.47, 'CAT': 0.53},\n",
       " 'I': {'ATA': 0.14, 'ATC': 0.5, 'ATT': 0.36},\n",
       " 'K': {'AAA': 0.36, 'AAG': 0.64},\n",
       " 'L': {'CTA': 0.11,\n",
       "  'CTC': 0.23,\n",
       "  'CTG': 0.22,\n",
       "  'CTT': 0.19,\n",
       "  'TTA': 0.07,\n",
       "  'TTG': 0.18},\n",
       " 'M': {'ATG': 1.0},\n",
       " 'N': {'AAC': 0.55, 'AAT': 0.45},\n",
       " 'P': {'CCA': 0.25, 'CCC': 0.26, 'CCG': 0.22, 'CCT': 0.27},\n",
       " 'Q': {'CAA': 0.43, 'CAG': 0.57},\n",
       " 'R': {'AGA': 0.13,\n",
       "  'AGG': 0.12,\n",
       "  'CGA': 0.17,\n",
       "  'CGC': 0.23,\n",
       "  'CGG': 0.18,\n",
       "  'CGT': 0.18},\n",
       " 'S': {'AGC': 0.18,\n",
       "  'AGT': 0.13,\n",
       "  'TCA': 0.14,\n",
       "  'TCC': 0.2,\n",
       "  'TCG': 0.16,\n",
       "  'TCT': 0.18},\n",
       " 'T': {'ACA': 0.23, 'ACC': 0.32, 'ACG': 0.2, 'ACT': 0.24},\n",
       " 'V': {'GTA': 0.13, 'GTC': 0.33, 'GTG': 0.27, 'GTT': 0.27},\n",
       " 'W': {'TGG': 1.0},\n",
       " 'Y': {'TAC': 0.53, 'TAT': 0.47}}"
      ]
     },
     "execution_count": 99,
     "metadata": {},
     "output_type": "execute_result"
    }
   ],
   "source": [
    "from python_codon_tables import get_codons_table\n",
    "aspergillus_oryzae = get_codons_table(5062) # aspergillus taxid = 5062\n",
    "aspergillus_oryzae"
   ]
  },
  {
   "cell_type": "code",
   "execution_count": null,
   "id": "e364f220-1473-4f57-99d0-a13ac4a55aeb",
   "metadata": {},
   "outputs": [],
   "source": []
  }
 ],
 "metadata": {
  "kernelspec": {
   "display_name": "Python 3 (ipykernel)",
   "language": "python",
   "name": "python3"
  },
  "language_info": {
   "codemirror_mode": {
    "name": "ipython",
    "version": 3
   },
   "file_extension": ".py",
   "mimetype": "text/x-python",
   "name": "python",
   "nbconvert_exporter": "python",
   "pygments_lexer": "ipython3",
   "version": "3.8.13"
  }
 },
 "nbformat": 4,
 "nbformat_minor": 5
}
